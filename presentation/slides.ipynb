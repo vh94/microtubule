{
 "cells": [
  {
   "cell_type": "code",
   "execution_count": 7,
   "metadata": {},
   "outputs": [],
   "source": [
    "using Agents    \n",
    "using Distributions # \n",
    "using DrWatson: @dict #  model params, runtime, plotting\n",
    "\n",
    "include(\"analysis_funs.jl\")\n",
    "include(\"init.jl\")\n",
    "include(\"modelstep.jl\")\n",
    "include(\"agentstep_pretty.jl\")\n",
    "include(\"agent.jl\")\n"
   ]
  },
  {
   "cell_type": "markdown",
   "metadata": {
    "slideshow": {
     "slide_type": "slide"
    }
   },
   "source": [
    "# Microtubule Dynamics \n",
    "## - an agent-based approach -\n",
    "\n",
    "_Praktikumsbericht Master F1 Bioinfo CCTB - CSI ; Prof. Fischer_"
   ]
  },
  {
   "cell_type": "markdown",
   "metadata": {
    "slideshow": {
     "slide_type": "slide"
    }
   },
   "source": [
    "## Polymerization of Microtubules\n"
   ]
  },
  {
   "cell_type": "markdown",
   "metadata": {
    "slideshow": {
     "slide_type": "subslide"
    }
   },
   "source": [
    "\n",
    "![](zeeberg.png)\n",
    "\n",
    "_Zeeberg, B. et al. 1980 : Incorporation of radioactive tubulin into microtubules at steady state. Experimental and theoretical analyses of diffusional and directional flux. Journal of Biological Chemistry, Volume 255, Issue 20, 9891 - 9899_\n"
   ]
  },
  {
   "cell_type": "markdown",
   "metadata": {
    "slideshow": {
     "slide_type": "subslide"
    }
   },
   "source": [
    "\n",
    "![text](microtubule.gif)\n",
    "\n",
    "_Roostalu et al 2020 : EB3 binds to the growing ends of human wildtype microtubules._"
   ]
  },
  {
   "cell_type": "markdown",
   "metadata": {
    "slideshow": {
     "slide_type": "subslide"
    }
   },
   "source": [
    "## Microtubules are crucial for:\n",
    " - Mitosis: -> Anaphase B: chromosome segregation \n",
    " - Intracellular transportation: Kinesin\n",
    " - Cell structure (cytosceleton) and motility (taxis: Flagella)\n",
    " "
   ]
  },
  {
   "cell_type": "markdown",
   "metadata": {
    "slideshow": {
     "slide_type": "subslide"
    }
   },
   "source": [
    "![mtrack](Mtrack.png)\n",
    "\n",
    "\n",
    "_Kapoor, V., Hirst, W.G., Hentschel, C. et al. MTrack: Automated Detection, Tracking, and Analysis of Dynamic Microtubules. Sci Rep 9, 3794 (2019)_"
   ]
  },
  {
   "cell_type": "markdown",
   "metadata": {
    "slideshow": {
     "slide_type": "subslide"
    }
   },
   "source": [
    "\n",
    "Tubulin heterodimer\n",
    "\\beta  tubulin: GTP\n",
    "\\alpha tubulin: GDP\n",
    "\n",
    "\n",
    "\n",
    "![betatub](https://upload.wikimedia.org/wikipedia/commons/thumb/5/56/1jff.jpg/602px-1jff.jpg)\n",
    "\n",
    "_Tubulin AB heterodimer + GTP (green-red-blue) + GDP (l.blue-red-blue) + taxol (purple-red) + Zn (cherry) + Mg (l.blue), Bos taurus_\n",
    "\n",
    "&#13252; wikimedia"
   ]
  },
  {
   "cell_type": "markdown",
   "metadata": {
    "slideshow": {
     "slide_type": "subslide"
    }
   },
   "source": [
    "## Origins of MT dyamics\n",
    "\n",
    "\n",
    "\n",
    "\n",
    "Microtubule associated Proteins (MAP'S) eg. _EB3_\n",
    "\n",
    "\n",
    "GTP hydrolysis determines GTP cap size\n",
    "\n",
    "\n",
    "\n",
    "\n",
    "Protofilament\n",
    "+,- End\n",
    "\n",
    "\n"
   ]
  },
  {
   "cell_type": "markdown",
   "metadata": {
    "slideshow": {
     "slide_type": "slide"
    }
   },
   "source": [
    "## Model\n",
    "\n",
    "- Agent Based\n",
    "- space: 2D Gridspace with periodic boundarys"
   ]
  },
  {
   "cell_type": "markdown",
   "metadata": {
    "slideshow": {
     "slide_type": "subslide"
    }
   },
   "source": [
    "### Model initialisation"
   ]
  },
  {
   "cell_type": "code",
   "execution_count": 8,
   "metadata": {
    "slideshow": {
     "slide_type": "fragment"
    }
   },
   "outputs": [
    {
     "data": {
      "text/plain": [
       "AgentBasedModel with 1003 agents of type tubulin\n",
       " space: GridSpace with size (100, 100), metric=chebyshev, periodic=true\n",
       " scheduler: randomly\n",
       " properties: tick, griddims, P_hyd, p_depolym_GDP, Nstarts, P_depolym_GTP, P_depolym_GDP, p_polym, p_hyd, p_depolym_GTP, numagents, P_polym"
      ]
     },
     "execution_count": 8,
     "metadata": {},
     "output_type": "execute_result"
    }
   ],
   "source": [
    "model = initialize(\n",
    "    griddims =(100,100),\n",
    "    periodic= true,\n",
    "    Nstarts=3,\n",
    "    numagents = 1000,\n",
    "    p_polym=0.70,\n",
    "    p_hyd= 0.02,\n",
    "    p_depolym_GTP=0,\n",
    "    p_depolym_GDP=0.1)"
   ]
  },
  {
   "cell_type": "code",
   "execution_count": 10,
   "metadata": {
    "slideshow": {
     "slide_type": "subslide"
    }
   },
   "outputs": [
    {
     "data": {
      "text/plain": [
       "Dict{Int64, tubulin} with 1003 entries:\n",
       "  719 => tubulin(719, (47, 99), 0, false)\n",
       "  699 => tubulin(699, (14, 51), 0, false)\n",
       "  831 => tubulin(831, (97, 68), 0, false)\n",
       "  319 => tubulin(319, (10, 67), 0, false)\n",
       "  687 => tubulin(687, (65, 15), 0, false)\n",
       "  185 => tubulin(185, (46, 88), 0, false)\n",
       "  823 => tubulin(823, (48, 73), 0, false)\n",
       "  420 => tubulin(420, (43, 98), 0, false)\n",
       "  525 => tubulin(525, (8, 58), 0, false)\n",
       "  365 => tubulin(365, (43, 19), 0, false)\n",
       "  638 => tubulin(638, (70, 53), 0, false)\n",
       "  263 => tubulin(263, (37, 55), 0, false)\n",
       "  422 => tubulin(422, (29, 27), 0, false)\n",
       "  242 => tubulin(242, (72, 71), 0, false)\n",
       "  183 => tubulin(183, (51, 73), 0, false)\n",
       "  551 => tubulin(551, (76, 33), 0, false)\n",
       "  224 => tubulin(224, (89, 21), 0, false)\n",
       "  694 => tubulin(694, (66, 50), 0, false)\n",
       "  692 => tubulin(692, (29, 52), 0, false)\n",
       "  177 => tubulin(177, (3, 88), 0, false)\n",
       "  676 => tubulin(676, (12, 1), 0, false)\n",
       "  637 => tubulin(637, (66, 24), 0, false)\n",
       "  730 => tubulin(730, (49, 10), 0, false)\n",
       "  523 => tubulin(523, (70, 40), 0, false)\n",
       "  802 => tubulin(802, (9, 37), 0, false)\n",
       "  ⋮   => ⋮"
      ]
     },
     "execution_count": 10,
     "metadata": {},
     "output_type": "execute_result"
    }
   ],
   "source": [
    "model.agents"
   ]
  },
  {
   "cell_type": "code",
   "execution_count": 17,
   "metadata": {
    "slideshow": {
     "slide_type": "subslide"
    }
   },
   "outputs": [
    {
     "data": {
      "text/plain": [
       "Dict{Symbol, Any} with 12 entries:\n",
       "  :tick          => 0\n",
       "  :griddims      => (100, 100)\n",
       "  :P_hyd         => Binomial{Float64}(n=1, p=0.02)\n",
       "  :p_depolym_GDP => 0.1\n",
       "  :Nstarts       => 3\n",
       "  :P_depolym_GTP => Binomial{Float64}(n=1, p=1.0)\n",
       "  :P_depolym_GDP => Binomial{Float64}(n=1, p=0.9)\n",
       "  :p_polym       => 0.7\n",
       "  :p_hyd         => 0.02\n",
       "  :p_depolym_GTP => 0\n",
       "  :numagents     => 1000\n",
       "  :P_polym       => Binomial{Float64}(n=1, p=0.7)"
      ]
     },
     "execution_count": 17,
     "metadata": {},
     "output_type": "execute_result"
    }
   ],
   "source": [
    "model.properties"
   ]
  },
  {
   "cell_type": "markdown",
   "metadata": {
    "slideshow": {
     "slide_type": "subslide"
    }
   },
   "source": [
    "### Model Propagation:"
   ]
  },
  {
   "cell_type": "markdown",
   "metadata": {
    "slideshow": {
     "slide_type": "subslide"
    }
   },
   "source": [
    "#### Agent - Step"
   ]
  },
  {
   "cell_type": "markdown",
   "metadata": {
    "slideshow": {
     "slide_type": "fragment"
    }
   },
   "source": [
    "    -Diffuse (random walk)\n",
    "    -Polymerize to the Protofilament  (only one end)\n",
    "    -Hydrolize from GTP to GDP\n",
    "    -Depolymerize from the Protofilament"
   ]
  },
  {
   "cell_type": "code",
   "execution_count": null,
   "metadata": {
    "slideshow": {
     "slide_type": "subslide"
    }
   },
   "outputs": [],
   "source": [
    "#= Agent Step function =#\n",
    "function agent_step!(agent,model)\n",
    "   if agent.id > model.Nstarts   \n",
    "    if agent.polym == 0          \n",
    "        walk!(agent, rand, model, ifempty =true)   \n",
    "        for id in nearby_ids(agent, model,1)       \n",
    "            if model[id].polym >= 1  && model[id].pos == collect(nearby_positions(agent, model,1))[8]  \n",
    "                agent.polym = rand(model.P_polym,1)[1] == 1 ? model[id].polym : 0\n",
    "            end\n",
    "        end\n",
    "    end\n",
    "    if agent.polym > 0             \n",
    "        if agent.GDP == false                  \n",
    "            agent.GDP = rand(model.P_hyd,1)[1]     \n",
    "        end\n",
    "        if isempty(collect(nearby_positions(agent, model,1))[1], model) \n",
    "            if agent.GDP \n",
    "                agent.polym = rand(model.P_depolym_GDP,1)[1]== 1  ? agent.polym : 0\n",
    "            else\n",
    "                agent.polym = rand(model.P_depolym_GTP,1)[1]== 1  ? agent.polym : 0 \n",
    "            end\n",
    "        end\n",
    "     end\n",
    "   end\n",
    "end"
   ]
  },
  {
   "cell_type": "markdown",
   "metadata": {
    "slideshow": {
     "slide_type": "subslide"
    }
   },
   "source": [
    "#### Model -Step"
   ]
  },
  {
   "cell_type": "code",
   "execution_count": null,
   "metadata": {
    "slideshow": {
     "slide_type": "fragment"
    }
   },
   "outputs": [],
   "source": [
    "#= Model Step function =#\n",
    "function model_step!(model)\n",
    "    model.tick += 1\n",
    "    model.P_hyd = Binomial(1,model.p_hyd)                     \n",
    "    model.P_polym = Binomial(1,model.p_polym)                 \n",
    "    model.P_depolym_GTP = Binomial(1,1-model.p_depolym_GTP)  \n",
    "    model.P_depolym_GDP = Binomial(1,1-model.p_depolym_GDP)    \n",
    "end"
   ]
  },
  {
   "cell_type": "markdown",
   "metadata": {
    "slideshow": {
     "slide_type": "slide"
    }
   },
   "source": [
    "# Results"
   ]
  },
  {
   "cell_type": "markdown",
   "metadata": {
    "slideshow": {
     "slide_type": "subslide"
    }
   },
   "source": [
    "##  Visualisation\n",
    "\n",
    "\n",
    "![interactive](interactive.png)"
   ]
  },
  {
   "cell_type": "markdown",
   "metadata": {
    "slideshow": {
     "slide_type": "subslide"
    }
   },
   "source": [
    "## Microtubule size over Time\n",
    "\n",
    "![gif](MT1_5.gif)"
   ]
  },
  {
   "cell_type": "markdown",
   "metadata": {
    "slideshow": {
     "slide_type": "slide"
    }
   },
   "source": [
    "## Ensemble\n",
    "\n",
    "Ensemble of several models with 5 different \"treatments\", defined by  \n",
    "variable GTP => DGP hydralidsation-rates (0.015, 0.02, 0.025, 0.03, 0.035) with a samplesize of 30 for each treatment.\n",
    "\n",
    "Each model has 5 starting points."
   ]
  },
  {
   "cell_type": "markdown",
   "metadata": {
    "slideshow": {
     "slide_type": "slide"
    }
   },
   "source": [
    "## GTP hydrolysis speed\n"
   ]
  },
  {
   "cell_type": "markdown",
   "metadata": {
    "slideshow": {
     "slide_type": "subslide"
    }
   },
   "source": [
    "\n",
    "![ens](ensemble.png)"
   ]
  },
  {
   "cell_type": "markdown",
   "metadata": {
    "slideshow": {
     "slide_type": "slide"
    }
   },
   "source": [
    "# Subsequent thoughts:"
   ]
  },
  {
   "cell_type": "markdown",
   "metadata": {
    "slideshow": {
     "slide_type": "fragment"
    }
   },
   "source": [
    "Model Verification and Validation\n",
    "Mtrack Stuff \n",
    "Implement seeds, RNG and parallelization \n",
    "MAP's\n",
    "\n",
    "3d rugged clear ends\n",
    "\n",
    "skating"
   ]
  },
  {
   "cell_type": "markdown",
   "metadata": {
    "slideshow": {
     "slide_type": "slide"
    }
   },
   "source": [
    "## Github\n",
    "\n",
    "https://nbviewer.org/github/vh94/microtubule/blob/main/microtubule.ipynb\n",
    "\n",
    "https://github.com/vh94/microtubule"
   ]
  }
 ],
 "metadata": {
  "celltoolbar": "Slideshow",
  "kernelspec": {
   "display_name": "Julia 1.6.2",
   "language": "julia",
   "name": "julia-1.6"
  },
  "language_info": {
   "file_extension": ".jl",
   "mimetype": "application/julia",
   "name": "julia",
   "version": "1.6.2"
  }
 },
 "nbformat": 4,
 "nbformat_minor": 4
}
