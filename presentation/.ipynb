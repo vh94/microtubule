{
 "cells": [
  {
   "cell_type": "markdown",
   "metadata": {
    "slideshow": {
     "slide_type": "slide"
    }
   },
   "source": [
    "# Mictrotubule Dynamics \n",
    "## - an agent-based approach -"
   ]
  },
  {
   "cell_type": "markdown",
   "metadata": {
    "slideshow": {
     "slide_type": "subslide"
    }
   },
   "source": [
    "![text](microtubule.gif)\n",
    "\n",
    "EB3 binds to the growing ends of human wildtype microtubules.\n",
    "\n",
    "iSCAT/TIRF microscopy time-lapse movie of unlabeled wildtype microtubules (magenta) growing from immobilized stable microtubule seeds in the presence of 12 µM human wildtype tubulin and 20 nM human mGFP-EB3 (green) at 30°C. Scale bar is 5 µm. Time stamp is in min:s.\n"
   ]
  }
 ],
 "metadata": {
  "celltoolbar": "Slideshow",
  "kernelspec": {
   "display_name": "Julia 1.6.2",
   "language": "julia",
   "name": "julia-1.6"
  },
  "language_info": {
   "file_extension": ".jl",
   "mimetype": "application/julia",
   "name": "julia",
   "version": "1.6.2"
  }
 },
 "nbformat": 4,
 "nbformat_minor": 4
}
