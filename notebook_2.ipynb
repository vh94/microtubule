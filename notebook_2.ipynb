{
 "cells": [
  {
   "cell_type": "code",
   "execution_count": null,
   "metadata": {},
   "outputs": [],
   "source": [
    "dirs = ((0,1),(1,1),(1,-1),(1,0),(-1,0),(-1,-1))"
   ]
  },
  {
   "cell_type": "code",
   "execution_count": null,
   "metadata": {},
   "outputs": [],
   "source": [
    " "
   ]
  },
  {
   "cell_type": "code",
   "execution_count": 41,
   "metadata": {},
   "outputs": [
    {
     "data": {
      "text/plain": [
       "agent_step! (generic function with 1 method)"
      ]
     },
     "execution_count": 41,
     "metadata": {},
     "output_type": "execute_result"
    }
   ],
   "source": [
    "#= Main Function to initialize the model=#\n",
    "\n",
    "using Agents\n",
    "using Distributions\n",
    "using DrWatson: @dict\n",
    "\n",
    "include(\"Polimerize.jl\")\n",
    "# Periodic agent step function\n",
    " # TODO: bounce check für agenten in eigene funktion aussiedeln\n",
    "function agent_step!(agent,model)  \n",
    "if agent.id > model.Nstarts\n",
    "    if agent.polym == 0   # Logic for unpolymerized agents:    \n",
    "            walk!(agent, rand, model, ifempty =true)\n",
    "            polimerize(agent,model) \n",
    "        end\n",
    "    if agent.polym > 0 # Logic for polymerized agents:    \n",
    "        if agent.GDP == false   # if not hydrolized\n",
    "            agent.GDP = rand(model.P_hyd,1)[1] # hydrolize with P_hyd\n",
    "            end\n",
    "           depolymerize(agent,model)\n",
    "        end\n",
    "     end\n",
    "end"
   ]
  },
  {
   "cell_type": "code",
   "execution_count": 84,
   "metadata": {},
   "outputs": [
    {
     "data": {
      "text/plain": [
       "model_step! (generic function with 1 method)"
      ]
     },
     "execution_count": 84,
     "metadata": {},
     "output_type": "execute_result"
    }
   ],
   "source": [
    "# model-Step func:\n",
    "function model_step!(model)\n",
    "    model.tick += 1\n",
    "    model.P_hyd = Binomial(1,model.p_hyd)                      # Prob to hydrolize from GTP to GDP: \n",
    "    model.P_polym = Binomial(1,model.p_polym)                  # Prob to Polymerize/bind to the microtuble \n",
    "    model.P_depolym_GTP = Binomial(1,1-model.p_depolym_GTP)    # Prob to depolimerize if not hydrolized (GTP - tubulin) = lower\n",
    "    model.P_depolym_GDP = Binomial(1,1-model.p_depolym_GDP)    # Prob to depolimerize if hydrolized (GDP - tubulin) = higher\n",
    "    \n",
    "end"
   ]
  },
  {
   "cell_type": "code",
   "execution_count": 43,
   "metadata": {},
   "outputs": [],
   "source": [
    "@agent tubulin GridAgent{2} begin\n",
    "    polym::Int64\n",
    "    GDP::Bool\n",
    "    # Plus::Int64\n",
    "end"
   ]
  },
  {
   "cell_type": "code",
   "execution_count": 85,
   "metadata": {},
   "outputs": [
    {
     "data": {
      "text/plain": [
       "initialize (generic function with 1 method)"
      ]
     },
     "execution_count": 85,
     "metadata": {},
     "output_type": "execute_result"
    }
   ],
   "source": [
    "function initialize(;Nstarts, numagents, periodic,\n",
    "                        griddims, p_hyd,  p_polym,\n",
    "                        p_depolym_GTP,p_depolym_GDP)\n",
    "   \n",
    "    P_hyd = Binomial(1,p_hyd)                      # Prob to hydrolize from GTP to GDP: \n",
    "    P_polym = Binomial(1,p_polym)                  # Prob to Polymerize/bind to the microtuble \n",
    "    P_depolym_GTP = Binomial(1,1-p_depolym_GTP)    # Prob to depolimerize if not hydrolized (GTP - tubulin) = lower\n",
    "    P_depolym_GDP = Binomial(1,1-p_depolym_GDP)    # Prob to depolimerize if hydrolized (GDP - tubulin) = higher\n",
    "   # properties = Dict(:griddims=> griddims, :periodic=>periodic, :numagents => numagents,  # Dictionary containing \n",
    "    #                :Nstarts => Nstarts, :p_hyd => p_hyd,:p_polym => p_polym,              # model properties\n",
    "     #               :p_depolym_GTP => p_depolym_GTP,:p_depolym_GDP => p_depolym_GDP,\n",
    "     #               :P_hyd => P_hyd,:P_polym=> P_polym, :P_depolym_GTP=>  P_depolym_GTP,\n",
    "        #            :P_depolym_GDP=> P_depolym_GDP)\n",
    "    \n",
    "    properties = @dict griddims numagents Nstarts p_depolym_GTP p_depolym_GDP p_polym p_hyd P_hyd P_polym  P_depolym_GTP  P_depolym_GDP\n",
    "    properties[:tick] = 0\n",
    "    \n",
    "    space = GridSpace(griddims, periodic= periodic) # initialize Gridspace\n",
    "    \n",
    "    model = ABM(tubulin, space;                     # create model\n",
    "        scheduler = Schedulers.randomly,\n",
    "        properties = properties )\n",
    "    \n",
    "    id = 0# populize Space ->\n",
    "    for _ in 1:Nstarts # Startingpoints:\n",
    "        id += 1\n",
    "        agent =  tubulin(id,griddims./2,id,false)\n",
    "        if id == 1\n",
    "            add_agent_pos!(agent,model)\n",
    "        else\n",
    "            add_agent_single!(agent,model) # add additional startingpoints to random positions \n",
    "        end\n",
    "    end\n",
    "    for _ in 1:numagents \n",
    "        id += 1\n",
    "        agent =  tubulin(id,(1,1),0,false)\n",
    "        add_agent_single!(agent,model) # add agents to random positions\n",
    "    end\n",
    "    return model\n",
    "end"
   ]
  },
  {
   "cell_type": "code",
   "execution_count": 108,
   "metadata": {},
   "outputs": [
    {
     "data": {
      "text/plain": [
       "AgentBasedModel with 2588 agents of type tubulin\n",
       " space: GridSpace with size (150, 150), metric=chebyshev, periodic=true\n",
       " scheduler: randomly\n",
       " properties: Dict{Symbol, Any}(:tick => 0, :griddims => (150, 150), :P_hyd => Binomial{Float64}(n=1, p=0.01), :p_depolym_GDP => 0.034, :Nstarts => 8, :P_depolym_GTP => Binomial{Float64}(n=1, p=1.0), :P_depolym_GDP => Binomial{Float64}(n=1, p=0.966), :p_polym => 0.85, :p_hyd => 0.01, :p_depolym_GTP => 0…)"
      ]
     },
     "execution_count": 108,
     "metadata": {},
     "output_type": "execute_result"
    }
   ],
   "source": [
    "model = initialize(\n",
    "    griddims =(150,150),\n",
    "    periodic= true,\n",
    "    Nstarts=8,\n",
    "    numagents = 2580,\n",
    "    p_polym=0.85,\n",
    "    p_hyd= 0.01,\n",
    "    p_depolym_GTP=0,\n",
    "    p_depolym_GDP=0.034)"
   ]
  },
  {
   "cell_type": "code",
   "execution_count": 100,
   "metadata": {},
   "outputs": [
    {
     "ename": "LoadError",
     "evalue": "Screen not open!",
     "output_type": "error",
     "traceback": [
      "Screen not open!",
      "",
      "Stacktrace:",
      "  [1] error(s::String)",
      "    @ Base ./error.jl:33",
      "  [2] colorbuffer(screen::GLMakie.Screen, format::Makie.ImageStorageFormat)",
      "    @ GLMakie ~/.julia/packages/GLMakie/TViqo/src/screen.jl:173",
      "  [3] recordframe!(io::VideoStream)",
      "    @ Makie ~/.julia/packages/Makie/PFSZS/src/display.jl:421",
      "  [4] (::InteractiveDynamics.var\"#66#69\"{Int64, Int64, AgentBasedModel{GridSpace{2, true, Nothing}, tubulin, typeof(Agents.Schedulers.randomly), Dict{Symbol, Any}, Random.MersenneTwister}, typeof(agent_step!), typeof(model_step!), InteractiveDynamics.ABMStepper, Observable{Int64}})(io::VideoStream)",
      "    @ InteractiveDynamics ~/.julia/packages/InteractiveDynamics/rJ0aN/src/agents/plots_videos.jl:218",
      "  [5] #Record#934",
      "    @ ~/.julia/packages/Makie/PFSZS/src/display.jl:586 [inlined]",
      "  [6] #record#933",
      "    @ ~/.julia/packages/Makie/PFSZS/src/display.jl:580 [inlined]",
      "  [7] abm_video(file::String, model::AgentBasedModel{GridSpace{2, true, Nothing}, tubulin, typeof(Agents.Schedulers.randomly), Dict{Symbol, Any}, Random.MersenneTwister}, agent_step!::typeof(agent_step!), model_step!::typeof(model_step!); spf::Int64, framerate::Int64, frames::Int64, resolution::Tuple{Int64, Int64}, title::String, showstep::Bool, axiskwargs::NamedTuple{(), Tuple{}}, kwargs::Base.Iterators.Pairs{Symbol, Function, Tuple{Symbol, Symbol}, NamedTuple{(:ac, :am), Tuple{typeof(groupcolor), typeof(groupmarker)}}})",
      "    @ InteractiveDynamics ~/.julia/packages/InteractiveDynamics/rJ0aN/src/agents/plots_videos.jl:216",
      "  [8] top-level scope",
      "    @ In[100]:11",
      "  [9] eval",
      "    @ ./boot.jl:360 [inlined]",
      " [10] include_string(mapexpr::typeof(REPL.softscope), mod::Module, code::String, filename::String)",
      "    @ Base ./loading.jl:1116"
     ]
    }
   ],
   "source": [
    "using InteractiveDynamics\n",
    "#using CairoMakie\n",
    "\n",
    "using GLMakie\n",
    "\n",
    "# coloring\n",
    "groupcolor(a) = a.polym >= 1 ? :red : :blue\n",
    "groupmarker(a) = a.GDP == true ? :circle : :x\n",
    "#GLMakie.activate!()\n",
    "\n",
    "abm_video(\n",
    "    \"Microtubule_test.mp4\", model, agent_step!,model_step!;\n",
    "    ac = groupcolor, am = groupmarker,\n",
    "    framerate = 20, frames = 2500,\n",
    "    title = (\"Test boundary function\"))\n"
   ]
  },
  {
   "cell_type": "code",
   "execution_count": 109,
   "metadata": {},
   "outputs": [
    {
     "data": {
      "text/plain": [
       "(Scene (1600px, 800px):\n",
       "  89 Plots:\n",
       "    ├ Combined{Makie.poly, Tuple{Vector{Vector{Point{2, Float32}}}}}\n",
       "    ├ LineSegments{Tuple{Vector{Point{2, Float32}}}}\n",
       "    ├ LineSegments{Tuple{Vector{Point{2, Float32}}}}\n",
       "    ├ LineSegments{Tuple{Vector{Point{2, Float32}}}}\n",
       "    ├ LineSegments{Tuple{Vector{Point{2, Float32}}}}\n",
       "    ├ LineSegments{Tuple{Vector{Point{2, Float32}}}}\n",
       "    ├ LineSegments{Tuple{Vector{Point{2, Float32}}}}\n",
       "    ├ MakieCore.Text{Tuple{String}}\n",
       "    ├ Lines{Tuple{Vector{Point{2, Float32}}}}\n",
       "    ├ MakieCore.Text{Tuple{Vector{Tuple{AbstractString, Point{2, Float32}}}}}\n",
       "    ├ LineSegments{Tuple{Vector{Point{2, Float32}}}}\n",
       "    ├ LineSegments{Tuple{Vector{Point{2, Float32}}}}\n",
       "    ├ MakieCore.Text{Tuple{String}}\n",
       "    ├ Lines{Tuple{Vector{Point{2, Float32}}}}\n",
       "    ├ MakieCore.Text{Tuple{Vector{Tuple{AbstractString, Point{2, Float32}}}}}\n",
       "    ├ Lines{Tuple{Vector{Point{2, Float32}}}}\n",
       "    ├ Lines{Tuple{Vector{Point{2, Float32}}}}\n",
       "    ├ MakieCore.Text{Tuple{String}}\n",
       "    ├ Scatter{Tuple{Vector{Point{2, Float32}}}}\n",
       "    ├ LineSegments{Tuple{Vector{Point{2, Float32}}}}\n",
       "    ├ Scatter{Tuple{Vector{Point{2, Float32}}}}\n",
       "    ├ MakieCore.Text{Tuple{String}}\n",
       "    ├ MakieCore.Text{Tuple{String}}\n",
       "    ├ Scatter{Tuple{Vector{Point{2, Float32}}}}\n",
       "    ├ LineSegments{Tuple{Vector{Point{2, Float32}}}}\n",
       "    ├ Scatter{Tuple{Vector{Point{2, Float32}}}}\n",
       "    ├ MakieCore.Text{Tuple{String}}\n",
       "    ├ MakieCore.Text{Tuple{String}}\n",
       "    ├ Scatter{Tuple{Vector{Point{2, Float32}}}}\n",
       "    ├ LineSegments{Tuple{Vector{Point{2, Float32}}}}\n",
       "    ├ Scatter{Tuple{Vector{Point{2, Float32}}}}\n",
       "    ├ MakieCore.Text{Tuple{String}}\n",
       "    ├ MakieCore.Text{Tuple{String}}\n",
       "    ├ Scatter{Tuple{Vector{Point{2, Float32}}}}\n",
       "    ├ LineSegments{Tuple{Vector{Point{2, Float32}}}}\n",
       "    ├ Scatter{Tuple{Vector{Point{2, Float32}}}}\n",
       "    ├ MakieCore.Text{Tuple{String}}\n",
       "    ├ MakieCore.Text{Tuple{String}}\n",
       "    ├ Scatter{Tuple{Vector{Point{2, Float32}}}}\n",
       "    ├ LineSegments{Tuple{Vector{Point{2, Float32}}}}\n",
       "    ├ Scatter{Tuple{Vector{Point{2, Float32}}}}\n",
       "    ├ MakieCore.Text{Tuple{String}}\n",
       "    ├ MakieCore.Text{Tuple{String}}\n",
       "    ├ Scatter{Tuple{Vector{Point{2, Float32}}}}\n",
       "    ├ LineSegments{Tuple{Vector{Point{2, Float32}}}}\n",
       "    ├ Scatter{Tuple{Vector{Point{2, Float32}}}}\n",
       "    ├ MakieCore.Text{Tuple{String}}\n",
       "    ├ MakieCore.Text{Tuple{String}}\n",
       "    ├ Scatter{Tuple{Vector{Point{2, Float32}}}}\n",
       "    ├ LineSegments{Tuple{Vector{Point{2, Float32}}}}\n",
       "    ├ Scatter{Tuple{Vector{Point{2, Float32}}}}\n",
       "    ├ MakieCore.Text{Tuple{String}}\n",
       "    ├ MakieCore.Text{Tuple{String}}\n",
       "    ├ Combined{Makie.poly, Tuple{Vector{Vector{Point{2, Float32}}}}}\n",
       "    ├ LineSegments{Tuple{Vector{Point{2, Float32}}}}\n",
       "    ├ LineSegments{Tuple{Vector{Point{2, Float32}}}}\n",
       "    ├ LineSegments{Tuple{Vector{Point{2, Float32}}}}\n",
       "    ├ LineSegments{Tuple{Vector{Point{2, Float32}}}}\n",
       "    ├ LineSegments{Tuple{Vector{Point{2, Float32}}}}\n",
       "    ├ LineSegments{Tuple{Vector{Point{2, Float32}}}}\n",
       "    ├ MakieCore.Text{Tuple{String}}\n",
       "    ├ Lines{Tuple{Vector{Point{2, Float32}}}}\n",
       "    ├ MakieCore.Text{Tuple{Vector{Tuple{AbstractString, Point{2, Float32}}}}}\n",
       "    ├ LineSegments{Tuple{Vector{Point{2, Float32}}}}\n",
       "    ├ LineSegments{Tuple{Vector{Point{2, Float32}}}}\n",
       "    ├ MakieCore.Text{Tuple{String}}\n",
       "    ├ Lines{Tuple{Vector{Point{2, Float32}}}}\n",
       "    ├ MakieCore.Text{Tuple{Vector{Tuple{AbstractString, Point{2, Float32}}}}}\n",
       "    ├ Lines{Tuple{Vector{Point{2, Float32}}}}\n",
       "    ├ Lines{Tuple{Vector{Point{2, Float32}}}}\n",
       "    ├ MakieCore.Text{Tuple{String}}\n",
       "    ├ Combined{Makie.poly, Tuple{Vector{Vector{Point{2, Float32}}}}}\n",
       "    ├ LineSegments{Tuple{Vector{Point{2, Float32}}}}\n",
       "    ├ LineSegments{Tuple{Vector{Point{2, Float32}}}}\n",
       "    ├ LineSegments{Tuple{Vector{Point{2, Float32}}}}\n",
       "    ├ LineSegments{Tuple{Vector{Point{2, Float32}}}}\n",
       "    ├ LineSegments{Tuple{Vector{Point{2, Float32}}}}\n",
       "    ├ LineSegments{Tuple{Vector{Point{2, Float32}}}}\n",
       "    ├ MakieCore.Text{Tuple{String}}\n",
       "    ├ Lines{Tuple{Vector{Point{2, Float32}}}}\n",
       "    ├ MakieCore.Text{Tuple{Vector{Tuple{AbstractString, Point{2, Float32}}}}}\n",
       "    ├ LineSegments{Tuple{Vector{Point{2, Float32}}}}\n",
       "    ├ LineSegments{Tuple{Vector{Point{2, Float32}}}}\n",
       "    ├ MakieCore.Text{Tuple{String}}\n",
       "    ├ Lines{Tuple{Vector{Point{2, Float32}}}}\n",
       "    ├ MakieCore.Text{Tuple{Vector{Tuple{AbstractString, Point{2, Float32}}}}}\n",
       "    ├ Lines{Tuple{Vector{Point{2, Float32}}}}\n",
       "    ├ Lines{Tuple{Vector{Point{2, Float32}}}}\n",
       "    └ MakieCore.Text{Tuple{String}}\n",
       "  7 Child Scenes:\n",
       "    ├ Scene (593px, 594px)\n",
       "    ├ Scene (53px, 39px)\n",
       "    ├ Scene (44px, 39px)\n",
       "    ├ Scene (59px, 39px)\n",
       "    ├ Scene (75px, 39px)\n",
       "    ├ Scene (722px, 241px)\n",
       "    └ Scene (722px, 242px), \u001b[1m1×3 DataFrame\u001b[0m\n",
       "\u001b[1m Row \u001b[0m│\u001b[1m step  \u001b[0m\u001b[1m sum_polym \u001b[0m\u001b[1m sum_GDP \u001b[0m\n",
       "\u001b[1m     \u001b[0m│\u001b[90m Int64 \u001b[0m\u001b[90m Int64     \u001b[0m\u001b[90m Int64   \u001b[0m\n",
       "─────┼───────────────────────────\n",
       "   1 │     0         36        0, \u001b[1m0×0 DataFrame\u001b[0m)"
      ]
     },
     "execution_count": 109,
     "metadata": {},
     "output_type": "execute_result"
    }
   ],
   "source": [
    "using InteractiveDynamics\n",
    "using GLMakie\n",
    "\n",
    "params = Dict(\n",
    "    :numagents => 0:800,\n",
    "    :p_hyd => 0:0.01:1,\n",
    "    :p_polym => 0:0.01:1,\n",
    "    :p_depolym_GTP => 0:0.01:1,\n",
    "    :p_depolym_GDP =>0:0.01:1\n",
    ")\n",
    "GLMakie.activate!()\n",
    "# stats\n",
    "# coloring\n",
    "groupcolor(a) = a.polym >= 1 ? :red : :blue\n",
    "groupmarker(a) = a.GDP == true ? :circle : :x\n",
    "adata = [(:polym,sum), (:GDP,sum)]\n",
    "alabels = [\"Polimerized\", \"Hydrolized\"]\n",
    "\n",
    "\n",
    "fig, adf, mdf = abm_data_exploration(\n",
    "    model, agent_step!, model_step!, params;\n",
    "    ac=groupcolor, am=groupmarker, adata, alabels\n",
    ")"
   ]
  }
 ],
 "metadata": {
  "kernelspec": {
   "display_name": "Julia 1.6.2",
   "language": "julia",
   "name": "julia-1.6"
  },
  "language_info": {
   "file_extension": ".jl",
   "mimetype": "application/julia",
   "name": "julia",
   "version": "1.6.2"
  }
 },
 "nbformat": 4,
 "nbformat_minor": 4
}
