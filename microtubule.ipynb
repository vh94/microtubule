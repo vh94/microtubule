{
 "cells": [
  {
   "cell_type": "markdown",
   "metadata": {},
   "source": [
    "## Microtubule Dynamics ABM Julia notebook\n",
    "This notebook is intended as a development and testing file , so i will change regulary."
   ]
  },
  {
   "cell_type": "markdown",
   "metadata": {},
   "source": [
    "nächstes meeting 05.10 10:45\n",
    "\n",
    "### _TODO_ ::\n",
    "\n",
    "    - Drei Abbildungen erstellen für klein 100, mittel300, groß1000 ,a 50 mal begrenzte randbedingungen ✓\n",
    "    - seed funktion?!\n",
    "    - Standartdabweichung (korridor) \n",
    "    - Rohdaten gut aufbewahren, sinnvolle beschriftungen  ✓\n",
    "    - Periodischen Randbedingugen mit in microtubuli modell implementieren ✓\n",
    "\n",
    "  - Wachstumsgeswindigkeit (erstmal ohne Depolymerisation) ~ N.Agenten/Gridsize & P-polymerisiert\n",
    "  \n"
   ]
  },
  {
   "cell_type": "code",
   "execution_count": 66,
   "metadata": {},
   "outputs": [],
   "source": [
    "using Agents        # for ABM\n",
    "using CairoMakie    # static plotting \n",
    "using Distributions # \n",
    "using StatsBase: counts    \n",
    "using DataFrames    # ?\n",
    "using Statistics: mean\n",
    "using InteractiveDynamics # plotting\n",
    "using GLMakie       # plotting\n",
    "using DrWatson: @dict #  model params, runtime, plotting\n",
    "#include(\"Polymerize_new.jl\")\n",
    "include(\"Polymerize.jl\")\n",
    "using BenchmarkTools"
   ]
  },
  {
   "cell_type": "code",
   "execution_count": 22,
   "metadata": {},
   "outputs": [
    {
     "name": "stdout",
     "output_type": "stream",
     "text": [
      "  0.020 ns (0 allocations: 0 bytes)\n"
     ]
    },
    {
     "data": {
      "text/plain": [
       "2"
      ]
     },
     "execution_count": 22,
     "metadata": {},
     "output_type": "execute_result"
    }
   ],
   "source": [
    "@btime 1+1"
   ]
  },
  {
   "cell_type": "code",
   "execution_count": 55,
   "metadata": {},
   "outputs": [],
   "source": [
    "#= The agent type representing 1 tubulin dimer\n",
    "     @agent is a macro from the Agents.jl package that creates a struct with default keys\n",
    "    :polym is a Int indicating which Microtubule the dimerpolymer is associated (0 = unpolymerized)\n",
    "    :GDP::bool true = hydrolized (GDP -tubulin ) , false = GTP (\"Cap\") \n",
    "=#\n",
    "\n",
    "@agent tubulin GridAgent{2} begin\n",
    "    polym::Int64\n",
    "    GDP::Bool\n",
    "    # Plus::Int64\n",
    "end"
   ]
  },
  {
   "cell_type": "code",
   "execution_count": 56,
   "metadata": {},
   "outputs": [
    {
     "data": {
      "text/plain": [
       "initialize (generic function with 1 method)"
      ]
     },
     "execution_count": 56,
     "metadata": {},
     "output_type": "execute_result"
    }
   ],
   "source": [
    "#= Main Function to initialize the model\n",
    "Nstarts::Int number of seeding points\n",
    "numagents::Int number of tubulin agents\n",
    "griddims::Tuple(Int,2) Grid dimensions (please use a square one! and even number)\n",
    "p_hyd:Float probability to hydrolize \n",
    "=#\n",
    "\n",
    "function initialize(;Nstarts, numagents, periodic, griddims, p_hyd,  p_polym,\n",
    "                        p_depolym_GTP,p_depolym_GDP)\n",
    "   \n",
    "    P_hyd = Binomial(1,p_hyd)                      # Prob to hydrolize from GTP to GDP:  GTPase rate\n",
    "    P_polym = Binomial(1,p_polym)                  # Prob to Polymerize/bind to the microtuble \n",
    "    P_depolym_GTP = Binomial(1,1-p_depolym_GTP)    # Prob to depolimerize if not hydrolized (GTP - tubulin) = lower\n",
    "    P_depolym_GDP = Binomial(1,1-p_depolym_GDP)    # Prob to depolimerize if hydrolized (GDP - tubulin) = higher\n",
    "\n",
    "    \n",
    " properties = @dict griddims numagents Nstarts p_depolym_GTP p_depolym_GDP p_polym p_hyd P_hyd P_polym P_depolym_GTP P_depolym_GDP\n",
    " \n",
    "    properties[:tick] = 0\n",
    "\n",
    "    space = GridSpace(griddims, periodic = periodic ) # initialize Gridspace\n",
    "    \n",
    "    model = ABM(tubulin, space;                     # create model using ?Agents.ABM\n",
    "        scheduler = Schedulers.randomly,\n",
    "        properties = properties )\n",
    "    \n",
    "    id = 0  #  populizing Grid Space with Agents  \n",
    "    for _ in 1:Nstarts # Startingpoints:\n",
    "        id += 1\n",
    "        agent =  tubulin(id,griddims./2,id,true)\n",
    "        if id == 1\n",
    "            add_agent_pos!(agent,model)\n",
    "        else\n",
    "            add_agent_single!(agent,model) # add additional startingpoints to random positions \n",
    "        end\n",
    "    end\n",
    "    for _ in 1:numagents \n",
    "        id += 1\n",
    "        agent =  tubulin(id,(1,1),0,false)\n",
    "        add_agent_single!(agent,model) # add agents to random positions\n",
    "    end\n",
    "    return model\n",
    "end"
   ]
  },
  {
   "cell_type": "code",
   "execution_count": 67,
   "metadata": {},
   "outputs": [
    {
     "data": {
      "text/plain": [
       "agent_step! (generic function with 1 method)"
      ]
     },
     "execution_count": 67,
     "metadata": {},
     "output_type": "execute_result"
    }
   ],
   "source": [
    "#= Agent Step function =#\n",
    "\n",
    "function agent_step!(agent,model)\n",
    "if agent.id > model.Nstarts\n",
    "    if agent.polym == 0   # Logic for unpolymerized agents:    \n",
    "            walk!(agent, rand, model, ifempty =true)\n",
    "            polymerize(agent,model) \n",
    "        end\n",
    "    if agent.polym > 0 # Logic for polymerized agents:    \n",
    "        if agent.GDP == false   # if not hydrolized\n",
    "            agent.GDP = rand(model.P_hyd,1)[1] # hydrolize with P_hyd\n",
    "            end\n",
    "            depolymerize(agent,model)\n",
    "        end\n",
    "     end\n",
    "end"
   ]
  },
  {
   "cell_type": "code",
   "execution_count": 68,
   "metadata": {},
   "outputs": [
    {
     "data": {
      "text/plain": [
       "model_step! (generic function with 1 method)"
      ]
     },
     "execution_count": 68,
     "metadata": {},
     "output_type": "execute_result"
    }
   ],
   "source": [
    "#= Model Step function =#\n",
    "function model_step!(model)\n",
    "    model.tick += 1\n",
    "    model.P_hyd = Binomial(1,model.p_hyd)                      # Prob to hydrolize from GTP to GDP: \n",
    "    model.P_polym = Binomial(1,model.p_polym)                  # Prob to Polymerize/bind to the microtuble \n",
    "    model.P_depolym_GTP = Binomial(1,1-model.p_depolym_GTP)    # Prob to depolimerize if not hydrolized (GTP - tubulin) = lower\n",
    "    model.P_depolym_GDP = Binomial(1,1-model.p_depolym_GDP)    # Prob to depolimerize if hydrolized (GDP - tubulin) = higher\n",
    "end"
   ]
  },
  {
   "cell_type": "code",
   "execution_count": 27,
   "metadata": {},
   "outputs": [
    {
     "name": "stdout",
     "output_type": "stream",
     "text": [
      "  4.856 ms (33723 allocations: 1.87 MiB)\n"
     ]
    }
   ],
   "source": [
    "@btime step!(model,agent_step!,model_step! ,1)\n",
    "# new"
   ]
  },
  {
   "cell_type": "code",
   "execution_count": 61,
   "metadata": {},
   "outputs": [
    {
     "name": "stdout",
     "output_type": "stream",
     "text": [
      "  6.610 ms (39784 allocations: 1.94 MiB)\n"
     ]
    }
   ],
   "source": [
    "@btime step!(model,agent_step!,model_step! ,10)\n",
    "#old"
   ]
  },
  {
   "cell_type": "code",
   "execution_count": 47,
   "metadata": {},
   "outputs": [
    {
     "name": "stdout",
     "output_type": "stream",
     "text": [
      "  78.527 ms (490569 allocations: 27.39 MiB)\n"
     ]
    }
   ],
   "source": [
    "@btime step!(model,agent_step!,model_step! ,10)\n",
    "\n",
    "#new2.0"
   ]
  },
  {
   "cell_type": "code",
   "execution_count": 69,
   "metadata": {},
   "outputs": [
    {
     "data": {
      "text/plain": [
       "AgentBasedModel with 1004 agents of type tubulin\n",
       " space: GridSpace with size (100, 100), metric=chebyshev, periodic=true\n",
       " scheduler: randomly\n",
       " properties: Dict{Symbol, Any}(:tick => 0, :griddims => (100, 100), :P_hyd => Binomial{Float64}(n=1, p=0.02), :p_depolym_GDP => 0.03, :Nstarts => 4, :P_depolym_GTP => Binomial{Float64}(n=1, p=1.0), :P_depolym_GDP => Binomial{Float64}(n=1, p=0.97), :p_polym => 0.8, :p_hyd => 0.02, :p_depolym_GTP => 0…)"
      ]
     },
     "execution_count": 69,
     "metadata": {},
     "output_type": "execute_result"
    }
   ],
   "source": [
    "#= Model Initialisation =#\n",
    "\n",
    "model = initialize(\n",
    "    griddims =(100,100),\n",
    "    periodic= true,\n",
    "    Nstarts=4,\n",
    "    numagents = 1000,\n",
    "    p_polym=0.80,\n",
    "    p_hyd= 0.02,\n",
    "    p_depolym_GTP=0,\n",
    "    p_depolym_GDP=0.03)\n",
    "\n",
    "#step!(model,agent_step!,model_step! ,1, agents_first =true)"
   ]
  },
  {
   "cell_type": "code",
   "execution_count": 62,
   "metadata": {},
   "outputs": [
    {
     "name": "stdout",
     "output_type": "stream",
     "text": [
      "  650.059 μs (3964 allocations: 198.31 KiB)\n"
     ]
    }
   ],
   "source": [
    "@btime step!(model,agent_step!,model_step! ,1)"
   ]
  },
  {
   "cell_type": "code",
   "execution_count": 36,
   "metadata": {},
   "outputs": [
    {
     "name": "stdout",
     "output_type": "stream",
     "text": [
      "  646.571 μs (3947 allocations: 197.62 KiB)\n"
     ]
    }
   ],
   "source": [
    "@btime step!(model,agent_step!,model_step! ,1)\n",
    "#old"
   ]
  },
  {
   "cell_type": "code",
   "execution_count": 72,
   "metadata": {},
   "outputs": [
    {
     "data": {
      "text/plain": [
       "false"
      ]
     },
     "execution_count": 72,
     "metadata": {},
     "output_type": "execute_result"
    }
   ],
   "source": [
    "(2,1) in 2:3"
   ]
  },
  {
   "cell_type": "code",
   "execution_count": 70,
   "metadata": {},
   "outputs": [
    {
     "data": {
      "text/plain": [
       "(Scene (1600px, 800px):\n",
       "  102 Plots:\n",
       "    ├ Combined{Makie.poly, Tuple{Vector{Vector{Point{2, Float32}}}}}\n",
       "    ├ LineSegments{Tuple{Vector{Point{2, Float32}}}}\n",
       "    ├ LineSegments{Tuple{Vector{Point{2, Float32}}}}\n",
       "    ├ LineSegments{Tuple{Vector{Point{2, Float32}}}}\n",
       "    ├ LineSegments{Tuple{Vector{Point{2, Float32}}}}\n",
       "    ├ LineSegments{Tuple{Vector{Point{2, Float32}}}}\n",
       "    ├ LineSegments{Tuple{Vector{Point{2, Float32}}}}\n",
       "    ├ MakieCore.Text{Tuple{String}}\n",
       "    ├ Lines{Tuple{Vector{Point{2, Float32}}}}\n",
       "    ├ MakieCore.Text{Tuple{Vector{Tuple{AbstractString, Point{2, Float32}}}}}\n",
       "    ├ LineSegments{Tuple{Vector{Point{2, Float32}}}}\n",
       "    ├ LineSegments{Tuple{Vector{Point{2, Float32}}}}\n",
       "    ├ MakieCore.Text{Tuple{String}}\n",
       "    ├ Lines{Tuple{Vector{Point{2, Float32}}}}\n",
       "    ├ MakieCore.Text{Tuple{Vector{Tuple{AbstractString, Point{2, Float32}}}}}\n",
       "    ├ Lines{Tuple{Vector{Point{2, Float32}}}}\n",
       "    ├ Lines{Tuple{Vector{Point{2, Float32}}}}\n",
       "    ├ MakieCore.Text{Tuple{String}}\n",
       "    ├ Scatter{Tuple{Vector{Point{2, Float32}}}}\n",
       "    ├ LineSegments{Tuple{Vector{Point{2, Float32}}}}\n",
       "    ├ Scatter{Tuple{Vector{Point{2, Float32}}}}\n",
       "    ├ MakieCore.Text{Tuple{String}}\n",
       "    ├ MakieCore.Text{Tuple{String}}\n",
       "    ├ Scatter{Tuple{Vector{Point{2, Float32}}}}\n",
       "    ├ LineSegments{Tuple{Vector{Point{2, Float32}}}}\n",
       "    ├ Scatter{Tuple{Vector{Point{2, Float32}}}}\n",
       "    ├ MakieCore.Text{Tuple{String}}\n",
       "    ├ MakieCore.Text{Tuple{String}}\n",
       "    ├ Scatter{Tuple{Vector{Point{2, Float32}}}}\n",
       "    ├ LineSegments{Tuple{Vector{Point{2, Float32}}}}\n",
       "    ├ Scatter{Tuple{Vector{Point{2, Float32}}}}\n",
       "    ├ MakieCore.Text{Tuple{String}}\n",
       "    ├ MakieCore.Text{Tuple{String}}\n",
       "    ├ Scatter{Tuple{Vector{Point{2, Float32}}}}\n",
       "    ├ LineSegments{Tuple{Vector{Point{2, Float32}}}}\n",
       "    ├ Scatter{Tuple{Vector{Point{2, Float32}}}}\n",
       "    ├ MakieCore.Text{Tuple{String}}\n",
       "    ├ MakieCore.Text{Tuple{String}}\n",
       "    ├ Scatter{Tuple{Vector{Point{2, Float32}}}}\n",
       "    ├ LineSegments{Tuple{Vector{Point{2, Float32}}}}\n",
       "    ├ Scatter{Tuple{Vector{Point{2, Float32}}}}\n",
       "    ├ MakieCore.Text{Tuple{String}}\n",
       "    ├ MakieCore.Text{Tuple{String}}\n",
       "    ├ Scatter{Tuple{Vector{Point{2, Float32}}}}\n",
       "    ├ LineSegments{Tuple{Vector{Point{2, Float32}}}}\n",
       "    ├ Scatter{Tuple{Vector{Point{2, Float32}}}}\n",
       "    ├ MakieCore.Text{Tuple{String}}\n",
       "    ├ MakieCore.Text{Tuple{String}}\n",
       "    ├ Combined{Makie.poly, Tuple{Vector{Vector{Point{2, Float32}}}}}\n",
       "    ├ LineSegments{Tuple{Vector{Point{2, Float32}}}}\n",
       "    ├ LineSegments{Tuple{Vector{Point{2, Float32}}}}\n",
       "    ├ LineSegments{Tuple{Vector{Point{2, Float32}}}}\n",
       "    ├ LineSegments{Tuple{Vector{Point{2, Float32}}}}\n",
       "    ├ LineSegments{Tuple{Vector{Point{2, Float32}}}}\n",
       "    ├ LineSegments{Tuple{Vector{Point{2, Float32}}}}\n",
       "    ├ MakieCore.Text{Tuple{String}}\n",
       "    ├ Lines{Tuple{Vector{Point{2, Float32}}}}\n",
       "    ├ MakieCore.Text{Tuple{Vector{Tuple{AbstractString, Point{2, Float32}}}}}\n",
       "    ├ LineSegments{Tuple{Vector{Point{2, Float32}}}}\n",
       "    ├ LineSegments{Tuple{Vector{Point{2, Float32}}}}\n",
       "    ├ MakieCore.Text{Tuple{String}}\n",
       "    ├ Lines{Tuple{Vector{Point{2, Float32}}}}\n",
       "    ├ MakieCore.Text{Tuple{Vector{Tuple{AbstractString, Point{2, Float32}}}}}\n",
       "    ├ Lines{Tuple{Vector{Point{2, Float32}}}}\n",
       "    ├ Lines{Tuple{Vector{Point{2, Float32}}}}\n",
       "    ├ MakieCore.Text{Tuple{String}}\n",
       "    ├ Combined{Makie.poly, Tuple{Vector{Vector{Point{2, Float32}}}}}\n",
       "    ├ LineSegments{Tuple{Vector{Point{2, Float32}}}}\n",
       "    ├ LineSegments{Tuple{Vector{Point{2, Float32}}}}\n",
       "    ├ LineSegments{Tuple{Vector{Point{2, Float32}}}}\n",
       "    ├ LineSegments{Tuple{Vector{Point{2, Float32}}}}\n",
       "    ├ LineSegments{Tuple{Vector{Point{2, Float32}}}}\n",
       "    ├ LineSegments{Tuple{Vector{Point{2, Float32}}}}\n",
       "    ├ MakieCore.Text{Tuple{String}}\n",
       "    ├ Lines{Tuple{Vector{Point{2, Float32}}}}\n",
       "    ├ MakieCore.Text{Tuple{Vector{Tuple{AbstractString, Point{2, Float32}}}}}\n",
       "    ├ LineSegments{Tuple{Vector{Point{2, Float32}}}}\n",
       "    ├ LineSegments{Tuple{Vector{Point{2, Float32}}}}\n",
       "    ├ MakieCore.Text{Tuple{String}}\n",
       "    ├ Lines{Tuple{Vector{Point{2, Float32}}}}\n",
       "    ├ MakieCore.Text{Tuple{Vector{Tuple{AbstractString, Point{2, Float32}}}}}\n",
       "    ├ Lines{Tuple{Vector{Point{2, Float32}}}}\n",
       "    ├ Lines{Tuple{Vector{Point{2, Float32}}}}\n",
       "    ├ MakieCore.Text{Tuple{String}}\n",
       "    ├ Combined{Makie.poly, Tuple{Vector{Vector{Point{2, Float32}}}}}\n",
       "    ├ LineSegments{Tuple{Vector{Point{2, Float32}}}}\n",
       "    ├ LineSegments{Tuple{Vector{Point{2, Float32}}}}\n",
       "    ├ LineSegments{Tuple{Vector{Point{2, Float32}}}}\n",
       "    ├ LineSegments{Tuple{Vector{Point{2, Float32}}}}\n",
       "    ├ LineSegments{Tuple{Vector{Point{2, Float32}}}}\n",
       "    ├ LineSegments{Tuple{Vector{Point{2, Float32}}}}\n",
       "    ├ MakieCore.Text{Tuple{String}}\n",
       "    ├ Lines{Tuple{Vector{Point{2, Float32}}}}\n",
       "    ├ MakieCore.Text{Tuple{Vector{Tuple{AbstractString, Point{2, Float32}}}}}\n",
       "    ├ LineSegments{Tuple{Vector{Point{2, Float32}}}}\n",
       "    ├ LineSegments{Tuple{Vector{Point{2, Float32}}}}\n",
       "    ├ MakieCore.Text{Tuple{String}}\n",
       "    ├ Lines{Tuple{Vector{Point{2, Float32}}}}\n",
       "    ├ MakieCore.Text{Tuple{Vector{Tuple{AbstractString, Point{2, Float32}}}}}\n",
       "    ├ Lines{Tuple{Vector{Point{2, Float32}}}}\n",
       "    ├ Lines{Tuple{Vector{Point{2, Float32}}}}\n",
       "    └ MakieCore.Text{Tuple{String}}\n",
       "  8 Child Scenes:\n",
       "    ├ Scene (593px, 594px)\n",
       "    ├ Scene (53px, 39px)\n",
       "    ├ Scene (44px, 39px)\n",
       "    ├ Scene (59px, 39px)\n",
       "    ├ Scene (75px, 39px)\n",
       "    ├ Scene (722px, 167px)\n",
       "    ├ Scene (722px, 167px)\n",
       "    └ Scene (722px, 167px), \u001b[1m1×2 DataFrame\u001b[0m\n",
       "\u001b[1m Row \u001b[0m│\u001b[1m step  \u001b[0m\u001b[1m sum_GDP \u001b[0m\n",
       "\u001b[1m     \u001b[0m│\u001b[90m Int64 \u001b[0m\u001b[90m Int64   \u001b[0m\n",
       "─────┼────────────────\n",
       "   1 │     0        4, \u001b[1m1×3 DataFrame\u001b[0m\n",
       "\u001b[1m Row \u001b[0m│\u001b[1m step  \u001b[0m\u001b[1m mean_MT_size \u001b[0m\u001b[1m sd_MT_size \u001b[0m\n",
       "\u001b[1m     \u001b[0m│\u001b[90m Int64 \u001b[0m\u001b[90m Float64      \u001b[0m\u001b[90m Float64    \u001b[0m\n",
       "─────┼─────────────────────────────────\n",
       "   1 │     0           1.0         0.0)"
      ]
     },
     "execution_count": 70,
     "metadata": {},
     "output_type": "execute_result"
    }
   ],
   "source": [
    "# Interactive Model\n",
    "using InteractiveDynamics\n",
    "using GLMakie\n",
    "\n",
    "params = Dict(\n",
    "    :p_hyd => 0:0.01:1,\n",
    "    :p_polym => 0:0.01:1,\n",
    "    :p_depolym_GTP => 0:0.01:1,\n",
    "    :p_depolym_GDP =>0:0.01:1\n",
    ")\n",
    "GLMakie.activate!()\n",
    "# stats\n",
    "# coloring\n",
    "groupcolor(a) = a.polym >= 1 ? :red : :blue\n",
    "groupmarker(a) = a.GDP == true ? :circle : :octagon\n",
    "mdata=[mean_MT_size,sd_MT_size]\n",
    "mlabels=[\"mean MT length\", \"sd\"]\n",
    "adata = [(:GDP,sum)]\n",
    "alabels = [\"Hydrolized\"]\n",
    "\n",
    "fig, adf, mdf = abm_data_exploration(\n",
    "    model, agent_step!, model_step!, params;\n",
    "    ac=groupcolor, am=groupmarker, adata,alabels,mdata,mlabels\n",
    ")"
   ]
  },
  {
   "cell_type": "code",
   "execution_count": null,
   "metadata": {},
   "outputs": [],
   "source": [
    "step!(model,agent_step!,model_step!,1)"
   ]
  },
  {
   "cell_type": "code",
   "execution_count": null,
   "metadata": {},
   "outputs": [],
   "source": [
    "archie=random_agent(model)"
   ]
  },
  {
   "cell_type": "code",
   "execution_count": null,
   "metadata": {},
   "outputs": [],
   "source": [
    "pa=periodic_agent_hood(archie,model)"
   ]
  },
  {
   "cell_type": "code",
   "execution_count": null,
   "metadata": {},
   "outputs": [],
   "source": [
    "tuple(pa[1]...)"
   ]
  },
  {
   "cell_type": "code",
   "execution_count": null,
   "metadata": {},
   "outputs": [],
   "source": [
    "# Neighborhood function for periodic Grids\n",
    "\n",
    "function periodic_agent_hood(agent,model)\n",
    "    agenthood=[[i,j] for i=-1:1 ,j=-1:1] \n",
    "    for i in 1:length(agenthood)\n",
    "        agenthood[i] = agenthood[i] .+ agent.pos\n",
    "        agenthood[i][agenthood[i].<1] .= model.griddims[1]\n",
    "        agenthood[i]= mod1.(agenthood[i],model.griddims[1])\n",
    "    end\n",
    "    agenthood\n",
    "end"
   ]
  },
  {
   "cell_type": "code",
   "execution_count": 7,
   "metadata": {},
   "outputs": [
    {
     "data": {
      "text/plain": [
       "sd_MT_size (generic function with 1 method)"
      ]
     },
     "execution_count": 7,
     "metadata": {},
     "output_type": "execute_result"
    }
   ],
   "source": [
    "# Data retrieval functions\n",
    "# Function to calculate mean of microtubule length\n",
    "function mean_MT_size(model)\n",
    "    meanMTL=mean(counts([model.agents[i].polym for i in 1:length(model.agents)])[setdiff(1:end, 1), 1])\n",
    "    # i remove the first index of counts ( polym==0 ) since this group doesnt represent a MT\n",
    "end\n",
    "\n",
    "# Function to calculate standart devation of microtubule length\n",
    "function sd_MT_size(model)\n",
    "    stdMTL=std(counts([model.agents[i].polym for i in 1:length(model.agents)])[setdiff(1:end, 1), 1])\n",
    "end"
   ]
  },
  {
   "cell_type": "code",
   "execution_count": 8,
   "metadata": {},
   "outputs": [
    {
     "data": {
      "text/plain": [
       "(\u001b[1m402604×5 DataFrame\u001b[0m\n",
       "\u001b[1m    Row \u001b[0m│\u001b[1m step  \u001b[0m\u001b[1m id    \u001b[0m\u001b[1m pos      \u001b[0m\u001b[1m GDP   \u001b[0m\u001b[1m polym \u001b[0m\n",
       "\u001b[1m        \u001b[0m│\u001b[90m Int64 \u001b[0m\u001b[90m Int64 \u001b[0m\u001b[90m Tuple…   \u001b[0m\u001b[90m Bool  \u001b[0m\u001b[90m Int64 \u001b[0m\n",
       "────────┼──────────────────────────────────────\n",
       "      1 │     0      1  (50, 50)   true      1\n",
       "      2 │     0      2  (97, 73)   true      2\n",
       "      3 │     0      3  (34, 68)   true      3\n",
       "      4 │     0      4  (23, 41)   true      4\n",
       "      5 │     0      5  (9, 84)   false      0\n",
       "      6 │     0      6  (95, 34)  false      0\n",
       "      7 │     0      7  (55, 7)   false      0\n",
       "      8 │     0      8  (35, 76)  false      0\n",
       "      9 │     0      9  (78, 77)  false      0\n",
       "     10 │     0     10  (95, 23)  false      0\n",
       "     11 │     0     11  (4, 84)   false      0\n",
       "   ⋮    │   ⋮      ⋮       ⋮        ⋮      ⋮\n",
       " 402595 │   400    995  (13, 57)  false      0\n",
       " 402596 │   400    996  (60, 20)  false      0\n",
       " 402597 │   400    997  (26, 94)  false      0\n",
       " 402598 │   400    998  (52, 82)  false      0\n",
       " 402599 │   400    999  (54, 31)  false      0\n",
       " 402600 │   400   1000  (69, 94)  false      0\n",
       " 402601 │   400   1001  (55, 37)  false      0\n",
       " 402602 │   400   1002  (72, 74)  false      0\n",
       " 402603 │   400   1003  (75, 66)  false      0\n",
       " 402604 │   400   1004  (25, 23)  false      0\n",
       "\u001b[36m                            402583 rows omitted\u001b[0m, \u001b[1m401×4 DataFrame\u001b[0m\n",
       "\u001b[1m Row \u001b[0m│\u001b[1m step  \u001b[0m\u001b[1m tick  \u001b[0m\u001b[1m mean_MT_size \u001b[0m\u001b[1m sd_MT_size \u001b[0m\n",
       "\u001b[1m     \u001b[0m│\u001b[90m Int64 \u001b[0m\u001b[90m Int64 \u001b[0m\u001b[90m Float64      \u001b[0m\u001b[90m Float64    \u001b[0m\n",
       "─────┼────────────────────────────────────────\n",
       "   1 │     0      0          1.0     0.0\n",
       "   2 │     1      0          1.0     0.0\n",
       "   3 │     2      0          1.0     0.0\n",
       "   4 │     3      0          1.25    0.5\n",
       "   5 │     4      0          1.25    0.5\n",
       "   6 │     5      0          1.25    0.5\n",
       "   7 │     6      0          1.25    0.5\n",
       "   8 │     7      0          1.25    0.5\n",
       "   9 │     8      0          1.5     1.0\n",
       "  10 │     9      0          1.5     1.0\n",
       "  11 │    10      0          1.5     1.0\n",
       "  ⋮  │   ⋮      ⋮         ⋮            ⋮\n",
       " 392 │   391      0         15.5     0.57735\n",
       " 393 │   392      0         15.5     0.57735\n",
       " 394 │   393      0         15.5     0.57735\n",
       " 395 │   394      0         15.5     0.57735\n",
       " 396 │   395      0         15.5     0.57735\n",
       " 397 │   396      0         15.5     0.57735\n",
       " 398 │   397      0         15.5     0.57735\n",
       " 399 │   398      0         15.5     0.57735\n",
       " 400 │   399      0         15.5     0.57735\n",
       " 401 │   400      0         15.5     0.57735\n",
       "\u001b[36m                              380 rows omitted\u001b[0m)"
      ]
     },
     "execution_count": 8,
     "metadata": {},
     "output_type": "execute_result"
    }
   ],
   "source": [
    "### Data collection\n",
    "#using Statistics: mean\n",
    "\n",
    "adata = [:pos,:GDP,:polym,]                   # agent data\n",
    "mdata=[:tick, mean_MT_size,sd_MT_size]\n",
    "#data = run!(model,agent_step!,100;adata)\n",
    "\n",
    "data, _ = run!(model,agent_step!,400;adata, mdata)\n",
    "\n"
   ]
  },
  {
   "cell_type": "code",
   "execution_count": null,
   "metadata": {},
   "outputs": [],
   "source": [
    "#= Scanning  parameters =#\n",
    "\n",
    "parameters=Dict(\n",
    "            :griddims => (80,80),\n",
    "            :periodic => true,\n",
    "            :Nstarts => 3,\n",
    "            :numagents => [900,1000,1100],\n",
    "            :p_hyd => 0.8,\n",
    "            :p_polym=> [0.7,0.8,0.9] ,\n",
    "            :p_depolym_GTP => 0,\n",
    "            :p_depolym_GDP => [0,0.02,0.05,0.1]) "
   ]
  },
  {
   "cell_type": "code",
   "execution_count": null,
   "metadata": {
    "scrolled": true
   },
   "outputs": [],
   "source": [
    "data,_ = paramscan(parameters, initialize;  mdata, agent_step!, model_step!, n=30)"
   ]
  },
  {
   "cell_type": "code",
   "execution_count": null,
   "metadata": {},
   "outputs": [],
   "source": [
    "mod1(100,100)"
   ]
  },
  {
   "cell_type": "code",
   "execution_count": null,
   "metadata": {},
   "outputs": [],
   "source": [
    "data[110:150,:]"
   ]
  },
  {
   "cell_type": "code",
   "execution_count": null,
   "metadata": {},
   "outputs": [],
   "source": [
    "## Ensemble run RW\n",
    "# Build ensemble of models\n",
    "\n",
    "models = [initialize(; Nstarts=x,\n",
    "        periodic= true,\n",
    "        numagents = 1000,\n",
    "        griddims=(x,x), \n",
    "        p_hyd=0,\n",
    "        p_polym=0,\n",
    "        p_depolym_GTP=0,\n",
    "        p_depolym_GDP=0) for x in repeat([80, 100, 200], 30)];\n",
    "\n",
    "adata = [:pos]\n",
    "\n",
    "adf, = ensemblerun!(models, agent_step!, model_step!, 2000; adata mdata)\n",
    "using CSV\n",
    "CSV.write(\"data/ensemble1310.csv\", adf)"
   ]
  },
  {
   "cell_type": "code",
   "execution_count": null,
   "metadata": {},
   "outputs": [],
   "source": [
    "## Ensemble run Microtubuli simulation\n",
    "models = [initialize(; Nstarts= x,\n",
    "        periodic= true,\n",
    "        numagents = 1000,\n",
    "        griddims=(100,100), \n",
    "        p_polym=0.80,\n",
    "        p_hyd= 0.02,\n",
    "        p_depolym_GTP=0,\n",
    "        p_depolym_GDP=0.03) for x in repeat([3,5,8,12], 20)];\n",
    "\n",
    "mdata=[:tick, mean_MT_size,sd_MT_size]\n",
    "\n",
    "adf, = ensemblerun!(models, agent_step!, model_step!, 2000; mdata)"
   ]
  },
  {
   "cell_type": "code",
   "execution_count": null,
   "metadata": {},
   "outputs": [],
   "source": [
    "?paramscan\n"
   ]
  },
  {
   "cell_type": "code",
   "execution_count": null,
   "metadata": {},
   "outputs": [],
   "source": [
    "## MSD for multiple ensembles\n",
    "\n",
    "MSDS = DataFrame(Step= levels(adf.step))\n",
    "for i in levels(adf.ensemble)\n",
    "    name = Symbol(\"ens_$i\")\n",
    "    MSDS[!,name] = MSD(adf[(adf.ensemble .== i ),:])\n",
    "end\n",
    "\n",
    "CSV.write(\"Periodic_simulation_120_150_200_1kagents_a30_2000_step_runs.csv\", MSDS)"
   ]
  },
  {
   "cell_type": "code",
   "execution_count": null,
   "metadata": {},
   "outputs": [],
   "source": [
    "CSV.write(\"Periodic_simulation_120_150_200_1kagents_a30_2000_step_runs.csv\", adf)"
   ]
  },
  {
   "cell_type": "code",
   "execution_count": null,
   "metadata": {},
   "outputs": [],
   "source": []
  }
 ],
 "metadata": {
  "kernelspec": {
   "display_name": "Julia 1.6.2",
   "language": "julia",
   "name": "julia-1.6"
  },
  "language_info": {
   "file_extension": ".jl",
   "mimetype": "application/julia",
   "name": "julia",
   "version": "1.6.2"
  }
 },
 "nbformat": 4,
 "nbformat_minor": 5
}
