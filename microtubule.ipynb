{
 "cells": [
  {
   "cell_type": "markdown",
   "metadata": {},
   "source": [
    "## Microtubule Dynamics ABM Julia notebook\n",
    "This notebook is intended as a development and testing file , so i will change regulary."
   ]
  },
  {
   "cell_type": "markdown",
   "metadata": {},
   "source": [
    "nächstes meeting 05.10 10:45\n",
    "\n",
    "### _TODO_ ::\n",
    "\n",
    "    - Drei Abbildungen erstellen für klein 100, mittel300, groß1000 ,a 50 mal begrenzte randbedingungen ✓\n",
    "    - seed funktion?!\n",
    "    - Standartdabweichung (korridor) \n",
    "    - Rohdaten gut aufbewahren, sinnvolle beschriftungen  ✓\n",
    "    - Periodischen Randbedingugen mit in microtubuli modell implementieren ✓\n",
    "\n",
    "  - Wachstumsgeswindigkeit (erstmal ohne Depolymerisation) ~ N.Agenten/Gridsize & P-polymerisiert\n"
   ]
  },
  {
   "cell_type": "code",
   "execution_count": 1,
   "metadata": {},
   "outputs": [],
   "source": [
    "using Agents\n",
    "using CairoMakie\n",
    "using Distributions\n",
    "using DataFrames\n",
    "using InteractiveDynamics\n",
    "using GLMakie\n",
    "#import DrWatson: @dict"
   ]
  },
  {
   "cell_type": "code",
   "execution_count": 2,
   "metadata": {},
   "outputs": [],
   "source": [
    "#=  Agent class representing 1 tubulin dimer\n",
    "    those can polymerize and also hydrolize from GTP to GDP\n",
    "maybe get a plus end direction in near future =#\n",
    "\n",
    "@agent tubulin GridAgent{2} begin\n",
    "    polym::Bool\n",
    "    GDP::Bool\n",
    "    # Plus::Int64\n",
    "end"
   ]
  },
  {
   "cell_type": "code",
   "execution_count": 3,
   "metadata": {},
   "outputs": [
    {
     "data": {
      "text/plain": [
       "initialize (generic function with 1 method)"
      ]
     },
     "execution_count": 3,
     "metadata": {},
     "output_type": "execute_result"
    }
   ],
   "source": [
    "#= Main Function to initialize the model=#\n",
    "\n",
    "function initialize(;Nstarts=1, numagents = 550, periodic=false,\n",
    "        griddims = (100,100), \n",
    "        p_hyd= 0.001, \n",
    "        p_polym = 0.99,\n",
    "        p_depolym_GTP= 0.005,\n",
    "        p_depolym_GDP=0.01 )\n",
    "   \n",
    "    # Probability to hydrolize from GTP to GDP: \n",
    "    P_hyd = Binomial(1,p_hyd)\n",
    "    # Probability to Polymerize/bind to the microtuble \n",
    "    P_polym = Binomial(1,p_polym)\n",
    "    # Probability to depolimerize if not hydrolized (GTP - tubulin) = lower\n",
    "    P_depolym_GTP = Binomial(1,1-p_depolym_GTP)\n",
    "    # Probability to depolimerize if hydrolized (GDP - tubulin) = higher\n",
    "    P_depolym_GDP = Binomial(1,1-p_depolym_GDP)\n",
    "    \n",
    "    \n",
    "    properties = Dict(:griddims=> griddims,\n",
    "                    :periodic=>periodic,\n",
    "                    :numagents => numagents,\n",
    "                    :Nstarts => Nstarts,\n",
    "                    :p_hyd => p_hyd,\n",
    "                    :p_polym => p_polym,\n",
    "                    :p_depolym_GTP => p_depolym_GTP,\n",
    "                    :p_depolym_GDP => p_depolym_GDP,\n",
    "                    :P_hyd => P_hyd,\n",
    "                    :P_polym=> P_polym,\n",
    "                    :P_depolym_GTP=>  P_depolym_GTP,\n",
    "                    :P_depolym_GDP=> P_depolym_GDP\n",
    "                    )\n",
    "    \n",
    "    \n",
    "    space = GridSpace(griddims, periodic= periodic)\n",
    "    \n",
    "    model = ABM(\n",
    "        tubulin,space;\n",
    "        scheduler = Schedulers.randomly,\n",
    "        properties = properties )\n",
    "    \n",
    "    # populize Space\n",
    "    id = 0\n",
    "    for _ in 1:Nstarts # Startingpoints:\n",
    "        id += 1\n",
    "        agent =  tubulin(id,(50,50),true,true)\n",
    "        if id == 1\n",
    "            add_agent_pos!(agent,model)\n",
    "        else\n",
    "            add_agent_single!(agent,model) # add additional startingpoints to random positions \n",
    "        end\n",
    "    end\n",
    "    for _ in 1:numagents \n",
    "        id += 1\n",
    "        agent =  tubulin(id,(1,1),false,false)\n",
    "        add_agent_single!(agent,model) # add agents to random positions\n",
    "    end\n",
    "    return model\n",
    "end"
   ]
  },
  {
   "cell_type": "code",
   "execution_count": 3,
   "metadata": {},
   "outputs": [
    {
     "data": {
      "text/plain": [
       "agent_step! (generic function with 1 method)"
      ]
     },
     "execution_count": 3,
     "metadata": {},
     "output_type": "execute_result"
    }
   ],
   "source": [
    "# Agent step func \n",
    "function agent_step!(agent,model)\n",
    "    # Starting points have to stay the same\n",
    "    if agent.id > model.Nstarts  \n",
    "        # Logic for unpolymerized agents:\n",
    "        if agent.polym == false            \n",
    "            walk!(agent, rand, model, ifempty = true)# brownsche bewegung wenn nicht polymerisiert\n",
    "            for id in nearby_ids(agent, model, [(1, 1:1), (2, 1:1)]) # check topright neighbour\n",
    "                if model[id].polym # if polymerized\n",
    "                    agent.polym = rand(model.P_polym,1)[1] # polimerize with P_polym\n",
    "                end\n",
    "            end\n",
    "        end\n",
    "        # Logic for polymierized agents:\n",
    "        if agent.polym\n",
    "            if agent.GDP == false   # if not hydrolized\n",
    "                agent.GDP = rand(model.P_hyd,1)[1] # hydrolize with P_hyd\n",
    "            end\n",
    "            if isempty(tuple(agent.pos[1]-1,agent.pos[2]-1),model) # check if end of microtuble\n",
    "                if agent.GDP  # if hydrolized\n",
    "                        agent.polym = rand(model.P_depolym_GDP,1)[1] # depolyimerize with P_depolym_GDP\n",
    "                    else\n",
    "                        agent.polym = rand(model.P_depolym_GTP,1)[1] # depolymerize with P_depolym_GDP     \n",
    "                end\n",
    "            end\n",
    "        end\n",
    "    end \n",
    "end"
   ]
  },
  {
   "cell_type": "code",
   "execution_count": 4,
   "metadata": {},
   "outputs": [
    {
     "data": {
      "text/plain": [
       "agent_step! (generic function with 1 method)"
      ]
     },
     "execution_count": 4,
     "metadata": {},
     "output_type": "execute_result"
    }
   ],
   "source": [
    "# Periodic agent step function\n",
    " # TODO: bounce check für agenten in eigene funktion aussiedeln\n",
    "function agent_step!(agent,model)\n",
    "    if agent.id > model.Nstarts  \n",
    "        if agent.polym == false   # Logic for unpolymerized agents:    \n",
    "             walk!(agent, rand, model, ifempty =true)#\n",
    "            for id in nearby_ids(agent, model,1) # \n",
    "                if  model[id].polym == true\n",
    "                   if model[id].pos[1] == agent.pos[1] + 1 && model[id].pos[2] == agent.pos[2] + 1  || model[id].pos[1] == 1 && agent.pos[1] == model.griddims[1] && model[id].pos[2] == agent.pos[2]+1 || model[id].pos[1] == agent.pos[1] + 1 && model[id].pos[2] == 1 && agent.pos[2] == model.griddims[2]|| model[id].pos[1] == 1 && agent.pos[1] == model.griddims[1] && model[id].pos[2] == 1 && agent.pos[2] == model.griddims[2]\n",
    "                        agent.polym = rand(model.P_polym,1)[1] \n",
    "                    end\n",
    "                end\n",
    "             end\n",
    "        end\n",
    "    if agent.polym\n",
    "        if agent.GDP == false   # if not hydrolized\n",
    "            agent.GDP = rand(model.P_hyd,1)[1] # hydrolize with P_hyd\n",
    "        end\n",
    "         if agent.pos[1]>1 && agent.pos[2]>1 && isempty(tuple(agent.pos[1]-1,agent.pos[2]-1),model) || agent.pos[1]==1 && agent.pos[2]>1 && isempty(tuple(model.griddims[1],agent.pos[2]-1),model)   || agent.pos[1]>1 && agent.pos[2]==1 && isempty(tuple(agent.pos[1]-1,model.griddims[2]),model)|| agent.pos[1]==1 && agent.pos[2]==1 && isempty(tuple(model.griddims[2],model.griddims[2]),model) || agent.pos[1] == model.griddims[1] && agent.pos[2]>1 && isempty(tuple(1, agent.pos[2]-1))|| agent.pos[1]>1 && agent.pos[2] == model.griddims[2] && isempty(tuple(agent.pos[2]-1,1 ))     \n",
    "                if agent.GDP  # if hydrolized\n",
    "                    agent.polym = rand(model.P_depolym_GDP,1)[1] # depolyimerize with P_depolym_GDP\n",
    "                else\n",
    "                    agent.polym = rand(model.P_depolym_GTP,1)[1]\n",
    "                end\n",
    "            end \n",
    "        end\n",
    "    end\n",
    "end"
   ]
  },
  {
   "cell_type": "code",
   "execution_count": 5,
   "metadata": {},
   "outputs": [
    {
     "data": {
      "text/plain": [
       "model_step! (generic function with 1 method)"
      ]
     },
     "execution_count": 5,
     "metadata": {},
     "output_type": "execute_result"
    }
   ],
   "source": [
    "# model-Step func:\n",
    "function model_step!(model)\n",
    "    # calculate mean microtuble length \n",
    "    \n",
    "\n",
    "end"
   ]
  },
  {
   "cell_type": "code",
   "execution_count": 16,
   "metadata": {},
   "outputs": [
    {
     "data": {
      "text/plain": [
       "AgentBasedModel with 1265 agents of type tubulin\n",
       " space: GridSpace with size (200, 200), metric=chebyshev, periodic=true\n",
       " scheduler: randomly\n",
       " properties: Dict{Symbol, Any}(:griddims => (200, 200), :P_hyd => Binomial{Float64}(n=1, p=0.02), :p_depolym_GDP => 0.03, :Nstarts => 15, :P_depolym_GTP => Binomial{Float64}(n=1, p=1.0), :periodic => true, :P_depolym_GDP => Binomial{Float64}(n=1, p=0.97), :p_polym => 0.8, :p_hyd => 0.02, :p_depolym_GTP => 0…)"
      ]
     },
     "execution_count": 16,
     "metadata": {},
     "output_type": "execute_result"
    }
   ],
   "source": [
    "# initialization\n",
    "model = initialize(\n",
    "    griddims =(200,200),\n",
    "    periodic= true,\n",
    "    Nstarts=15,\n",
    "    numagents = 1250,\n",
    "    p_polym=0.80,\n",
    "    p_hyd= 0.02,\n",
    "    p_depolym_GTP=0,\n",
    "    p_depolym_GDP=0.03)\n"
   ]
  },
  {
   "cell_type": "code",
   "execution_count": 17,
   "metadata": {},
   "outputs": [],
   "source": [
    "#Video out:\n",
    "\n",
    "# coloring\n",
    "\n",
    "groupcolor(a) = a.polym == true ? :red : :blue\n",
    "groupmarker(a) = a.GDP == true ? :circle : '○'\n",
    "\n",
    "#GLMakie.activate!()\n",
    "\n",
    "abm_video(\n",
    "    \"Microtubule_periodic_15starts.mp4\", model, agent_step!,model_step!;\n",
    "    ac = groupcolor, am = groupmarker,\n",
    "    framerate = 20, frames = 8500,\n",
    "    title = \"Microtubule Simulation Startingblock: ggriddims =(200,200),\n",
    "    periodic= true,\n",
    "    Nstarts=10,\n",
    "    numagents = 1250,\n",
    "    p_polym=0.80,\n",
    "    p_hyd= 0.03,\n",
    "    p_depolym_GTP=0,\n",
    "    p_depolym_GDP=0.02\")\n"
   ]
  },
  {
   "cell_type": "code",
   "execution_count": null,
   "metadata": {},
   "outputs": [],
   "source": []
  },
  {
   "cell_type": "code",
   "execution_count": 6,
   "metadata": {},
   "outputs": [
    {
     "data": {
      "text/plain": [
       "(\u001b[1m601000×5 DataFrame\u001b[0m\n",
       "\u001b[1m    Row \u001b[0m│\u001b[1m step  \u001b[0m\u001b[1m id    \u001b[0m\u001b[1m pos      \u001b[0m\u001b[1m polym \u001b[0m\u001b[1m GDP   \u001b[0m\n",
       "\u001b[1m        \u001b[0m│\u001b[90m Int64 \u001b[0m\u001b[90m Int64 \u001b[0m\u001b[90m Tuple…   \u001b[0m\u001b[90m Bool  \u001b[0m\u001b[90m Bool  \u001b[0m\n",
       "────────┼──────────────────────────────────────\n",
       "      1 │     0      1  (22, 1)   false  false\n",
       "      2 │     0      2  (49, 28)  false  false\n",
       "      3 │     0      3  (60, 53)  false  false\n",
       "      4 │     0      4  (63, 42)  false  false\n",
       "      5 │     0      5  (79, 30)  false  false\n",
       "      6 │     0      6  (16, 34)  false  false\n",
       "      7 │     0      7  (14, 73)  false  false\n",
       "      8 │     0      8  (6, 9)    false  false\n",
       "      9 │     0      9  (38, 71)  false  false\n",
       "     10 │     0     10  (36, 78)  false  false\n",
       "     11 │     0     11  (53, 12)  false  false\n",
       "   ⋮    │   ⋮      ⋮       ⋮        ⋮      ⋮\n",
       " 600991 │   600    991  (37, 56)  false  false\n",
       " 600992 │   600    992  (45, 10)  false  false\n",
       " 600993 │   600    993  (78, 33)  false  false\n",
       " 600994 │   600    994  (21, 73)  false  false\n",
       " 600995 │   600    995  (21, 29)  false  false\n",
       " 600996 │   600    996  (4, 40)   false  false\n",
       " 600997 │   600    997  (7, 3)    false  false\n",
       " 600998 │   600    998  (58, 36)  false  false\n",
       " 600999 │   600    999  (43, 21)  false  false\n",
       " 601000 │   600   1000  (39, 50)  false  false\n",
       "\u001b[36m                            600979 rows omitted\u001b[0m, \u001b[1m0×0 DataFrame\u001b[0m)"
      ]
     },
     "execution_count": 6,
     "metadata": {},
     "output_type": "execute_result"
    }
   ],
   "source": [
    "### Data collection\n",
    "\n",
    "adata = [:pos, :polym, :GDP]\n",
    "\n",
    "model = initialize(griddims =(80,80),\n",
    "    Nstarts=0,\n",
    "    numagents = 1000,\n",
    "    p_polym=0.99,\n",
    "    p_hyd= 0.1,\n",
    "    p_depolym_GTP=0.02,\n",
    "    p_depolym_GDP=0.04)\n",
    "\n",
    "data, _ = run!(model,agent_step!, model_step!,600;adata)\n",
    "\n",
    "\n"
   ]
  },
  {
   "cell_type": "code",
   "execution_count": 10,
   "metadata": {},
   "outputs": [
    {
     "data": {
      "text/plain": [
       "MSD (generic function with 1 method)"
      ]
     },
     "execution_count": 10,
     "metadata": {},
     "output_type": "execute_result"
    }
   ],
   "source": [
    "# MSD function\n",
    "function MSD(data)   \n",
    "    n_ids= maximum(data.id)\n",
    "    n_steps=maximum(data.step)+1\n",
    "    r=1:n_ids:n_steps*n_ids+n_ids\n",
    "    poses=hcat(collect.(data.pos)...)\n",
    "    x_0=poses[1,unique(data.id)]\n",
    "    y_0=poses[2,unique(data.id)]\n",
    "    MSD = zeros(n_steps) #array länge data.step init zeros()\n",
    "        for i in 1:n_steps\n",
    "            MSD[i]=mean(sqrt.((poses[1,r[i]:r[i+1]-1].-x_0).^2 + (poses[2,r[i]:r[i+1]-1].-y_0).^2))\n",
    "        end\n",
    "    return MSD\n",
    "end"
   ]
  },
  {
   "cell_type": "code",
   "execution_count": 7,
   "metadata": {},
   "outputs": [
    {
     "data": {
      "text/plain": [
       "(\u001b[1m180090000×4 DataFrame\u001b[0m\n",
       "\u001b[1m       Row \u001b[0m│\u001b[1m step  \u001b[0m\u001b[1m id    \u001b[0m\u001b[1m pos        \u001b[0m\u001b[1m ensemble \u001b[0m\n",
       "\u001b[1m           \u001b[0m│\u001b[90m Int64 \u001b[0m\u001b[90m Int64 \u001b[0m\u001b[90m Tuple…     \u001b[0m\u001b[90m Int64    \u001b[0m\n",
       "───────────┼────────────────────────────────────\n",
       "         1 │     0      1  (77, 25)           1\n",
       "         2 │     0      2  (5, 51)            1\n",
       "         3 │     0      3  (44, 59)           1\n",
       "         4 │     0      4  (13, 64)           1\n",
       "         5 │     0      5  (29, 49)           1\n",
       "         6 │     0      6  (4, 66)            1\n",
       "         7 │     0      7  (11, 13)           1\n",
       "         8 │     0      8  (3, 45)            1\n",
       "         9 │     0      9  (26, 21)           1\n",
       "        10 │     0     10  (10, 48)           1\n",
       "        11 │     0     11  (5, 40)            1\n",
       "     ⋮     │   ⋮      ⋮        ⋮          ⋮\n",
       " 180089991 │  2000    991  (6, 200)          90\n",
       " 180089992 │  2000    992  (189, 22)         90\n",
       " 180089993 │  2000    993  (183, 179)        90\n",
       " 180089994 │  2000    994  (177, 77)         90\n",
       " 180089995 │  2000    995  (47, 28)          90\n",
       " 180089996 │  2000    996  (170, 158)        90\n",
       " 180089997 │  2000    997  (103, 165)        90\n",
       " 180089998 │  2000    998  (149, 104)        90\n",
       " 180089999 │  2000    999  (108, 98)         90\n",
       " 180090000 │  2000   1000  (158, 71)         90\n",
       "\u001b[36m                          180089979 rows omitted\u001b[0m, \u001b[1m0×1 DataFrame\u001b[0m, AgentBasedModel{GridSpace{2, true, Nothing}, tubulin, typeof(Agents.Schedulers.randomly), Dict{Symbol, Any}, Random.MersenneTwister}[AgentBasedModel with 1000 agents of type tubulin\n",
       " space: GridSpace with size (80, 80), metric=chebyshev, periodic=true\n",
       " scheduler: randomly\n",
       " properties: Dict{Symbol, Any}(:griddims => (80, 80), :P_hyd => Binomial{Float64}(n=1, p=0.0), :p_depolym_GDP => 0, :Nstarts => 0, :P_depolym_GTP => Binomial{Float64}(n=1, p=1.0), :periodic => true, :P_depolym_GDP => Binomial{Float64}(n=1, p=1.0), :p_polym => 0, :p_hyd => 0, :p_depolym_GTP => 0…), AgentBasedModel with 1000 agents of type tubulin\n",
       " space: GridSpace with size (100, 100), metric=chebyshev, periodic=true\n",
       " scheduler: randomly\n",
       " properties: Dict{Symbol, Any}(:griddims => (100, 100), :P_hyd => Binomial{Float64}(n=1, p=0.0), :p_depolym_GDP => 0, :Nstarts => 0, :P_depolym_GTP => Binomial{Float64}(n=1, p=1.0), :periodic => true, :P_depolym_GDP => Binomial{Float64}(n=1, p=1.0), :p_polym => 0, :p_hyd => 0, :p_depolym_GTP => 0…), AgentBasedModel with 1000 agents of type tubulin\n",
       " space: GridSpace with size (200, 200), metric=chebyshev, periodic=true\n",
       " scheduler: randomly\n",
       " properties: Dict{Symbol, Any}(:griddims => (200, 200), :P_hyd => Binomial{Float64}(n=1, p=0.0), :p_depolym_GDP => 0, :Nstarts => 0, :P_depolym_GTP => Binomial{Float64}(n=1, p=1.0), :periodic => true, :P_depolym_GDP => Binomial{Float64}(n=1, p=1.0), :p_polym => 0, :p_hyd => 0, :p_depolym_GTP => 0…), AgentBasedModel with 1000 agents of type tubulin\n",
       " space: GridSpace with size (80, 80), metric=chebyshev, periodic=true\n",
       " scheduler: randomly\n",
       " properties: Dict{Symbol, Any}(:griddims => (80, 80), :P_hyd => Binomial{Float64}(n=1, p=0.0), :p_depolym_GDP => 0, :Nstarts => 0, :P_depolym_GTP => Binomial{Float64}(n=1, p=1.0), :periodic => true, :P_depolym_GDP => Binomial{Float64}(n=1, p=1.0), :p_polym => 0, :p_hyd => 0, :p_depolym_GTP => 0…), AgentBasedModel with 1000 agents of type tubulin\n",
       " space: GridSpace with size (100, 100), metric=chebyshev, periodic=true\n",
       " scheduler: randomly\n",
       " properties: Dict{Symbol, Any}(:griddims => (100, 100), :P_hyd => Binomial{Float64}(n=1, p=0.0), :p_depolym_GDP => 0, :Nstarts => 0, :P_depolym_GTP => Binomial{Float64}(n=1, p=1.0), :periodic => true, :P_depolym_GDP => Binomial{Float64}(n=1, p=1.0), :p_polym => 0, :p_hyd => 0, :p_depolym_GTP => 0…), AgentBasedModel with 1000 agents of type tubulin\n",
       " space: GridSpace with size (200, 200), metric=chebyshev, periodic=true\n",
       " scheduler: randomly\n",
       " properties: Dict{Symbol, Any}(:griddims => (200, 200), :P_hyd => Binomial{Float64}(n=1, p=0.0), :p_depolym_GDP => 0, :Nstarts => 0, :P_depolym_GTP => Binomial{Float64}(n=1, p=1.0), :periodic => true, :P_depolym_GDP => Binomial{Float64}(n=1, p=1.0), :p_polym => 0, :p_hyd => 0, :p_depolym_GTP => 0…), AgentBasedModel with 1000 agents of type tubulin\n",
       " space: GridSpace with size (80, 80), metric=chebyshev, periodic=true\n",
       " scheduler: randomly\n",
       " properties: Dict{Symbol, Any}(:griddims => (80, 80), :P_hyd => Binomial{Float64}(n=1, p=0.0), :p_depolym_GDP => 0, :Nstarts => 0, :P_depolym_GTP => Binomial{Float64}(n=1, p=1.0), :periodic => true, :P_depolym_GDP => Binomial{Float64}(n=1, p=1.0), :p_polym => 0, :p_hyd => 0, :p_depolym_GTP => 0…), AgentBasedModel with 1000 agents of type tubulin\n",
       " space: GridSpace with size (100, 100), metric=chebyshev, periodic=true\n",
       " scheduler: randomly\n",
       " properties: Dict{Symbol, Any}(:griddims => (100, 100), :P_hyd => Binomial{Float64}(n=1, p=0.0), :p_depolym_GDP => 0, :Nstarts => 0, :P_depolym_GTP => Binomial{Float64}(n=1, p=1.0), :periodic => true, :P_depolym_GDP => Binomial{Float64}(n=1, p=1.0), :p_polym => 0, :p_hyd => 0, :p_depolym_GTP => 0…), AgentBasedModel with 1000 agents of type tubulin\n",
       " space: GridSpace with size (200, 200), metric=chebyshev, periodic=true\n",
       " scheduler: randomly\n",
       " properties: Dict{Symbol, Any}(:griddims => (200, 200), :P_hyd => Binomial{Float64}(n=1, p=0.0), :p_depolym_GDP => 0, :Nstarts => 0, :P_depolym_GTP => Binomial{Float64}(n=1, p=1.0), :periodic => true, :P_depolym_GDP => Binomial{Float64}(n=1, p=1.0), :p_polym => 0, :p_hyd => 0, :p_depolym_GTP => 0…), AgentBasedModel with 1000 agents of type tubulin\n",
       " space: GridSpace with size (80, 80), metric=chebyshev, periodic=true\n",
       " scheduler: randomly\n",
       " properties: Dict{Symbol, Any}(:griddims => (80, 80), :P_hyd => Binomial{Float64}(n=1, p=0.0), :p_depolym_GDP => 0, :Nstarts => 0, :P_depolym_GTP => Binomial{Float64}(n=1, p=1.0), :periodic => true, :P_depolym_GDP => Binomial{Float64}(n=1, p=1.0), :p_polym => 0, :p_hyd => 0, :p_depolym_GTP => 0…)  …  AgentBasedModel with 1000 agents of type tubulin\n",
       " space: GridSpace with size (200, 200), metric=chebyshev, periodic=true\n",
       " scheduler: randomly\n",
       " properties: Dict{Symbol, Any}(:griddims => (200, 200), :P_hyd => Binomial{Float64}(n=1, p=0.0), :p_depolym_GDP => 0, :Nstarts => 0, :P_depolym_GTP => Binomial{Float64}(n=1, p=1.0), :periodic => true, :P_depolym_GDP => Binomial{Float64}(n=1, p=1.0), :p_polym => 0, :p_hyd => 0, :p_depolym_GTP => 0…), AgentBasedModel with 1000 agents of type tubulin\n",
       " space: GridSpace with size (80, 80), metric=chebyshev, periodic=true\n",
       " scheduler: randomly\n",
       " properties: Dict{Symbol, Any}(:griddims => (80, 80), :P_hyd => Binomial{Float64}(n=1, p=0.0), :p_depolym_GDP => 0, :Nstarts => 0, :P_depolym_GTP => Binomial{Float64}(n=1, p=1.0), :periodic => true, :P_depolym_GDP => Binomial{Float64}(n=1, p=1.0), :p_polym => 0, :p_hyd => 0, :p_depolym_GTP => 0…), AgentBasedModel with 1000 agents of type tubulin\n",
       " space: GridSpace with size (100, 100), metric=chebyshev, periodic=true\n",
       " scheduler: randomly\n",
       " properties: Dict{Symbol, Any}(:griddims => (100, 100), :P_hyd => Binomial{Float64}(n=1, p=0.0), :p_depolym_GDP => 0, :Nstarts => 0, :P_depolym_GTP => Binomial{Float64}(n=1, p=1.0), :periodic => true, :P_depolym_GDP => Binomial{Float64}(n=1, p=1.0), :p_polym => 0, :p_hyd => 0, :p_depolym_GTP => 0…), AgentBasedModel with 1000 agents of type tubulin\n",
       " space: GridSpace with size (200, 200), metric=chebyshev, periodic=true\n",
       " scheduler: randomly\n",
       " properties: Dict{Symbol, Any}(:griddims => (200, 200), :P_hyd => Binomial{Float64}(n=1, p=0.0), :p_depolym_GDP => 0, :Nstarts => 0, :P_depolym_GTP => Binomial{Float64}(n=1, p=1.0), :periodic => true, :P_depolym_GDP => Binomial{Float64}(n=1, p=1.0), :p_polym => 0, :p_hyd => 0, :p_depolym_GTP => 0…), AgentBasedModel with 1000 agents of type tubulin\n",
       " space: GridSpace with size (80, 80), metric=chebyshev, periodic=true\n",
       " scheduler: randomly\n",
       " properties: Dict{Symbol, Any}(:griddims => (80, 80), :P_hyd => Binomial{Float64}(n=1, p=0.0), :p_depolym_GDP => 0, :Nstarts => 0, :P_depolym_GTP => Binomial{Float64}(n=1, p=1.0), :periodic => true, :P_depolym_GDP => Binomial{Float64}(n=1, p=1.0), :p_polym => 0, :p_hyd => 0, :p_depolym_GTP => 0…), AgentBasedModel with 1000 agents of type tubulin\n",
       " space: GridSpace with size (100, 100), metric=chebyshev, periodic=true\n",
       " scheduler: randomly\n",
       " properties: Dict{Symbol, Any}(:griddims => (100, 100), :P_hyd => Binomial{Float64}(n=1, p=0.0), :p_depolym_GDP => 0, :Nstarts => 0, :P_depolym_GTP => Binomial{Float64}(n=1, p=1.0), :periodic => true, :P_depolym_GDP => Binomial{Float64}(n=1, p=1.0), :p_polym => 0, :p_hyd => 0, :p_depolym_GTP => 0…), AgentBasedModel with 1000 agents of type tubulin\n",
       " space: GridSpace with size (200, 200), metric=chebyshev, periodic=true\n",
       " scheduler: randomly\n",
       " properties: Dict{Symbol, Any}(:griddims => (200, 200), :P_hyd => Binomial{Float64}(n=1, p=0.0), :p_depolym_GDP => 0, :Nstarts => 0, :P_depolym_GTP => Binomial{Float64}(n=1, p=1.0), :periodic => true, :P_depolym_GDP => Binomial{Float64}(n=1, p=1.0), :p_polym => 0, :p_hyd => 0, :p_depolym_GTP => 0…), AgentBasedModel with 1000 agents of type tubulin\n",
       " space: GridSpace with size (80, 80), metric=chebyshev, periodic=true\n",
       " scheduler: randomly\n",
       " properties: Dict{Symbol, Any}(:griddims => (80, 80), :P_hyd => Binomial{Float64}(n=1, p=0.0), :p_depolym_GDP => 0, :Nstarts => 0, :P_depolym_GTP => Binomial{Float64}(n=1, p=1.0), :periodic => true, :P_depolym_GDP => Binomial{Float64}(n=1, p=1.0), :p_polym => 0, :p_hyd => 0, :p_depolym_GTP => 0…), AgentBasedModel with 1000 agents of type tubulin\n",
       " space: GridSpace with size (100, 100), metric=chebyshev, periodic=true\n",
       " scheduler: randomly\n",
       " properties: Dict{Symbol, Any}(:griddims => (100, 100), :P_hyd => Binomial{Float64}(n=1, p=0.0), :p_depolym_GDP => 0, :Nstarts => 0, :P_depolym_GTP => Binomial{Float64}(n=1, p=1.0), :periodic => true, :P_depolym_GDP => Binomial{Float64}(n=1, p=1.0), :p_polym => 0, :p_hyd => 0, :p_depolym_GTP => 0…), AgentBasedModel with 1000 agents of type tubulin\n",
       " space: GridSpace with size (200, 200), metric=chebyshev, periodic=true\n",
       " scheduler: randomly\n",
       " properties: Dict{Symbol, Any}(:griddims => (200, 200), :P_hyd => Binomial{Float64}(n=1, p=0.0), :p_depolym_GDP => 0, :Nstarts => 0, :P_depolym_GTP => Binomial{Float64}(n=1, p=1.0), :periodic => true, :P_depolym_GDP => Binomial{Float64}(n=1, p=1.0), :p_polym => 0, :p_hyd => 0, :p_depolym_GTP => 0…)])"
      ]
     },
     "execution_count": 7,
     "metadata": {},
     "output_type": "execute_result"
    }
   ],
   "source": [
    "## Ensemble run RW\n",
    "models = [initialize(; Nstarts=0,\n",
    "        periodic= true,\n",
    "        numagents = 1000,\n",
    "        griddims=(x,x), \n",
    "        p_hyd=0,\n",
    "        p_polym=0,\n",
    "        p_depolym_GTP=0,\n",
    "        p_depolym_GDP=0) for x in repeat([80, 100, 200], 30)];\n",
    "\n",
    "adata = [:pos]\n",
    "\n",
    "adf, = ensemblerun!(models, agent_step!, model_step!, 2000; adata)\n",
    "using CSV\n",
    "CSV.write(\"Periodic_ensemble_80_100_200_1kagents_a30_2500_step_runs.csv\", adf)"
   ]
  },
  {
   "cell_type": "code",
   "execution_count": 18,
   "metadata": {},
   "outputs": [
    {
     "data": {
      "text/plain": [
       "(\u001b[1m182791350×4 DataFrame\u001b[0m\n",
       "\u001b[1m       Row \u001b[0m│\u001b[1m step  \u001b[0m\u001b[1m id    \u001b[0m\u001b[1m pos        \u001b[0m\u001b[1m ensemble \u001b[0m\n",
       "\u001b[1m           \u001b[0m│\u001b[90m Int64 \u001b[0m\u001b[90m Int64 \u001b[0m\u001b[90m Tuple…     \u001b[0m\u001b[90m Int64    \u001b[0m\n",
       "───────────┼────────────────────────────────────\n",
       "         1 │     0      1  (50, 50)           1\n",
       "         2 │     0      2  (3, 79)            1\n",
       "         3 │     0      3  (82, 111)          1\n",
       "         4 │     0      4  (50, 120)          1\n",
       "         5 │     0      5  (33, 31)           1\n",
       "         6 │     0      6  (96, 59)           1\n",
       "         7 │     0      7  (55, 87)           1\n",
       "         8 │     0      8  (89, 72)           1\n",
       "         9 │     0      9  (9, 60)            1\n",
       "        10 │     0     10  (92, 65)           1\n",
       "        11 │     0     11  (2, 76)            1\n",
       "     ⋮     │   ⋮      ⋮        ⋮          ⋮\n",
       " 182791341 │  2000   1006  (26, 168)         90\n",
       " 182791342 │  2000   1007  (124, 124)        90\n",
       " 182791343 │  2000   1008  (5, 5)            90\n",
       " 182791344 │  2000   1009  (111, 60)         90\n",
       " 182791345 │  2000   1010  (177, 134)        90\n",
       " 182791346 │  2000   1011  (25, 171)         90\n",
       " 182791347 │  2000   1012  (62, 160)         90\n",
       " 182791348 │  2000   1013  (126, 149)        90\n",
       " 182791349 │  2000   1014  (135, 146)        90\n",
       " 182791350 │  2000   1015  (12, 142)         90\n",
       "\u001b[36m                          182791329 rows omitted\u001b[0m, \u001b[1m0×1 DataFrame\u001b[0m, AgentBasedModel{GridSpace{2, true, Nothing}, tubulin, typeof(Agents.Schedulers.randomly), Dict{Symbol, Any}, Random.MersenneTwister}[AgentBasedModel with 1015 agents of type tubulin\n",
       " space: GridSpace with size (120, 120), metric=chebyshev, periodic=true\n",
       " scheduler: randomly\n",
       " properties: Dict{Symbol, Any}(:griddims => (120, 120), :P_hyd => Binomial{Float64}(n=1, p=0.02), :p_depolym_GDP => 0.03, :Nstarts => 15, :P_depolym_GTP => Binomial{Float64}(n=1, p=1.0), :periodic => true, :P_depolym_GDP => Binomial{Float64}(n=1, p=0.97), :p_polym => 0.8, :p_hyd => 0.02, :p_depolym_GTP => 0…), AgentBasedModel with 1015 agents of type tubulin\n",
       " space: GridSpace with size (150, 150), metric=chebyshev, periodic=true\n",
       " scheduler: randomly\n",
       " properties: Dict{Symbol, Any}(:griddims => (150, 150), :P_hyd => Binomial{Float64}(n=1, p=0.02), :p_depolym_GDP => 0.03, :Nstarts => 15, :P_depolym_GTP => Binomial{Float64}(n=1, p=1.0), :periodic => true, :P_depolym_GDP => Binomial{Float64}(n=1, p=0.97), :p_polym => 0.8, :p_hyd => 0.02, :p_depolym_GTP => 0…), AgentBasedModel with 1015 agents of type tubulin\n",
       " space: GridSpace with size (200, 200), metric=chebyshev, periodic=true\n",
       " scheduler: randomly\n",
       " properties: Dict{Symbol, Any}(:griddims => (200, 200), :P_hyd => Binomial{Float64}(n=1, p=0.02), :p_depolym_GDP => 0.03, :Nstarts => 15, :P_depolym_GTP => Binomial{Float64}(n=1, p=1.0), :periodic => true, :P_depolym_GDP => Binomial{Float64}(n=1, p=0.97), :p_polym => 0.8, :p_hyd => 0.02, :p_depolym_GTP => 0…), AgentBasedModel with 1015 agents of type tubulin\n",
       " space: GridSpace with size (120, 120), metric=chebyshev, periodic=true\n",
       " scheduler: randomly\n",
       " properties: Dict{Symbol, Any}(:griddims => (120, 120), :P_hyd => Binomial{Float64}(n=1, p=0.02), :p_depolym_GDP => 0.03, :Nstarts => 15, :P_depolym_GTP => Binomial{Float64}(n=1, p=1.0), :periodic => true, :P_depolym_GDP => Binomial{Float64}(n=1, p=0.97), :p_polym => 0.8, :p_hyd => 0.02, :p_depolym_GTP => 0…), AgentBasedModel with 1015 agents of type tubulin\n",
       " space: GridSpace with size (150, 150), metric=chebyshev, periodic=true\n",
       " scheduler: randomly\n",
       " properties: Dict{Symbol, Any}(:griddims => (150, 150), :P_hyd => Binomial{Float64}(n=1, p=0.02), :p_depolym_GDP => 0.03, :Nstarts => 15, :P_depolym_GTP => Binomial{Float64}(n=1, p=1.0), :periodic => true, :P_depolym_GDP => Binomial{Float64}(n=1, p=0.97), :p_polym => 0.8, :p_hyd => 0.02, :p_depolym_GTP => 0…), AgentBasedModel with 1015 agents of type tubulin\n",
       " space: GridSpace with size (200, 200), metric=chebyshev, periodic=true\n",
       " scheduler: randomly\n",
       " properties: Dict{Symbol, Any}(:griddims => (200, 200), :P_hyd => Binomial{Float64}(n=1, p=0.02), :p_depolym_GDP => 0.03, :Nstarts => 15, :P_depolym_GTP => Binomial{Float64}(n=1, p=1.0), :periodic => true, :P_depolym_GDP => Binomial{Float64}(n=1, p=0.97), :p_polym => 0.8, :p_hyd => 0.02, :p_depolym_GTP => 0…), AgentBasedModel with 1015 agents of type tubulin\n",
       " space: GridSpace with size (120, 120), metric=chebyshev, periodic=true\n",
       " scheduler: randomly\n",
       " properties: Dict{Symbol, Any}(:griddims => (120, 120), :P_hyd => Binomial{Float64}(n=1, p=0.02), :p_depolym_GDP => 0.03, :Nstarts => 15, :P_depolym_GTP => Binomial{Float64}(n=1, p=1.0), :periodic => true, :P_depolym_GDP => Binomial{Float64}(n=1, p=0.97), :p_polym => 0.8, :p_hyd => 0.02, :p_depolym_GTP => 0…), AgentBasedModel with 1015 agents of type tubulin\n",
       " space: GridSpace with size (150, 150), metric=chebyshev, periodic=true\n",
       " scheduler: randomly\n",
       " properties: Dict{Symbol, Any}(:griddims => (150, 150), :P_hyd => Binomial{Float64}(n=1, p=0.02), :p_depolym_GDP => 0.03, :Nstarts => 15, :P_depolym_GTP => Binomial{Float64}(n=1, p=1.0), :periodic => true, :P_depolym_GDP => Binomial{Float64}(n=1, p=0.97), :p_polym => 0.8, :p_hyd => 0.02, :p_depolym_GTP => 0…), AgentBasedModel with 1015 agents of type tubulin\n",
       " space: GridSpace with size (200, 200), metric=chebyshev, periodic=true\n",
       " scheduler: randomly\n",
       " properties: Dict{Symbol, Any}(:griddims => (200, 200), :P_hyd => Binomial{Float64}(n=1, p=0.02), :p_depolym_GDP => 0.03, :Nstarts => 15, :P_depolym_GTP => Binomial{Float64}(n=1, p=1.0), :periodic => true, :P_depolym_GDP => Binomial{Float64}(n=1, p=0.97), :p_polym => 0.8, :p_hyd => 0.02, :p_depolym_GTP => 0…), AgentBasedModel with 1015 agents of type tubulin\n",
       " space: GridSpace with size (120, 120), metric=chebyshev, periodic=true\n",
       " scheduler: randomly\n",
       " properties: Dict{Symbol, Any}(:griddims => (120, 120), :P_hyd => Binomial{Float64}(n=1, p=0.02), :p_depolym_GDP => 0.03, :Nstarts => 15, :P_depolym_GTP => Binomial{Float64}(n=1, p=1.0), :periodic => true, :P_depolym_GDP => Binomial{Float64}(n=1, p=0.97), :p_polym => 0.8, :p_hyd => 0.02, :p_depolym_GTP => 0…)  …  AgentBasedModel with 1015 agents of type tubulin\n",
       " space: GridSpace with size (200, 200), metric=chebyshev, periodic=true\n",
       " scheduler: randomly\n",
       " properties: Dict{Symbol, Any}(:griddims => (200, 200), :P_hyd => Binomial{Float64}(n=1, p=0.02), :p_depolym_GDP => 0.03, :Nstarts => 15, :P_depolym_GTP => Binomial{Float64}(n=1, p=1.0), :periodic => true, :P_depolym_GDP => Binomial{Float64}(n=1, p=0.97), :p_polym => 0.8, :p_hyd => 0.02, :p_depolym_GTP => 0…), AgentBasedModel with 1015 agents of type tubulin\n",
       " space: GridSpace with size (120, 120), metric=chebyshev, periodic=true\n",
       " scheduler: randomly\n",
       " properties: Dict{Symbol, Any}(:griddims => (120, 120), :P_hyd => Binomial{Float64}(n=1, p=0.02), :p_depolym_GDP => 0.03, :Nstarts => 15, :P_depolym_GTP => Binomial{Float64}(n=1, p=1.0), :periodic => true, :P_depolym_GDP => Binomial{Float64}(n=1, p=0.97), :p_polym => 0.8, :p_hyd => 0.02, :p_depolym_GTP => 0…), AgentBasedModel with 1015 agents of type tubulin\n",
       " space: GridSpace with size (150, 150), metric=chebyshev, periodic=true\n",
       " scheduler: randomly\n",
       " properties: Dict{Symbol, Any}(:griddims => (150, 150), :P_hyd => Binomial{Float64}(n=1, p=0.02), :p_depolym_GDP => 0.03, :Nstarts => 15, :P_depolym_GTP => Binomial{Float64}(n=1, p=1.0), :periodic => true, :P_depolym_GDP => Binomial{Float64}(n=1, p=0.97), :p_polym => 0.8, :p_hyd => 0.02, :p_depolym_GTP => 0…), AgentBasedModel with 1015 agents of type tubulin\n",
       " space: GridSpace with size (200, 200), metric=chebyshev, periodic=true\n",
       " scheduler: randomly\n",
       " properties: Dict{Symbol, Any}(:griddims => (200, 200), :P_hyd => Binomial{Float64}(n=1, p=0.02), :p_depolym_GDP => 0.03, :Nstarts => 15, :P_depolym_GTP => Binomial{Float64}(n=1, p=1.0), :periodic => true, :P_depolym_GDP => Binomial{Float64}(n=1, p=0.97), :p_polym => 0.8, :p_hyd => 0.02, :p_depolym_GTP => 0…), AgentBasedModel with 1015 agents of type tubulin\n",
       " space: GridSpace with size (120, 120), metric=chebyshev, periodic=true\n",
       " scheduler: randomly\n",
       " properties: Dict{Symbol, Any}(:griddims => (120, 120), :P_hyd => Binomial{Float64}(n=1, p=0.02), :p_depolym_GDP => 0.03, :Nstarts => 15, :P_depolym_GTP => Binomial{Float64}(n=1, p=1.0), :periodic => true, :P_depolym_GDP => Binomial{Float64}(n=1, p=0.97), :p_polym => 0.8, :p_hyd => 0.02, :p_depolym_GTP => 0…), AgentBasedModel with 1015 agents of type tubulin\n",
       " space: GridSpace with size (150, 150), metric=chebyshev, periodic=true\n",
       " scheduler: randomly\n",
       " properties: Dict{Symbol, Any}(:griddims => (150, 150), :P_hyd => Binomial{Float64}(n=1, p=0.02), :p_depolym_GDP => 0.03, :Nstarts => 15, :P_depolym_GTP => Binomial{Float64}(n=1, p=1.0), :periodic => true, :P_depolym_GDP => Binomial{Float64}(n=1, p=0.97), :p_polym => 0.8, :p_hyd => 0.02, :p_depolym_GTP => 0…), AgentBasedModel with 1015 agents of type tubulin\n",
       " space: GridSpace with size (200, 200), metric=chebyshev, periodic=true\n",
       " scheduler: randomly\n",
       " properties: Dict{Symbol, Any}(:griddims => (200, 200), :P_hyd => Binomial{Float64}(n=1, p=0.02), :p_depolym_GDP => 0.03, :Nstarts => 15, :P_depolym_GTP => Binomial{Float64}(n=1, p=1.0), :periodic => true, :P_depolym_GDP => Binomial{Float64}(n=1, p=0.97), :p_polym => 0.8, :p_hyd => 0.02, :p_depolym_GTP => 0…), AgentBasedModel with 1015 agents of type tubulin\n",
       " space: GridSpace with size (120, 120), metric=chebyshev, periodic=true\n",
       " scheduler: randomly\n",
       " properties: Dict{Symbol, Any}(:griddims => (120, 120), :P_hyd => Binomial{Float64}(n=1, p=0.02), :p_depolym_GDP => 0.03, :Nstarts => 15, :P_depolym_GTP => Binomial{Float64}(n=1, p=1.0), :periodic => true, :P_depolym_GDP => Binomial{Float64}(n=1, p=0.97), :p_polym => 0.8, :p_hyd => 0.02, :p_depolym_GTP => 0…), AgentBasedModel with 1015 agents of type tubulin\n",
       " space: GridSpace with size (150, 150), metric=chebyshev, periodic=true\n",
       " scheduler: randomly\n",
       " properties: Dict{Symbol, Any}(:griddims => (150, 150), :P_hyd => Binomial{Float64}(n=1, p=0.02), :p_depolym_GDP => 0.03, :Nstarts => 15, :P_depolym_GTP => Binomial{Float64}(n=1, p=1.0), :periodic => true, :P_depolym_GDP => Binomial{Float64}(n=1, p=0.97), :p_polym => 0.8, :p_hyd => 0.02, :p_depolym_GTP => 0…), AgentBasedModel with 1015 agents of type tubulin\n",
       " space: GridSpace with size (200, 200), metric=chebyshev, periodic=true\n",
       " scheduler: randomly\n",
       " properties: Dict{Symbol, Any}(:griddims => (200, 200), :P_hyd => Binomial{Float64}(n=1, p=0.02), :p_depolym_GDP => 0.03, :Nstarts => 15, :P_depolym_GTP => Binomial{Float64}(n=1, p=1.0), :periodic => true, :P_depolym_GDP => Binomial{Float64}(n=1, p=0.97), :p_polym => 0.8, :p_hyd => 0.02, :p_depolym_GTP => 0…)])"
      ]
     },
     "execution_count": 18,
     "metadata": {},
     "output_type": "execute_result"
    }
   ],
   "source": [
    "## Ensemble run Microtubuli simulation\n",
    "models = [initialize(; Nstarts=15,\n",
    "        periodic= true,\n",
    "        numagents = 1000,\n",
    "        griddims=(x,x), \n",
    "        p_polym=0.80,\n",
    "        p_hyd= 0.02,\n",
    "        p_depolym_GTP=0,\n",
    "        p_depolym_GDP=0.03) for x in repeat([120,150, 200], 30)];\n",
    "\n",
    "adata = [:pos]\n",
    "\n",
    "adf, = ensemblerun!(models, agent_step!, model_step!, 2000; adata)"
   ]
  },
  {
   "cell_type": "code",
   "execution_count": 20,
   "metadata": {},
   "outputs": [
    {
     "data": {
      "text/plain": [
       "\"Periodic_simulation_120_150_200_1kagents_a30_2000_step_runs.csv\""
      ]
     },
     "execution_count": 20,
     "metadata": {},
     "output_type": "execute_result"
    }
   ],
   "source": [
    "## MSD for multiple ensembles\n",
    "\n",
    "MSDS = DataFrame(Step= levels(adf.step))\n",
    "for i in levels(adf.ensemble)\n",
    "    name = Symbol(\"ens_$i\")\n",
    "    MSDS[!,name] = MSD(adf[(adf.ensemble .== i ),:])\n",
    "end\n",
    "\n",
    "CSV.write(\"Periodic_simulation_120_150_200_1kagents_a30_2000_step_runs.csv\", MSDS)"
   ]
  },
  {
   "cell_type": "code",
   "execution_count": 19,
   "metadata": {},
   "outputs": [
    {
     "data": {
      "text/plain": [
       "\"Periodic_simulation_120_150_200_1kagents_a30_2000_step_runs.csv\""
      ]
     },
     "execution_count": 19,
     "metadata": {},
     "output_type": "execute_result"
    }
   ],
   "source": [
    "CSV.write(\"Periodic_simulation_120_150_200_1kagents_a30_2000_step_runs.csv\", adf)"
   ]
  },
  {
   "cell_type": "code",
   "execution_count": null,
   "metadata": {},
   "outputs": [],
   "source": []
  },
  {
   "cell_type": "code",
   "execution_count": null,
   "metadata": {},
   "outputs": [],
   "source": [
    "\n"
   ]
  },
  {
   "cell_type": "code",
   "execution_count": null,
   "metadata": {},
   "outputs": [],
   "source": []
  }
 ],
 "metadata": {
  "kernelspec": {
   "display_name": "Julia 1.6.2",
   "language": "julia",
   "name": "julia-1.6"
  },
  "language_info": {
   "file_extension": ".jl",
   "mimetype": "application/julia",
   "name": "julia",
   "version": "1.6.2"
  }
 },
 "nbformat": 4,
 "nbformat_minor": 5
}
