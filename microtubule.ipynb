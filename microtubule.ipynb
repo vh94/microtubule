{
 "cells": [
  {
   "cell_type": "markdown",
   "id": "efe4e1f7",
   "metadata": {},
   "source": [
    "## Microtubule Dynamics ABM Julia notebook\n",
    "This notebook is intended as a development and testing file , so i will change regulary."
   ]
  },
  {
   "cell_type": "markdown",
   "id": "52a5e845",
   "metadata": {},
   "source": [
    "nächstes meeting 05.10 10:45\n",
    "\n",
    "### _TODO_ ::\n",
    "\n",
    "    - Drei Abbildungen erstellen für klein 100, mittel300, groß1000 ,a 50 mal begrenzte randbedingungen,\n",
    "    - seed funktion?!\n",
    "    - Standartdabweichung (korridor) \n",
    "    - Rohdaten gut aufbewahren, sinnvolle beschriftungen  \n",
    "    - Periodischen Randbedingugen mit in microtubuli modell implementieren ✓\n",
    "\n",
    "  - Wachstumsgeswindigkeit (erstmal ohne Depolymerisation) ~ N.Agenten/Gridsize & P-polymerisiert\n"
   ]
  },
  {
   "cell_type": "code",
   "execution_count": 1,
   "id": "8b08486d",
   "metadata": {},
   "outputs": [],
   "source": [
    "using Agents\n",
    "using CairoMakie\n",
    "using Distributions\n",
    "#import DrWatson: @dict"
   ]
  },
  {
   "cell_type": "code",
   "execution_count": 2,
   "id": "39afd913",
   "metadata": {},
   "outputs": [],
   "source": [
    "#= The agent class representing one tubulin dimer\n",
    "    those can polymerize and also hydrolize from GTP to GDP\n",
    "=#\n",
    "\n",
    "@agent tubulin GridAgent{2} begin\n",
    "    polym::Bool\n",
    "    GDP::Bool\n",
    "end"
   ]
  },
  {
   "cell_type": "code",
   "execution_count": 37,
   "id": "6c8c2be1",
   "metadata": {},
   "outputs": [
    {
     "data": {
      "text/plain": [
       "initialize (generic function with 1 method)"
      ]
     },
     "execution_count": 37,
     "metadata": {},
     "output_type": "execute_result"
    }
   ],
   "source": [
    "#= Main Function to initialize the model=#\n",
    "\n",
    "function initialize(;Nstarts=1, numagents = 550, periodic=false,\n",
    "        griddims = (100,100), \n",
    "        p_hyd= 0.001, \n",
    "        p_polym = 0.99,\n",
    "        p_depolym_GTP= 0.005,\n",
    "        p_depolym_GDP=0.01 )\n",
    "   \n",
    "    # Probability to hydrolize from GTP to GDP: \n",
    "    P_hyd = Binomial(1,p_hyd)\n",
    "    # Probability to Polymerize/bind to the microtuble \n",
    "    P_polym = Binomial(1,p_polym)\n",
    "    # Probability to depolimerize if not hydrolized (GTP - tubulin) = lower\n",
    "    P_depolym_GTP = Binomial(1,1-p_depolym_GTP)\n",
    "    # Probability to depolimerize if hydrolized (GDP - tubulin) = higher\n",
    "    P_depolym_GDP = Binomial(1,1-p_depolym_GDP)\n",
    "    \n",
    "    \n",
    "    properties = Dict(:griddims=> griddims,\n",
    "                    :periodic=>periodic,\n",
    "                    :numagents => numagents,\n",
    "                    :Nstarts => Nstarts,\n",
    "                    :p_hyd => p_hyd,\n",
    "                    :p_polym => p_polym,\n",
    "                    :p_depolym_GTP => p_depolym_GTP,\n",
    "                    :p_depolym_GDP => p_depolym_GDP,\n",
    "                    :P_hyd => P_hyd,\n",
    "                    :P_polym=> P_polym,\n",
    "                    :P_depolym_GTP=>  P_depolym_GTP,\n",
    "                    :P_depolym_GDP=> P_depolym_GDP\n",
    "                    )\n",
    "    \n",
    "    \n",
    "    space = GridSpace(griddims, periodic= periodic, metric = :chebyshev)\n",
    "    \n",
    "    model = ABM(\n",
    "        tubulin,space;\n",
    "        scheduler = Schedulers.randomly,\n",
    "        properties = properties\n",
    "    )\n",
    "    # populize Space\n",
    "    id = 0\n",
    "    # Startingpoints:\n",
    "    for _ in 1:Nstarts\n",
    "        id += 1\n",
    "        agent =  tubulin(id,(50,50),true,true)\n",
    "        if id == 1\n",
    "            add_agent_pos!(agent,model) # add first staringpoint to center\n",
    "        else\n",
    "            add_agent_single!(agent,model) # add additional startingpoints to random positions \n",
    "        end\n",
    "    end\n",
    "    # unpolimerized (free) agents\n",
    "    for _ in 1:numagents \n",
    "        id += 1\n",
    "        agent =  tubulin(id,(1,1),false,false)\n",
    "        add_agent_single!(agent,model) # add agents to random positions\n",
    "    end\n",
    "    return model\n",
    "end"
   ]
  },
  {
   "cell_type": "code",
   "execution_count": 78,
   "id": "f030c302",
   "metadata": {},
   "outputs": [
    {
     "data": {
      "text/plain": [
       "agent_step! (generic function with 1 method)"
      ]
     },
     "execution_count": 78,
     "metadata": {},
     "output_type": "execute_result"
    }
   ],
   "source": [
    "# peroidic agent step function\n",
    "function agent_step!(agent,model)\n",
    "    # bounce check für agenten (1|100 , y) | (x, 1|100) in eigene funktion aussiedeln\n",
    "   if agent.id > model.Nstarts  \n",
    "        # Logic for unpolymerized agents:\n",
    "        if agent.polym == false      \n",
    "             walk!(agent, rand, model, ifempty =true)#\n",
    "        for id in nearby_ids(agent, model,1) # \n",
    "            if  model[id].polym == true\n",
    "               if model[id].pos[1] == agent.pos[1] + 1 && model[id].pos[2] == agent.pos[2] + 1  || model[id].pos[1] == 1 && agent.pos[1] == model.griddims[1] && model[id].pos[2] == agent.pos[2]+1 || model[id].pos[1] == agent.pos[1] + 1 && model[id].pos[2] == 1 && agent.pos[2] == model.griddims[2]|| model[id].pos[1] == 1 && agent.pos[1] == model.griddims[1] && model[id].pos[2] == 1 && agent.pos[2] == model.griddims[2]\n",
    "                    agent.polym = rand(model.P_polym,1)[1] \n",
    "                end\n",
    "           end\n",
    "       end\n",
    "    if agent.polym\n",
    "            if agent.GDP == false   # if not hydrolized\n",
    "                agent.GDP = rand(model.P_hyd,1)[1] # hydrolize with P_hyd\n",
    "            end\n",
    "         if agent.pos[1]>1 && agent.pos[2]>1 && isempty(tuple(agent.pos[1]-1,agent.pos[2]-1),model) || agent.pos[1]==1 && agent.pos[2]>1 && isempty(tuple(model.griddims[1],agent.pos[2]-1),model)   || agent.pos[1]>1 && agent.pos[2]==1 && isempty(tuple(agent.pos[1]-1,model.griddims[2]),model)|| agent.pos[1]==1 && agent.pos[2]==1 && isempty(tuple(model.griddims[2],model.griddims[2]),model) || agent.pos[1] == model.griddims[1] && agent.pos[2]>1 && isempty(tuple(1, agent.pos[2]-1))|| agent.pos[1]>1 && agent.pos[2] == model.griddims[2] && isempty(tuple(agent.pos[2]-1,1 ))     \n",
    "                if agent.GDP  # if hydrolized\n",
    "                        agent.polym = rand(model.P_depolym_GDP,1)[1] # depolyimerize with P_depolym_GDP\n",
    "                    else\n",
    "                        agent.polym = rand(model.P_depolym_GTP,1)[1]\n",
    "                    end\n",
    "                end \n",
    "            end\n",
    "        end\n",
    "    end\n",
    "end"
   ]
  },
  {
   "cell_type": "code",
   "execution_count": 34,
   "id": "ad0f7fbc",
   "metadata": {},
   "outputs": [
    {
     "data": {
      "text/plain": [
       "agent_step! (generic function with 1 method)"
      ]
     },
     "execution_count": 34,
     "metadata": {},
     "output_type": "execute_result"
    }
   ],
   "source": [
    "# agent step func works with :chebyshev :non periodic\n",
    "function agent_step!(agent,model)\n",
    "    # Starting points have to stay the same\n",
    "    if agent.id > model.Nstarts  \n",
    "        # Logic for unpolymerized agents:\n",
    "        if agent.polym == false            \n",
    "            walk!(agent, rand, model, ifempty =true)# brownsche bewegung wenn nicht polymerisiert\n",
    "            for id in nearby_ids(agent, model, [(1, 1:1), (2, 1:1)]) # check topright neighbour\n",
    "                # Problem wenn periodisch metrik tuple arg Only possible with Chebyshev spaces.\n",
    "              #for id in nearby_ids(agent, model,1)\n",
    "                if model[id].polym # if polymerized\n",
    "                    agent.polym = rand(model.P_polym,1)[1] # polimerize with P_polym\n",
    "                end\n",
    "            end\n",
    "        end\n",
    "        # Logic for polymierized agents:\n",
    "        if agent.polym\n",
    "            if agent.GDP == false   # if not hydrolized\n",
    "                agent.GDP = rand(model.P_hyd,1)[1] # hydrolize with P_hyd\n",
    "            end\n",
    "            if isempty(tuple(agent.pos[1]-1,agent.pos[2]-1),model) # check if end of microtuble\n",
    "             # Problem wenn periodisch metrik \"attempt to access 100×100 Matrix{Vector{Int64}} at index [13, 0]\"\"\n",
    "\n",
    "                if agent.GDP  # if hydrolized\n",
    "                        agent.polym = rand(model.P_depolym_GDP,1)[1] # depolyimerize with P_depolym_GDP\n",
    "                    else\n",
    "                        agent.polym = rand(model.P_depolym_GTP,1)[1] # depolymerize with P_depolym_GDP     \n",
    "                end\n",
    "            end\n",
    "        end\n",
    "    end \n",
    "end"
   ]
  },
  {
   "cell_type": "code",
   "execution_count": 5,
   "id": "f31f6735",
   "metadata": {},
   "outputs": [
    {
     "data": {
      "text/plain": [
       "model_step! (generic function with 1 method)"
      ]
     },
     "execution_count": 5,
     "metadata": {},
     "output_type": "execute_result"
    }
   ],
   "source": [
    "# model-Step func:\n",
    "function model_step!(model)\n",
    "    # TODO: calculate mean squared displacement MSD for every tick\n",
    "    # calculate mean microtuble length \n",
    "\n",
    "end"
   ]
  },
  {
   "cell_type": "code",
   "execution_count": 79,
   "id": "f7e0cb5c",
   "metadata": {},
   "outputs": [
    {
     "data": {
      "text/plain": [
       "AgentBasedModel with 803 agents of type tubulin\n",
       " space: GridSpace with size (100, 100), metric=chebyshev, periodic=true\n",
       " scheduler: randomly\n",
       " properties: Dict{Symbol, Any}(:griddims => (100, 100), :P_hyd => Binomial{Float64}(n=1, p=0.15), :p_depolym_GDP => 0.09, :Nstarts => 3, :P_depolym_GTP => Binomial{Float64}(n=1, p=0.91), :periodic => true, :P_depolym_GDP => Binomial{Float64}(n=1, p=0.91), :p_polym => 0.99, :p_hyd => 0.15, :p_depolym_GTP => 0.09…)"
      ]
     },
     "execution_count": 79,
     "metadata": {},
     "output_type": "execute_result"
    }
   ],
   "source": [
    "# initialization\n",
    "model = initialize(\n",
    "    periodic= true,\n",
    "    Nstarts=3,\n",
    "    numagents = 800,\n",
    "    p_polym=0.99,\n",
    "    p_hyd= 0.15,\n",
    "    p_depolym_GTP=0.09,\n",
    "    p_depolym_GDP=0.09)\n"
   ]
  },
  {
   "cell_type": "code",
   "execution_count": 80,
   "id": "70ce64eb",
   "metadata": {},
   "outputs": [],
   "source": [
    "#Video out:\n",
    "using InteractiveDynamics\n",
    "using GLMakie\n",
    "# coloring\n",
    "\n",
    "groupcolor(a) = a.polym == true ? :red : :blue\n",
    "groupmarker(a) = a.GDP == true ? :circle : '○'\n",
    "\n",
    "#GLMakie.activate!()\n",
    "\n",
    "abm_video(\n",
    "    \"Microtubule_continuus.mp4\", model, agent_step!,model_step!;\n",
    "    ac = groupcolor, am = groupmarker,\n",
    "    framerate = 10, frames = 2000,\n",
    "    title = \"Microtubule Simulation:\"\n",
    ")\n"
   ]
  },
  {
   "cell_type": "code",
   "execution_count": null,
   "id": "e5458ed0",
   "metadata": {},
   "outputs": [],
   "source": [
    "### Data collection\n",
    "\n",
    "adata = [:pos, :polym, :GDP]\n",
    "\n",
    "model = initialize(griddims =(50,50),\n",
    "    Nstarts=0,\n",
    "    numagents = 40,\n",
    "    p_polym=0.99,\n",
    "    p_hyd= 0.0,\n",
    "    p_depolym_GTP=0.0,\n",
    "    p_depolym_GDP=0.0)\n",
    "\n",
    "data, _ = run!(model,agent_step!, model_step!,100;adata)\n",
    "\n",
    "\n"
   ]
  },
  {
   "cell_type": "code",
   "execution_count": null,
   "id": "d2c79725",
   "metadata": {},
   "outputs": [],
   "source": [
    "# MSD function\n",
    "function MSD(data)   \n",
    "    n_ids= maximum(data.id)\n",
    "    n_steps=maximum(data.step)+1\n",
    "    r=1:n_ids:n_steps*n_ids+n_ids\n",
    "    poses=hcat(collect.(data.pos)...)\n",
    "    x_0=poses[1,unique(data.id)]\n",
    "    y_0=poses[2,unique(data.id)]\n",
    "    MSD = zeros(n_steps) #array länge data.step init zeros()\n",
    "        for i in 1:n_steps\n",
    "            MSD[i]=mean(sqrt.((poses[1,r[i]:r[i+1]-1].-x_0).^2 + (poses[2,r[i]:r[i+1]-1].-y_0).^2))\n",
    "        end\n",
    "    return MSD\n",
    "end"
   ]
  },
  {
   "cell_type": "code",
   "execution_count": null,
   "id": "58f05fd4",
   "metadata": {},
   "outputs": [],
   "source": [
    "MSD(data)"
   ]
  },
  {
   "cell_type": "code",
   "execution_count": 64,
   "id": "c2265e64",
   "metadata": {},
   "outputs": [
    {
     "data": {
      "text/plain": [
       "(\u001b[1m300600×4 DataFrame\u001b[0m\n",
       "\u001b[1m    Row \u001b[0m│\u001b[1m step  \u001b[0m\u001b[1m id    \u001b[0m\u001b[1m pos        \u001b[0m\u001b[1m ensemble \u001b[0m\n",
       "\u001b[1m        \u001b[0m│\u001b[90m Int64 \u001b[0m\u001b[90m Int64 \u001b[0m\u001b[90m Tuple…     \u001b[0m\u001b[90m Int64    \u001b[0m\n",
       "────────┼────────────────────────────────────\n",
       "      1 │     0      1  (7, 87)            1\n",
       "      2 │     0      2  (10, 38)           1\n",
       "      3 │     0      3  (24, 39)           1\n",
       "      4 │     0      4  (28, 98)           1\n",
       "      5 │     0      5  (40, 23)           1\n",
       "      6 │     0      6  (90, 100)          1\n",
       "      7 │     0      7  (95, 18)           1\n",
       "      8 │     0      8  (71, 26)           1\n",
       "      9 │     0      9  (29, 41)           1\n",
       "     10 │     0     10  (21, 73)           1\n",
       "     11 │     0     11  (42, 20)           1\n",
       "   ⋮    │   ⋮      ⋮        ⋮          ⋮\n",
       " 300591 │   500    191  (721, 985)         3\n",
       " 300592 │   500    192  (387, 59)          3\n",
       " 300593 │   500    193  (498, 147)         3\n",
       " 300594 │   500    194  (838, 840)         3\n",
       " 300595 │   500    195  (15, 570)          3\n",
       " 300596 │   500    196  (511, 751)         3\n",
       " 300597 │   500    197  (514, 975)         3\n",
       " 300598 │   500    198  (914, 985)         3\n",
       " 300599 │   500    199  (319, 454)         3\n",
       " 300600 │   500    200  (4, 191)           3\n",
       "\u001b[36m                          300579 rows omitted\u001b[0m, \u001b[1m0×1 DataFrame\u001b[0m, AgentBasedModel{GridSpace{2, false, Nothing}, tubulin, typeof(Agents.Schedulers.randomly), Dict{Symbol, Any}, Random.MersenneTwister}[AgentBasedModel with 200 agents of type tubulin\n",
       " space: GridSpace with size (100, 100), metric=chebyshev, periodic=false\n",
       " scheduler: randomly\n",
       " properties: Dict{Symbol, Any}(:griddims => (100, 100), :P_hyd => Binomial{Float64}(n=1, p=0.0), :p_depolym_GDP => 0, :Nstarts => 0, :P_depolym_GTP => Binomial{Float64}(n=1, p=1.0), :periodic => false, :P_depolym_GDP => Binomial{Float64}(n=1, p=1.0), :p_polym => 0, :p_hyd => 0, :p_depolym_GTP => 0…), AgentBasedModel with 200 agents of type tubulin\n",
       " space: GridSpace with size (300, 300), metric=chebyshev, periodic=false\n",
       " scheduler: randomly\n",
       " properties: Dict{Symbol, Any}(:griddims => (300, 300), :P_hyd => Binomial{Float64}(n=1, p=0.0), :p_depolym_GDP => 0, :Nstarts => 0, :P_depolym_GTP => Binomial{Float64}(n=1, p=1.0), :periodic => false, :P_depolym_GDP => Binomial{Float64}(n=1, p=1.0), :p_polym => 0, :p_hyd => 0, :p_depolym_GTP => 0…), AgentBasedModel with 200 agents of type tubulin\n",
       " space: GridSpace with size (1000, 1000), metric=chebyshev, periodic=false\n",
       " scheduler: randomly\n",
       " properties: Dict{Symbol, Any}(:griddims => (1000, 1000), :P_hyd => Binomial{Float64}(n=1, p=0.0), :p_depolym_GDP => 0, :Nstarts => 0, :P_depolym_GTP => Binomial{Float64}(n=1, p=1.0), :periodic => false, :P_depolym_GDP => Binomial{Float64}(n=1, p=1.0), :p_polym => 0, :p_hyd => 0, :p_depolym_GTP => 0…)])"
      ]
     },
     "execution_count": 64,
     "metadata": {},
     "output_type": "execute_result"
    }
   ],
   "source": [
    "## Ensemble run\n",
    "models = [initialize(; Nstarts=0,\n",
    "        numagents=200,\n",
    "        griddims=(x,x), \n",
    "        p_hyd=0,\n",
    "        p_polym=0,\n",
    "        p_depolym_GTP=0,\n",
    "        p_depolym_GDP=0) for x in [100,300,1000]];\n",
    "\n",
    "adata = [:pos]\n",
    "\n",
    "adf, = ensemblerun!(models, agent_step!, model_step!, 500; adata)"
   ]
  },
  {
   "cell_type": "code",
   "execution_count": null,
   "id": "80397623",
   "metadata": {},
   "outputs": [],
   "source": [
    "## MSD for multiple ensembles\n",
    "\n",
    "MSDS = DataFrame(Step= levels(adf.step))\n",
    "for i in levels(adf.ensemble)\n",
    "    name = Symbol(\"ens_$i\")\n",
    "    MSDS[!,name] = MSD(adf[(adf.ensemble .== i ),:])\n",
    "end\n",
    "MSDS"
   ]
  },
  {
   "cell_type": "code",
   "execution_count": null,
   "id": "c74a28db",
   "metadata": {},
   "outputs": [],
   "source": [
    "#delete first row of df\n"
   ]
  },
  {
   "cell_type": "code",
   "execution_count": null,
   "id": "42466925",
   "metadata": {},
   "outputs": [],
   "source": [
    "# MSD plots\n",
    "MSDS = MSDS[setdiff(1:end, 1), :]#delete 0 timestep before plotting since log(0) not defined.\n",
    "f = Figure()\n",
    "Axis(f[1, 1],yscale=log10,xscale=log10)\n",
    "#Axis(f[1,1])\n",
    "lines!(MSDS.ens_1)\n",
    "lines!(MSDS.ens_2)\n",
    "lines!(MSDS.ens_3)\n",
    "lines!(MSDS.ens_4)\n",
    "lines!(MSDS.ens_5)\n",
    "lines!(MSDS.ens_6)\n",
    "lines!(MSDS.ens_7)\n",
    "lines!(MSDS.ens_8)\n",
    "lines!(MSDS.ens_9)\n",
    "lines!(MSDS.ens_10)\n",
    "f\n"
   ]
  },
  {
   "cell_type": "code",
   "execution_count": 65,
   "id": "ac685072",
   "metadata": {},
   "outputs": [
    {
     "data": {
      "text/plain": [
       "(Scene (1600px, 800px):\n",
       "  94 Plots:\n",
       "    ├ Combined{Makie.poly, Tuple{Vector{Vector{Point{2, Float32}}}}}\n",
       "    ├ LineSegments{Tuple{Vector{Point{2, Float32}}}}\n",
       "    ├ LineSegments{Tuple{Vector{Point{2, Float32}}}}\n",
       "    ├ LineSegments{Tuple{Vector{Point{2, Float32}}}}\n",
       "    ├ LineSegments{Tuple{Vector{Point{2, Float32}}}}\n",
       "    ├ LineSegments{Tuple{Vector{Point{2, Float32}}}}\n",
       "    ├ LineSegments{Tuple{Vector{Point{2, Float32}}}}\n",
       "    ├ MakieCore.Text{Tuple{String}}\n",
       "    ├ Lines{Tuple{Vector{Point{2, Float32}}}}\n",
       "    ├ MakieCore.Text{Tuple{Vector{Tuple{AbstractString, Point{2, Float32}}}}}\n",
       "    ├ LineSegments{Tuple{Vector{Point{2, Float32}}}}\n",
       "    ├ LineSegments{Tuple{Vector{Point{2, Float32}}}}\n",
       "    ├ MakieCore.Text{Tuple{String}}\n",
       "    ├ Lines{Tuple{Vector{Point{2, Float32}}}}\n",
       "    ├ MakieCore.Text{Tuple{Vector{Tuple{AbstractString, Point{2, Float32}}}}}\n",
       "    ├ Lines{Tuple{Vector{Point{2, Float32}}}}\n",
       "    ├ Lines{Tuple{Vector{Point{2, Float32}}}}\n",
       "    ├ MakieCore.Text{Tuple{String}}\n",
       "    ├ Scatter{Tuple{Vector{Point{2, Float32}}}}\n",
       "    ├ LineSegments{Tuple{Vector{Point{2, Float32}}}}\n",
       "    ├ Scatter{Tuple{Vector{Point{2, Float32}}}}\n",
       "    ├ MakieCore.Text{Tuple{String}}\n",
       "    ├ MakieCore.Text{Tuple{String}}\n",
       "    ├ Scatter{Tuple{Vector{Point{2, Float32}}}}\n",
       "    ├ LineSegments{Tuple{Vector{Point{2, Float32}}}}\n",
       "    ├ Scatter{Tuple{Vector{Point{2, Float32}}}}\n",
       "    ├ MakieCore.Text{Tuple{String}}\n",
       "    ├ MakieCore.Text{Tuple{String}}\n",
       "    ├ Scatter{Tuple{Vector{Point{2, Float32}}}}\n",
       "    ├ LineSegments{Tuple{Vector{Point{2, Float32}}}}\n",
       "    ├ Scatter{Tuple{Vector{Point{2, Float32}}}}\n",
       "    ├ MakieCore.Text{Tuple{String}}\n",
       "    ├ MakieCore.Text{Tuple{String}}\n",
       "    ├ Scatter{Tuple{Vector{Point{2, Float32}}}}\n",
       "    ├ LineSegments{Tuple{Vector{Point{2, Float32}}}}\n",
       "    ├ Scatter{Tuple{Vector{Point{2, Float32}}}}\n",
       "    ├ MakieCore.Text{Tuple{String}}\n",
       "    ├ MakieCore.Text{Tuple{String}}\n",
       "    ├ Scatter{Tuple{Vector{Point{2, Float32}}}}\n",
       "    ├ LineSegments{Tuple{Vector{Point{2, Float32}}}}\n",
       "    ├ Scatter{Tuple{Vector{Point{2, Float32}}}}\n",
       "    ├ MakieCore.Text{Tuple{String}}\n",
       "    ├ MakieCore.Text{Tuple{String}}\n",
       "    ├ Scatter{Tuple{Vector{Point{2, Float32}}}}\n",
       "    ├ LineSegments{Tuple{Vector{Point{2, Float32}}}}\n",
       "    ├ Scatter{Tuple{Vector{Point{2, Float32}}}}\n",
       "    ├ MakieCore.Text{Tuple{String}}\n",
       "    ├ MakieCore.Text{Tuple{String}}\n",
       "    ├ Scatter{Tuple{Vector{Point{2, Float32}}}}\n",
       "    ├ LineSegments{Tuple{Vector{Point{2, Float32}}}}\n",
       "    ├ Scatter{Tuple{Vector{Point{2, Float32}}}}\n",
       "    ├ MakieCore.Text{Tuple{String}}\n",
       "    ├ MakieCore.Text{Tuple{String}}\n",
       "    ├ Scatter{Tuple{Vector{Point{2, Float32}}}}\n",
       "    ├ LineSegments{Tuple{Vector{Point{2, Float32}}}}\n",
       "    ├ Scatter{Tuple{Vector{Point{2, Float32}}}}\n",
       "    ├ MakieCore.Text{Tuple{String}}\n",
       "    ├ MakieCore.Text{Tuple{String}}\n",
       "    ├ Combined{Makie.poly, Tuple{Vector{Vector{Point{2, Float32}}}}}\n",
       "    ├ LineSegments{Tuple{Vector{Point{2, Float32}}}}\n",
       "    ├ LineSegments{Tuple{Vector{Point{2, Float32}}}}\n",
       "    ├ LineSegments{Tuple{Vector{Point{2, Float32}}}}\n",
       "    ├ LineSegments{Tuple{Vector{Point{2, Float32}}}}\n",
       "    ├ LineSegments{Tuple{Vector{Point{2, Float32}}}}\n",
       "    ├ LineSegments{Tuple{Vector{Point{2, Float32}}}}\n",
       "    ├ MakieCore.Text{Tuple{String}}\n",
       "    ├ Lines{Tuple{Vector{Point{2, Float32}}}}\n",
       "    ├ MakieCore.Text{Tuple{Vector{Tuple{AbstractString, Point{2, Float32}}}}}\n",
       "    ├ LineSegments{Tuple{Vector{Point{2, Float32}}}}\n",
       "    ├ LineSegments{Tuple{Vector{Point{2, Float32}}}}\n",
       "    ├ MakieCore.Text{Tuple{String}}\n",
       "    ├ Lines{Tuple{Vector{Point{2, Float32}}}}\n",
       "    ├ MakieCore.Text{Tuple{Vector{Tuple{AbstractString, Point{2, Float32}}}}}\n",
       "    ├ Lines{Tuple{Vector{Point{2, Float32}}}}\n",
       "    ├ Lines{Tuple{Vector{Point{2, Float32}}}}\n",
       "    ├ MakieCore.Text{Tuple{String}}\n",
       "    ├ Combined{Makie.poly, Tuple{Vector{Vector{Point{2, Float32}}}}}\n",
       "    ├ LineSegments{Tuple{Vector{Point{2, Float32}}}}\n",
       "    ├ LineSegments{Tuple{Vector{Point{2, Float32}}}}\n",
       "    ├ LineSegments{Tuple{Vector{Point{2, Float32}}}}\n",
       "    ├ LineSegments{Tuple{Vector{Point{2, Float32}}}}\n",
       "    ├ LineSegments{Tuple{Vector{Point{2, Float32}}}}\n",
       "    ├ LineSegments{Tuple{Vector{Point{2, Float32}}}}\n",
       "    ├ MakieCore.Text{Tuple{String}}\n",
       "    ├ Lines{Tuple{Vector{Point{2, Float32}}}}\n",
       "    ├ MakieCore.Text{Tuple{Vector{Tuple{AbstractString, Point{2, Float32}}}}}\n",
       "    ├ LineSegments{Tuple{Vector{Point{2, Float32}}}}\n",
       "    ├ LineSegments{Tuple{Vector{Point{2, Float32}}}}\n",
       "    ├ MakieCore.Text{Tuple{String}}\n",
       "    ├ Lines{Tuple{Vector{Point{2, Float32}}}}\n",
       "    ├ MakieCore.Text{Tuple{Vector{Tuple{AbstractString, Point{2, Float32}}}}}\n",
       "    ├ Lines{Tuple{Vector{Point{2, Float32}}}}\n",
       "    ├ Lines{Tuple{Vector{Point{2, Float32}}}}\n",
       "    └ MakieCore.Text{Tuple{String}}\n",
       "  7 Child Scenes:\n",
       "    ├ Scene (593px, 594px)\n",
       "    ├ Scene (52px, 39px)\n",
       "    ├ Scene (45px, 39px)\n",
       "    ├ Scene (59px, 39px)\n",
       "    ├ Scene (74px, 39px)\n",
       "    ├ Scene (732px, 220px)\n",
       "    └ Scene (732px, 220px), \u001b[1m1×3 DataFrame\u001b[0m\n",
       "\u001b[1m Row \u001b[0m│\u001b[1m step  \u001b[0m\u001b[1m sum_polym \u001b[0m\u001b[1m sum_GDP \u001b[0m\n",
       "\u001b[1m     \u001b[0m│\u001b[90m Int64 \u001b[0m\u001b[90m Int64     \u001b[0m\u001b[90m Int64   \u001b[0m\n",
       "─────┼───────────────────────────\n",
       "   1 │     0          4        4, \u001b[1m0×0 DataFrame\u001b[0m)"
      ]
     },
     "execution_count": 65,
     "metadata": {},
     "output_type": "execute_result"
    }
   ],
   "source": [
    "# Interactive exploration:\n",
    "using Statistics\n",
    "using CairoMakie\n",
    "using InteractiveDynamics\n",
    "using GLMakie\n",
    "# parameter Range for sliders\n",
    "model = initialize(; numagents = 600,Nstarts=4)\n",
    "\n",
    "parange = Dict(\n",
    "    :Nstarts => 1:30,\n",
    "    :numagents => 100:1000,\n",
    "    :p_hyd =>0.0:0.01:1.0, \n",
    "    :p_polym => 0.0:0.01:1.0, \n",
    "    :p_depolym_GTP =>0.0:0.01:1.0,\n",
    "    :p_depolym_GDP => 0.0:0.01:1.0,)\n",
    "\n",
    "\n",
    "groupcolor(a) = a.polym == true ? :red : :blue\n",
    "groupmarker(a) = a.GDP == true ? :circle : '○'\n",
    "\n",
    "\n",
    "adata = [(:polym,sum), (:GDP,sum)]\n",
    "alabels = [\"Polimerized\", \"Hydrolized\"]\n",
    "\n",
    "\n",
    "\n",
    "figure, adf, mdf = abm_data_exploration( \n",
    "    model, agent_step!, model_step!, parange;\n",
    "    ac = groupcolor, am = groupmarker, as = 10,\n",
    "    adata, alabels\n",
    ")\n",
    "\n"
   ]
  },
  {
   "cell_type": "code",
   "execution_count": null,
   "id": "3ee7ed86",
   "metadata": {},
   "outputs": [],
   "source": []
  }
 ],
 "metadata": {
  "kernelspec": {
   "display_name": "Julia 1.6.2",
   "language": "julia",
   "name": "julia-1.6"
  },
  "language_info": {
   "file_extension": ".jl",
   "mimetype": "application/julia",
   "name": "julia",
   "version": "1.6.2"
  }
 },
 "nbformat": 4,
 "nbformat_minor": 5
}
