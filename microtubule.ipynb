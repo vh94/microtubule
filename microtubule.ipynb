{
 "cells": [
  {
   "cell_type": "markdown",
   "metadata": {},
   "source": [
    "## Microtubule Dynamics ABM Julia notebook\n",
    "This notebook is intended as a development and testing file , so i will change regulary."
   ]
  },
  {
   "cell_type": "markdown",
   "metadata": {},
   "source": [
    "nächstes meeting 05.10 10:45\n",
    "\n",
    "### _TODO_ ::\n",
    "\n",
    "    - Drei Abbildungen erstellen für klein 100, mittel300, groß1000 ,a 50 mal begrenzte randbedingungen ✓\n",
    "    - seed funktion?!\n",
    "    - Standartdabweichung (korridor) \n",
    "    - Rohdaten gut aufbewahren, sinnvolle beschriftungen  ✓\n",
    "    - Periodischen Randbedingugen mit in microtubuli modell implementieren ✓\n",
    "\n",
    "  - Wachstumsgeswindigkeit (erstmal ohne Depolymerisation) ~ N.Agenten/Gridsize & P-polymerisiert\n"
   ]
  },
  {
   "cell_type": "code",
   "execution_count": null,
   "metadata": {},
   "outputs": [],
   "source": [
    "using Agents\n",
    "using CairoMakie\n",
    "using Distributions\n",
    "using DataFrames\n",
    "using InteractiveDynamics\n",
    "using GLMakie\n",
    "#import DrWatson: @dict"
   ]
  },
  {
   "cell_type": "code",
   "execution_count": null,
   "metadata": {},
   "outputs": [],
   "source": [
    "#=  Agent class representing 1 tubulin dimer\n",
    "    those can polymerize and also hydrolize from GTP to GDP\n",
    "maybe get a plus end direction in near future =#\n",
    "\n",
    "@agent tubulin GridAgent{2} begin\n",
    "    polym::Bool\n",
    "    GDP::Bool\n",
    "    # Plus::Int64\n",
    "end"
   ]
  },
  {
   "cell_type": "code",
   "execution_count": 1,
   "metadata": {},
   "outputs": [
    {
     "data": {
      "text/plain": [
       "initialize (generic function with 1 method)"
      ]
     },
     "execution_count": 1,
     "metadata": {},
     "output_type": "execute_result"
    }
   ],
   "source": [
    "#= Main Function to initialize the model=#\n",
    "\n",
    "function initialize(;Nstarts, numagents , periodic,\n",
    "        griddims , \n",
    "        p_hyd, \n",
    "        p_polym,\n",
    "        p_depolym_GTP,\n",
    "        p_depolym_GDP )\n",
    "   \n",
    "    # Probability to hydrolize from GTP to GDP: \n",
    "    P_hyd = Binomial(1,p_hyd)\n",
    "    # Probability to Polymerize/bind to the microtuble \n",
    "    P_polym = Binomial(1,p_polym)\n",
    "    # Probability to depolimerize if not hydrolized (GTP - tubulin) = lower\n",
    "    P_depolym_GTP = Binomial(1,1-p_depolym_GTP)\n",
    "    # Probability to depolimerize if hydrolized (GDP - tubulin) = higher\n",
    "    P_depolym_GDP = Binomial(1,1-p_depolym_GDP)\n",
    "    \n",
    "    \n",
    "    properties = Dict(:griddims=> griddims,\n",
    "                    :periodic=>periodic,\n",
    "                    :numagents => numagents,\n",
    "                    :Nstarts => Nstarts,\n",
    "                    :p_hyd => p_hyd,\n",
    "                    :p_polym => p_polym,\n",
    "                    :p_depolym_GTP => p_depolym_GTP,\n",
    "                    :p_depolym_GDP => p_depolym_GDP,\n",
    "                    :P_hyd => P_hyd,\n",
    "                    :P_polym=> P_polym,\n",
    "                    :P_depolym_GTP=>  P_depolym_GTP,\n",
    "                    :P_depolym_GDP=> P_depolym_GDP\n",
    "                    )\n",
    "    \n",
    "    \n",
    "    space = GridSpace(griddims, periodic= periodic)\n",
    "    \n",
    "    model = ABM(\n",
    "        tubulin,space;\n",
    "        scheduler = Schedulers.randomly,\n",
    "        properties = properties )\n",
    "    \n",
    "    # populize Space\n",
    "    id = 0\n",
    "    for _ in 1:Nstarts # Startingpoints:\n",
    "        id += 1\n",
    "        agent =  tubulin(id,(50,50),true,true)\n",
    "        if id == 1\n",
    "            add_agent_pos!(agent,model)\n",
    "        else\n",
    "            add_agent_single!(agent,model) # add additional startingpoints to random positions \n",
    "        end\n",
    "    end\n",
    "    for _ in 1:numagents \n",
    "        id += 1\n",
    "        agent =  tubulin(id,(1,1),false,false)\n",
    "        add_agent_single!(agent,model) # add agents to random positions\n",
    "    end\n",
    "    return model\n",
    "end"
   ]
  },
  {
   "cell_type": "code",
   "execution_count": null,
   "metadata": {},
   "outputs": [],
   "source": [
    "# Agent step func \n",
    "function agent_step!(agent,model)\n",
    "    # Starting points have to stay the same\n",
    "    if agent.id > model.Nstarts  \n",
    "        # Logic for unpolymerized agents:\n",
    "        if agent.polym == false            \n",
    "            walk!(agent, rand, model, ifempty = true)# brownsche bewegung wenn nicht polymerisiert\n",
    "            for id in nearby_ids(agent, model, [(1, 1:1), (2, 1:1)]) # check topright neighbour\n",
    "                if model[id].polym # if polymerized\n",
    "                    agent.polym = rand(model.P_polym,1)[1] # polimerize with P_polym\n",
    "                end\n",
    "            end\n",
    "        end\n",
    "        # Logic for polymierized agents:\n",
    "        if agent.polym\n",
    "            if agent.GDP == false   # if not hydrolized\n",
    "                agent.GDP = rand(model.P_hyd,1)[1] # hydrolize with P_hyd\n",
    "            end\n",
    "            if isempty(tuple(agent.pos[1]-1,agent.pos[2]-1),model) # check if end of microtuble\n",
    "                if agent.GDP  # if hydrolized\n",
    "                        agent.polym = rand(model.P_depolym_GDP,1)[1] # depolyimerize with P_depolym_GDP\n",
    "                    else\n",
    "                        agent.polym = rand(model.P_depolym_GTP,1)[1] # depolymerize with P_depolym_GDP     \n",
    "                end\n",
    "            end\n",
    "        end\n",
    "    end \n",
    "end"
   ]
  },
  {
   "cell_type": "code",
   "execution_count": 2,
   "metadata": {},
   "outputs": [
    {
     "data": {
      "text/plain": [
       "agent_step! (generic function with 1 method)"
      ]
     },
     "execution_count": 2,
     "metadata": {},
     "output_type": "execute_result"
    }
   ],
   "source": [
    "# Periodic agent step function\n",
    " # TODO: bounce check für agenten in eigene funktion aussiedeln\n",
    "function agent_step!(agent,model)\n",
    "    if agent.id > model.Nstarts  \n",
    "        if agent.polym == false   # Logic for unpolymerized agents:    \n",
    "             walk!(agent, rand, model, ifempty =true)#\n",
    "            for id in nearby_ids(agent, model,1) # \n",
    "                if  model[id].polym == true\n",
    "                   if model[id].pos[1] == agent.pos[1] + 1 && model[id].pos[2] == agent.pos[2] + 1  || model[id].pos[1] == 1 && agent.pos[1] == model.griddims[1] && model[id].pos[2] == agent.pos[2]+1 || model[id].pos[1] == agent.pos[1] + 1 && model[id].pos[2] == 1 && agent.pos[2] == model.griddims[2]|| model[id].pos[1] == 1 && agent.pos[1] == model.griddims[1] && model[id].pos[2] == 1 && agent.pos[2] == model.griddims[2]\n",
    "                        agent.polym = rand(model.P_polym,1)[1] \n",
    "                    end\n",
    "                end\n",
    "             end\n",
    "        end\n",
    "    if agent.polym\n",
    "        if agent.GDP == false   # if not hydrolized\n",
    "            agent.GDP = rand(model.P_hyd,1)[1] # hydrolize with P_hyd\n",
    "        end\n",
    "         if agent.pos[1]>1 && agent.pos[2]>1 && isempty(tuple(agent.pos[1]-1,agent.pos[2]-1),model) || agent.pos[1]==1 && agent.pos[2]>1 && isempty(tuple(model.griddims[1],agent.pos[2]-1),model)   || agent.pos[1]>1 && agent.pos[2]==1 && isempty(tuple(agent.pos[1]-1,model.griddims[2]),model)|| agent.pos[1]==1 && agent.pos[2]==1 && isempty(tuple(model.griddims[2],model.griddims[2]),model) || agent.pos[1] == model.griddims[1] && agent.pos[2]>1 && isempty(tuple(1, agent.pos[2]-1))|| agent.pos[1]>1 && agent.pos[2] == model.griddims[2] && isempty(tuple(agent.pos[2]-1,1 ))     \n",
    "                if agent.GDP  # if hydrolized\n",
    "                    agent.polym = rand(model.P_depolym_GDP,1)[1] # depolyimerize with P_depolym_GDP\n",
    "                else\n",
    "                    agent.polym = rand(model.P_depolym_GTP,1)[1]\n",
    "                end\n",
    "            end \n",
    "        end\n",
    "    end\n",
    "end"
   ]
  },
  {
   "cell_type": "code",
   "execution_count": 3,
   "metadata": {},
   "outputs": [
    {
     "data": {
      "text/plain": [
       "model_step! (generic function with 1 method)"
      ]
     },
     "execution_count": 3,
     "metadata": {},
     "output_type": "execute_result"
    }
   ],
   "source": [
    "# model-Step func:\n",
    "function model_step!(model)\n",
    "    # calculate mean microtuble length \n",
    "    \n",
    "\n",
    "end"
   ]
  },
  {
   "cell_type": "code",
   "execution_count": 15,
   "metadata": {},
   "outputs": [
    {
     "data": {
      "text/plain": [
       "AgentBasedModel with 1265 agents of type tubulin\n",
       " space: GridSpace with size (200, 200), metric=chebyshev, periodic=true\n",
       " scheduler: randomly\n",
       " properties: Dict{Symbol, Any}(:griddims => (200, 200), :P_hyd => Binomial{Float64}(n=1, p=0.02), :p_depolym_GDP => 0.03, :Nstarts => 15, :P_depolym_GTP => Binomial{Float64}(n=1, p=1.0), :periodic => true, :P_depolym_GDP => Binomial{Float64}(n=1, p=0.97), :p_polym => 0.8, :p_hyd => 0.02, :p_depolym_GTP => 0…)"
      ]
     },
     "execution_count": 15,
     "metadata": {},
     "output_type": "execute_result"
    }
   ],
   "source": [
    "# initialization\n",
    "using Distributions\n",
    "using Agents\n",
    "include(\"agent.jl\") ###?????\n",
    "model = initialize(\n",
    "    griddims =(200,200),\n",
    "    periodic= true,\n",
    "    Nstarts=15,\n",
    "    numagents = 1250,\n",
    "    p_polym=0.80,\n",
    "    p_hyd= 0.02,\n",
    "    p_depolym_GTP=0,\n",
    "    p_depolym_GDP=0.03)\n"
   ]
  },
  {
   "cell_type": "code",
   "execution_count": null,
   "metadata": {},
   "outputs": [],
   "source": [
    "#Video out:\n",
    "\n",
    "# coloring\n",
    "\n",
    "groupcolor(a) = a.polym == true ? :red : :blue\n",
    "groupmarker(a) = a.GDP == true ? :circle : '○'\n",
    "\n",
    "#GLMakie.activate!()\n",
    "\n",
    "abm_video(\n",
    "    \"Microtubule_periodic_15starts.mp4\", model, agent_step!,model_step!;\n",
    "    ac = groupcolor, am = groupmarker,\n",
    "    framerate = 20, frames = 8500,\n",
    "    title = (\"Microtubule Simulation \",model.properties ,\"\n",
    "    periodic= true,\n",
    "    Nstarts=10,\n",
    "    numagents = 1250,\n",
    "    p_polym=0.80,\n",
    "    p_hyd= 0.03,\n",
    "    p_depolym_GTP=0,\n",
    "    p_depolym_GDP=0.02\"))\n"
   ]
  },
  {
   "cell_type": "code",
   "execution_count": null,
   "metadata": {},
   "outputs": [],
   "source": []
  },
  {
   "cell_type": "code",
   "execution_count": null,
   "metadata": {},
   "outputs": [],
   "source": [
    "### Data collection\n",
    "\n",
    "adata = [:pos, :polym, :GDP]\n",
    "\n",
    "model = initialize(griddims =(80,80),\n",
    "    Nstarts=0,\n",
    "    numagents = 1000,\n",
    "    p_polym=0.99,\n",
    "    p_hyd= 0.1,\n",
    "    p_depolym_GTP=0.02,\n",
    "    p_depolym_GDP=0.04)\n",
    "\n",
    "data, _ = run!(model,agent_step!, model_step!,600;adata)\n",
    "\n",
    "\n"
   ]
  },
  {
   "cell_type": "code",
   "execution_count": null,
   "metadata": {},
   "outputs": [],
   "source": [
    "## Ensemble run RW\n",
    "models = [initialize(; Nstarts=0,\n",
    "        periodic= true,\n",
    "        numagents = 1000,\n",
    "        griddims=(x,x), \n",
    "        p_hyd=0,\n",
    "        p_polym=0,\n",
    "        p_depolym_GTP=0,\n",
    "        p_depolym_GDP=0) for x in repeat([80, 100, 200], 30)];\n",
    "\n",
    "adata = [:pos]\n",
    "\n",
    "adf, = ensemblerun!(models, agent_step!, model_step!, 2000; adata)\n",
    "using CSV\n",
    "CSV.write(\"Periodic_ensemble_80_100_200_1kagents_a30_2500_step_runs.csv\", adf)"
   ]
  },
  {
   "cell_type": "code",
   "execution_count": null,
   "metadata": {},
   "outputs": [],
   "source": [
    "## Ensemble run Microtubuli simulation\n",
    "models = [initialize(; Nstarts=15,\n",
    "        periodic= true,\n",
    "        numagents = 1000,\n",
    "        griddims=(x,x), \n",
    "        p_polym=0.80,\n",
    "        p_hyd= 0.02,\n",
    "        p_depolym_GTP=0,\n",
    "        p_depolym_GDP=0.03) for x in repeat([120,150, 200], 30)];\n",
    "\n",
    "adata = [:pos]\n",
    "\n",
    "adf, = ensemblerun!(models, agent_step!, model_step!, 2000; adata)"
   ]
  },
  {
   "cell_type": "code",
   "execution_count": null,
   "metadata": {},
   "outputs": [],
   "source": [
    "## MSD for multiple ensembles\n",
    "\n",
    "MSDS = DataFrame(Step= levels(adf.step))\n",
    "for i in levels(adf.ensemble)\n",
    "    name = Symbol(\"ens_$i\")\n",
    "    MSDS[!,name] = MSD(adf[(adf.ensemble .== i ),:])\n",
    "end\n",
    "\n",
    "CSV.write(\"Periodic_simulation_120_150_200_1kagents_a30_2000_step_runs.csv\", MSDS)"
   ]
  },
  {
   "cell_type": "code",
   "execution_count": null,
   "metadata": {},
   "outputs": [],
   "source": [
    "CSV.write(\"Periodic_simulation_120_150_200_1kagents_a30_2000_step_runs.csv\", adf)"
   ]
  },
  {
   "cell_type": "code",
   "execution_count": null,
   "metadata": {},
   "outputs": [],
   "source": []
  },
  {
   "cell_type": "code",
   "execution_count": null,
   "metadata": {},
   "outputs": [],
   "source": [
    "\n"
   ]
  },
  {
   "cell_type": "code",
   "execution_count": null,
   "metadata": {},
   "outputs": [],
   "source": []
  }
 ],
 "metadata": {
  "kernelspec": {
   "display_name": "Julia 1.6.2",
   "language": "julia",
   "name": "julia-1.6"
  },
  "language_info": {
   "file_extension": ".jl",
   "mimetype": "application/julia",
   "name": "julia",
   "version": "1.6.2"
  }
 },
 "nbformat": 4,
 "nbformat_minor": 5
}
