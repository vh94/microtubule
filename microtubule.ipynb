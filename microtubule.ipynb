{
 "cells": [
  {
   "cell_type": "markdown",
   "id": "efe4e1f7",
   "metadata": {},
   "source": [
    "## Microtubule Dynamics ABM Julia notebook\n",
    "This notebook is intended as a development and testing file , so i will change regulary."
   ]
  },
  {
   "cell_type": "markdown",
   "id": "52a5e845",
   "metadata": {},
   "source": [
    "nächstes meeting 05.10 10:45\n",
    "\n",
    "### _TODO_ ::\n",
    "\n",
    "    - Drei Abbildungen erstellen für klein 100, mittel300, groß1000 ,a 50 mal begrenzte randbedingungen,\n",
    "    - seed funktion?!\n",
    "    - Standartdabweichung (korridor) \n",
    "    - Rohdaten gut aufbewahren, sinnvolle beschriftungen  \n",
    "    - Periodischen Randbedingugen mit in microtubuli modell implementieren ✓\n",
    "\n",
    "  - Wachstumsgeswindigkeit (erstmal ohne Depolymerisation) ~ N.Agenten/Gridsize & P-polymerisiert\n"
   ]
  },
  {
   "cell_type": "code",
   "execution_count": 1,
   "id": "8b08486d",
   "metadata": {
    "collapsed": true
   },
   "outputs": [],
   "source": [
    "using Agents\n",
    "using CairoMakie\n",
    "using Distributions\n",
    "using DataFrames\n",
    "#import DrWatson: @dict"
   ]
  },
  {
   "cell_type": "code",
   "execution_count": 2,
   "id": "39afd913",
   "metadata": {
    "collapsed": true
   },
   "outputs": [],
   "source": [
    "#= The agent class representing one tubulin dimer\n",
    "    those can polymerize and also hydrolize from GTP to GDP\n",
    "=#\n",
    "\n",
    "@agent tubulin GridAgent{2} begin\n",
    "    polym::Bool\n",
    "    GDP::Bool\n",
    "end"
   ]
  },
  {
   "cell_type": "code",
   "execution_count": 37,
   "id": "6c8c2be1",
   "metadata": {
    "collapsed": true
   },
   "outputs": [
    {
     "data": {
      "text/plain": [
       "initialize (generic function with 1 method)"
      ]
     },
     "execution_count": 37,
     "metadata": {},
     "output_type": "execute_result"
    }
   ],
   "source": [
    "#= Main Function to initialize the model=#\n",
    "\n",
    "function initialize(;Nstarts=1, numagents = 550, periodic=false,\n",
    "        griddims = (100,100), \n",
    "        p_hyd= 0.001, \n",
    "        p_polym = 0.99,\n",
    "        p_depolym_GTP= 0.005,\n",
    "        p_depolym_GDP=0.01 )\n",
    "   \n",
    "    # Probability to hydrolize from GTP to GDP: \n",
    "    P_hyd = Binomial(1,p_hyd)\n",
    "    # Probability to Polymerize/bind to the microtuble \n",
    "    P_polym = Binomial(1,p_polym)\n",
    "    # Probability to depolimerize if not hydrolized (GTP - tubulin) = lower\n",
    "    P_depolym_GTP = Binomial(1,1-p_depolym_GTP)\n",
    "    # Probability to depolimerize if hydrolized (GDP - tubulin) = higher\n",
    "    P_depolym_GDP = Binomial(1,1-p_depolym_GDP)\n",
    "    \n",
    "    \n",
    "    properties = Dict(:griddims=> griddims,\n",
    "                    :periodic=>periodic,\n",
    "                    :numagents => numagents,\n",
    "                    :Nstarts => Nstarts,\n",
    "                    :p_hyd => p_hyd,\n",
    "                    :p_polym => p_polym,\n",
    "                    :p_depolym_GTP => p_depolym_GTP,\n",
    "                    :p_depolym_GDP => p_depolym_GDP,\n",
    "                    :P_hyd => P_hyd,\n",
    "                    :P_polym=> P_polym,\n",
    "                    :P_depolym_GTP=>  P_depolym_GTP,\n",
    "                    :P_depolym_GDP=> P_depolym_GDP\n",
    "                    )\n",
    "    \n",
    "    \n",
    "    space = GridSpace(griddims, periodic= periodic, metric = :chebyshev)\n",
    "    \n",
    "    model = ABM(\n",
    "        tubulin,space;\n",
    "        scheduler = Schedulers.randomly,\n",
    "        properties = properties\n",
    "    )\n",
    "    # populize Space\n",
    "    id = 0\n",
    "    # Startingpoints:\n",
    "    for _ in 1:Nstarts\n",
    "        id += 1\n",
    "        agent =  tubulin(id,(50,50),true,true)\n",
    "        if id == 1\n",
    "            add_agent_pos!(agent,model) # add first staringpoint to center\n",
    "        else\n",
    "            add_agent_single!(agent,model) # add additional startingpoints to random positions \n",
    "        end\n",
    "    end\n",
    "    # unpolimerized (free) agents\n",
    "    for _ in 1:numagents \n",
    "        id += 1\n",
    "        agent =  tubulin(id,(1,1),false,false)\n",
    "        add_agent_single!(agent,model) # add agents to random positions\n",
    "    end\n",
    "    return model\n",
    "end"
   ]
  },
  {
   "cell_type": "code",
   "execution_count": 78,
   "id": "fb84a531",
   "metadata": {
    "collapsed": true
   },
   "outputs": [
    {
     "data": {
      "text/plain": [
       "agent_step! (generic function with 1 method)"
      ]
     },
     "execution_count": 78,
     "metadata": {},
     "output_type": "execute_result"
    }
   ],
   "source": [
    "# peroidic agent step function\n",
    "function agent_step!(agent,model)\n",
    "    # bounce check für agenten (1|100 , y) | (x, 1|100) in eigene funktion aussiedeln\n",
    "   if agent.id > model.Nstarts  \n",
    "        # Logic for unpolymerized agents:\n",
    "        if agent.polym == false      \n",
    "             walk!(agent, rand, model, ifempty =true)#\n",
    "        for id in nearby_ids(agent, model,1) # \n",
    "            if  model[id].polym == true\n",
    "               if model[id].pos[1] == agent.pos[1] + 1 && model[id].pos[2] == agent.pos[2] + 1  || model[id].pos[1] == 1 && agent.pos[1] == model.griddims[1] && model[id].pos[2] == agent.pos[2]+1 || model[id].pos[1] == agent.pos[1] + 1 && model[id].pos[2] == 1 && agent.pos[2] == model.griddims[2]|| model[id].pos[1] == 1 && agent.pos[1] == model.griddims[1] && model[id].pos[2] == 1 && agent.pos[2] == model.griddims[2]\n",
    "                    agent.polym = rand(model.P_polym,1)[1] \n",
    "                end\n",
    "           end\n",
    "       end\n",
    "    if agent.polym\n",
    "            if agent.GDP == false   # if not hydrolized\n",
    "                agent.GDP = rand(model.P_hyd,1)[1] # hydrolize with P_hyd\n",
    "            end\n",
    "         if agent.pos[1]>1 && agent.pos[2]>1 && isempty(tuple(agent.pos[1]-1,agent.pos[2]-1),model) || agent.pos[1]==1 && agent.pos[2]>1 && isempty(tuple(model.griddims[1],agent.pos[2]-1),model)   || agent.pos[1]>1 && agent.pos[2]==1 && isempty(tuple(agent.pos[1]-1,model.griddims[2]),model)|| agent.pos[1]==1 && agent.pos[2]==1 && isempty(tuple(model.griddims[2],model.griddims[2]),model) || agent.pos[1] == model.griddims[1] && agent.pos[2]>1 && isempty(tuple(1, agent.pos[2]-1))|| agent.pos[1]>1 && agent.pos[2] == model.griddims[2] && isempty(tuple(agent.pos[2]-1,1 ))     \n",
    "                if agent.GDP  # if hydrolized\n",
    "                        agent.polym = rand(model.P_depolym_GDP,1)[1] # depolyimerize with P_depolym_GDP\n",
    "                    else\n",
    "                        agent.polym = rand(model.P_depolym_GTP,1)[1]\n",
    "                    end\n",
    "                end \n",
    "            end\n",
    "        end\n",
    "    end\n",
    "end"
   ]
  },
  {
   "cell_type": "code",
   "execution_count": 34,
   "id": "ad0f7fbc",
   "metadata": {
    "collapsed": true
   },
   "outputs": [
    {
     "data": {
      "text/plain": [
       "agent_step! (generic function with 1 method)"
      ]
     },
     "execution_count": 34,
     "metadata": {},
     "output_type": "execute_result"
    }
   ],
   "source": [
    "# agent step func works with :chebyshev :non periodic\n",
    "function agent_step!(agent,model)\n",
    "    # Starting points have to stay the same\n",
    "    if agent.id > model.Nstarts  \n",
    "        # Logic for unpolymerized agents:\n",
    "        if agent.polym == false            \n",
    "            walk!(agent, rand, model, ifempty =true)# brownsche bewegung wenn nicht polymerisiert\n",
    "            for id in nearby_ids(agent, model, [(1, 1:1), (2, 1:1)]) # check topright neighbour\n",
    "                # Problem wenn periodisch metrik tuple arg Only possible with Chebyshev spaces.\n",
    "              #for id in nearby_ids(agent, model,1)\n",
    "                if model[id].polym # if polymerized\n",
    "                    agent.polym = rand(model.P_polym,1)[1] # polimerize with P_polym\n",
    "                end\n",
    "            end\n",
    "        end\n",
    "        # Logic for polymierized agents:\n",
    "        if agent.polym\n",
    "            if agent.GDP == false   # if not hydrolized\n",
    "                agent.GDP = rand(model.P_hyd,1)[1] # hydrolize with P_hyd\n",
    "            end\n",
    "            if isempty(tuple(agent.pos[1]-1,agent.pos[2]-1),model) # check if end of microtuble\n",
    "             # Problem wenn periodisch metrik \"attempt to access 100×100 Matrix{Vector{Int64}} at index [13, 0]\"\"\n",
    "\n",
    "                if agent.GDP  # if hydrolized\n",
    "                        agent.polym = rand(model.P_depolym_GDP,1)[1] # depolyimerize with P_depolym_GDP\n",
    "                    else\n",
    "                        agent.polym = rand(model.P_depolym_GTP,1)[1] # depolymerize with P_depolym_GDP     \n",
    "                end\n",
    "            end\n",
    "        end\n",
    "    end \n",
    "end"
   ]
  },
  {
   "cell_type": "code",
   "execution_count": 5,
   "id": "f31f6735",
   "metadata": {
    "collapsed": true
   },
   "outputs": [
    {
     "data": {
      "text/plain": [
       "model_step! (generic function with 1 method)"
      ]
     },
     "execution_count": 5,
     "metadata": {},
     "output_type": "execute_result"
    }
   ],
   "source": [
    "# model-Step func:\n",
    "function model_step!(model)\n",
    "    # TODO: calculate mean squared displacement MSD for every tick\n",
    "    # calculate mean microtuble length \n",
    "\n",
    "end"
   ]
  },
  {
   "cell_type": "code",
   "execution_count": 79,
   "id": "f7e0cb5c",
   "metadata": {
    "collapsed": true
   },
   "outputs": [
    {
     "data": {
      "text/plain": [
       "AgentBasedModel with 803 agents of type tubulin\n",
       " space: GridSpace with size (100, 100), metric=chebyshev, periodic=true\n",
       " scheduler: randomly\n",
       " properties: Dict{Symbol, Any}(:griddims => (100, 100), :P_hyd => Binomial{Float64}(n=1, p=0.15), :p_depolym_GDP => 0.09, :Nstarts => 3, :P_depolym_GTP => Binomial{Float64}(n=1, p=0.91), :periodic => true, :P_depolym_GDP => Binomial{Float64}(n=1, p=0.91), :p_polym => 0.99, :p_hyd => 0.15, :p_depolym_GTP => 0.09…)"
      ]
     },
     "execution_count": 79,
     "metadata": {},
     "output_type": "execute_result"
    }
   ],
   "source": [
    "# initialization\n",
    "model = initialize(\n",
    "    periodic= true,\n",
    "    Nstarts=3,\n",
    "    numagents = 800,\n",
    "    p_polym=0.99,\n",
    "    p_hyd= 0.15,\n",
    "    p_depolym_GTP=0.09,\n",
    "    p_depolym_GDP=0.09)\n"
   ]
  },
  {
   "cell_type": "code",
   "execution_count": 80,
   "id": "70ce64eb",
   "metadata": {
    "collapsed": true
   },
   "outputs": [],
   "source": [
    "#Video out:\n",
    "using InteractiveDynamics\n",
    "using GLMakie\n",
    "# coloring\n",
    "\n",
    "groupcolor(a) = a.polym == true ? :red : :blue\n",
    "groupmarker(a) = a.GDP == true ? :circle : '○'\n",
    "\n",
    "#GLMakie.activate!()\n",
    "\n",
    "abm_video(\n",
    "    \"Microtubule_continuus.mp4\", model, agent_step!,model_step!;\n",
    "    ac = groupcolor, am = groupmarker,\n",
    "    framerate = 10, frames = 2000,\n",
    "    title = \"Microtubule Simulation:\"\n",
    ")\n"
   ]
  },
  {
   "cell_type": "code",
   "execution_count": null,
   "id": "e5458ed0",
   "metadata": {
    "collapsed": true
   },
   "outputs": [],
   "source": [
    "### Data collection\n",
    "\n",
    "adata = [:pos, :polym, :GDP]\n",
    "\n",
    "model = initialize(griddims =(50,50),\n",
    "    Nstarts=0,\n",
    "    numagents = 40,\n",
    "    p_polym=0.99,\n",
    "    p_hyd= 0.0,\n",
    "    p_depolym_GTP=0.0,\n",
    "    p_depolym_GDP=0.0)\n",
    "\n",
    "data, _ = run!(model,agent_step!, model_step!,100;adata)\n",
    "\n",
    "\n"
   ]
  },
  {
   "cell_type": "code",
   "execution_count": 86,
   "id": "d2c79725",
   "metadata": {
    "collapsed": true
   },
   "outputs": [
    {
     "data": {
      "text/plain": [
       "MSD (generic function with 1 method)"
      ]
     },
     "execution_count": 86,
     "metadata": {},
     "output_type": "execute_result"
    }
   ],
   "source": [
    "# MSD function\n",
    "function MSD(data)   \n",
    "    n_ids= maximum(data.id)\n",
    "    n_steps=maximum(data.step)+1\n",
    "    r=1:n_ids:n_steps*n_ids+n_ids\n",
    "    poses=hcat(collect.(data.pos)...)\n",
    "    x_0=poses[1,unique(data.id)]\n",
    "    y_0=poses[2,unique(data.id)]\n",
    "    MSD = zeros(n_steps) #array länge data.step init zeros()\n",
    "        for i in 1:n_steps\n",
    "            MSD[i]=mean(sqrt.((poses[1,r[i]:r[i+1]-1].-x_0).^2 + (poses[2,r[i]:r[i+1]-1].-y_0).^2))\n",
    "        end\n",
    "    return MSD\n",
    "end"
   ]
  },
  {
   "cell_type": "code",
   "execution_count": 87,
   "id": "c2265e64",
   "metadata": {
    "collapsed": true
   },
   "outputs": [
    {
     "data": {
      "text/plain": [
       "(\u001b[1m601200×4 DataFrame\u001b[0m\n",
       "\u001b[1m    Row \u001b[0m│\u001b[1m step  \u001b[0m\u001b[1m id    \u001b[0m\u001b[1m pos        \u001b[0m\u001b[1m ensemble \u001b[0m\n",
       "\u001b[1m        \u001b[0m│\u001b[90m Int64 \u001b[0m\u001b[90m Int64 \u001b[0m\u001b[90m Tuple…     \u001b[0m\u001b[90m Int64    \u001b[0m\n",
       "────────┼────────────────────────────────────\n",
       "      1 │     0      1  (47, 88)           1\n",
       "      2 │     0      2  (53, 4)            1\n",
       "      3 │     0      3  (85, 51)           1\n",
       "      4 │     0      4  (3, 60)            1\n",
       "      5 │     0      5  (34, 95)           1\n",
       "      6 │     0      6  (89, 39)           1\n",
       "      7 │     0      7  (3, 87)            1\n",
       "      8 │     0      8  (36, 81)           1\n",
       "      9 │     0      9  (63, 72)           1\n",
       "     10 │     0     10  (59, 35)           1\n",
       "     11 │     0     11  (37, 55)           1\n",
       "   ⋮    │   ⋮      ⋮        ⋮          ⋮\n",
       " 601191 │   500    191  (461, 160)         6\n",
       " 601192 │   500    192  (193, 651)         6\n",
       " 601193 │   500    193  (339, 342)         6\n",
       " 601194 │   500    194  (452, 112)         6\n",
       " 601195 │   500    195  (146, 100)         6\n",
       " 601196 │   500    196  (480, 875)         6\n",
       " 601197 │   500    197  (567, 199)         6\n",
       " 601198 │   500    198  (382, 298)         6\n",
       " 601199 │   500    199  (820, 8)           6\n",
       " 601200 │   500    200  (242, 263)         6\n",
       "\u001b[36m                          601179 rows omitted\u001b[0m, \u001b[1m0×1 DataFrame\u001b[0m, AgentBasedModel{GridSpace{2, false, Nothing}, tubulin, typeof(Agents.Schedulers.randomly), Dict{Symbol, Any}, Random.MersenneTwister}[AgentBasedModel with 200 agents of type tubulin\n",
       " space: GridSpace with size (100, 100), metric=chebyshev, periodic=false\n",
       " scheduler: randomly\n",
       " properties: Dict{Symbol, Any}(:griddims => (100, 100), :P_hyd => Binomial{Float64}(n=1, p=0.0), :p_depolym_GDP => 0, :Nstarts => 0, :P_depolym_GTP => Binomial{Float64}(n=1, p=1.0), :periodic => false, :P_depolym_GDP => Binomial{Float64}(n=1, p=1.0), :p_polym => 0, :p_hyd => 0, :p_depolym_GTP => 0…), AgentBasedModel with 200 agents of type tubulin\n",
       " space: GridSpace with size (300, 300), metric=chebyshev, periodic=false\n",
       " scheduler: randomly\n",
       " properties: Dict{Symbol, Any}(:griddims => (300, 300), :P_hyd => Binomial{Float64}(n=1, p=0.0), :p_depolym_GDP => 0, :Nstarts => 0, :P_depolym_GTP => Binomial{Float64}(n=1, p=1.0), :periodic => false, :P_depolym_GDP => Binomial{Float64}(n=1, p=1.0), :p_polym => 0, :p_hyd => 0, :p_depolym_GTP => 0…), AgentBasedModel with 200 agents of type tubulin\n",
       " space: GridSpace with size (1000, 1000), metric=chebyshev, periodic=false\n",
       " scheduler: randomly\n",
       " properties: Dict{Symbol, Any}(:griddims => (1000, 1000), :P_hyd => Binomial{Float64}(n=1, p=0.0), :p_depolym_GDP => 0, :Nstarts => 0, :P_depolym_GTP => Binomial{Float64}(n=1, p=1.0), :periodic => false, :P_depolym_GDP => Binomial{Float64}(n=1, p=1.0), :p_polym => 0, :p_hyd => 0, :p_depolym_GTP => 0…), AgentBasedModel with 200 agents of type tubulin\n",
       " space: GridSpace with size (100, 100), metric=chebyshev, periodic=false\n",
       " scheduler: randomly\n",
       " properties: Dict{Symbol, Any}(:griddims => (100, 100), :P_hyd => Binomial{Float64}(n=1, p=0.0), :p_depolym_GDP => 0, :Nstarts => 0, :P_depolym_GTP => Binomial{Float64}(n=1, p=1.0), :periodic => false, :P_depolym_GDP => Binomial{Float64}(n=1, p=1.0), :p_polym => 0, :p_hyd => 0, :p_depolym_GTP => 0…), AgentBasedModel with 200 agents of type tubulin\n",
       " space: GridSpace with size (300, 300), metric=chebyshev, periodic=false\n",
       " scheduler: randomly\n",
       " properties: Dict{Symbol, Any}(:griddims => (300, 300), :P_hyd => Binomial{Float64}(n=1, p=0.0), :p_depolym_GDP => 0, :Nstarts => 0, :P_depolym_GTP => Binomial{Float64}(n=1, p=1.0), :periodic => false, :P_depolym_GDP => Binomial{Float64}(n=1, p=1.0), :p_polym => 0, :p_hyd => 0, :p_depolym_GTP => 0…), AgentBasedModel with 200 agents of type tubulin\n",
       " space: GridSpace with size (1000, 1000), metric=chebyshev, periodic=false\n",
       " scheduler: randomly\n",
       " properties: Dict{Symbol, Any}(:griddims => (1000, 1000), :P_hyd => Binomial{Float64}(n=1, p=0.0), :p_depolym_GDP => 0, :Nstarts => 0, :P_depolym_GTP => Binomial{Float64}(n=1, p=1.0), :periodic => false, :P_depolym_GDP => Binomial{Float64}(n=1, p=1.0), :p_polym => 0, :p_hyd => 0, :p_depolym_GTP => 0…)])"
      ]
     },
     "execution_count": 87,
     "metadata": {},
     "output_type": "execute_result"
    }
   ],
   "source": [
    "## Ensemble run\n",
    "models = [initialize(; Nstarts=0,\n",
    "        numagents=200,\n",
    "        griddims=(x,x), \n",
    "        p_hyd=0,\n",
    "        p_polym=0,\n",
    "        p_depolym_GTP=0,\n",
    "        p_depolym_GDP=0) for x in repeat([100, 300, 1000], 2)\n",
    "];\n",
    "\n",
    "adata = [:pos]\n",
    "\n",
    "adf, = ensemblerun!(models, agent_step!, model_step!, 500; adata)\n"
   ]
  },
  {
   "cell_type": "code",
   "execution_count": 91,
   "id": "da9300d2",
   "metadata": {
    "collapsed": true
   },
   "outputs": [
    {
     "data": {
      "text/plain": [
       "\"ensemble_100_300_1k_a50runs.csv\""
      ]
     },
     "execution_count": 91,
     "metadata": {},
     "output_type": "execute_result"
    }
   ],
   "source": [
    "using CSV\n",
    "CSV.write(\"ensemble_100_300_1k_a50runs.csv\", adf)"
   ]
  },
  {
   "cell_type": "code",
   "execution_count": 88,
   "id": "80397623",
   "metadata": {
    "collapsed": true
   },
   "outputs": [
    {
     "data": {
      "text/html": [
       "<div class=\"data-frame\"><p>501 rows × 7 columns</p><table class=\"data-frame\"><thead><tr><th></th><th>Step</th><th>ens_1</th><th>ens_2</th><th>ens_3</th><th>ens_4</th><th>ens_5</th><th>ens_6</th></tr><tr><th></th><th title=\"Int64\">Int64</th><th title=\"Float64\">Float64</th><th title=\"Float64\">Float64</th><th title=\"Float64\">Float64</th><th title=\"Float64\">Float64</th><th title=\"Float64\">Float64</th><th title=\"Float64\">Float64</th></tr></thead><tbody><tr><th>1</th><td>0</td><td>0.0</td><td>0.0</td><td>0.0</td><td>0.0</td><td>0.0</td><td>0.0</td></tr><tr><th>2</th><td>1</td><td>1.02412</td><td>1.08433</td><td>1.09054</td><td>1.02518</td><td>1.0564</td><td>1.10589</td></tr><tr><th>3</th><td>2</td><td>1.55179</td><td>1.45368</td><td>1.43977</td><td>1.40849</td><td>1.44641</td><td>1.36171</td></tr><tr><th>4</th><td>3</td><td>1.89645</td><td>1.74875</td><td>1.81051</td><td>1.69996</td><td>1.7041</td><td>1.6782</td></tr><tr><th>5</th><td>4</td><td>2.12173</td><td>2.01814</td><td>2.11478</td><td>2.04398</td><td>2.05286</td><td>2.00551</td></tr><tr><th>6</th><td>5</td><td>2.33743</td><td>2.19859</td><td>2.33226</td><td>2.34231</td><td>2.34356</td><td>2.31726</td></tr><tr><th>7</th><td>6</td><td>2.51145</td><td>2.41612</td><td>2.60058</td><td>2.45983</td><td>2.64558</td><td>2.52931</td></tr><tr><th>8</th><td>7</td><td>2.68019</td><td>2.74038</td><td>2.77746</td><td>2.74142</td><td>2.9235</td><td>2.6671</td></tr><tr><th>9</th><td>8</td><td>2.92758</td><td>2.9116</td><td>2.89853</td><td>2.94425</td><td>3.09318</td><td>2.8511</td></tr><tr><th>10</th><td>9</td><td>3.09321</td><td>3.16276</td><td>3.06268</td><td>3.10884</td><td>3.31958</td><td>2.96398</td></tr><tr><th>11</th><td>10</td><td>3.18618</td><td>3.34151</td><td>3.34298</td><td>3.20175</td><td>3.48988</td><td>3.15422</td></tr><tr><th>12</th><td>11</td><td>3.22106</td><td>3.42339</td><td>3.4687</td><td>3.36164</td><td>3.64776</td><td>3.34306</td></tr><tr><th>13</th><td>12</td><td>3.40154</td><td>3.53451</td><td>3.59403</td><td>3.57094</td><td>3.80268</td><td>3.53242</td></tr><tr><th>14</th><td>13</td><td>3.55929</td><td>3.61157</td><td>3.67688</td><td>3.70901</td><td>3.86593</td><td>3.67878</td></tr><tr><th>15</th><td>14</td><td>3.71519</td><td>3.82411</td><td>3.74132</td><td>3.84358</td><td>4.03289</td><td>3.80674</td></tr><tr><th>16</th><td>15</td><td>3.74423</td><td>3.9082</td><td>3.83653</td><td>3.92838</td><td>4.21439</td><td>3.98542</td></tr><tr><th>17</th><td>16</td><td>3.79739</td><td>3.91504</td><td>3.95664</td><td>4.03958</td><td>4.3842</td><td>4.15736</td></tr><tr><th>18</th><td>17</td><td>3.92883</td><td>4.04516</td><td>4.15274</td><td>4.18052</td><td>4.43831</td><td>4.28158</td></tr><tr><th>19</th><td>18</td><td>4.05939</td><td>4.11273</td><td>4.2116</td><td>4.37827</td><td>4.50069</td><td>4.37419</td></tr><tr><th>20</th><td>19</td><td>4.22437</td><td>4.24416</td><td>4.43725</td><td>4.50308</td><td>4.64033</td><td>4.59002</td></tr><tr><th>21</th><td>20</td><td>4.34362</td><td>4.41372</td><td>4.57069</td><td>4.45629</td><td>4.76087</td><td>4.70545</td></tr><tr><th>22</th><td>21</td><td>4.40593</td><td>4.49369</td><td>4.6959</td><td>4.53414</td><td>4.82501</td><td>4.76667</td></tr><tr><th>23</th><td>22</td><td>4.47005</td><td>4.6014</td><td>4.86328</td><td>4.70399</td><td>4.91703</td><td>4.81218</td></tr><tr><th>24</th><td>23</td><td>4.52154</td><td>4.69997</td><td>4.99462</td><td>4.77618</td><td>5.06036</td><td>4.89916</td></tr><tr><th>25</th><td>24</td><td>4.64148</td><td>4.66501</td><td>5.00267</td><td>4.93443</td><td>5.00055</td><td>5.06613</td></tr><tr><th>26</th><td>25</td><td>4.64246</td><td>4.72154</td><td>5.15082</td><td>4.95185</td><td>5.08983</td><td>5.30519</td></tr><tr><th>27</th><td>26</td><td>4.75004</td><td>4.78595</td><td>5.22732</td><td>5.05725</td><td>5.1893</td><td>5.42799</td></tr><tr><th>28</th><td>27</td><td>4.84723</td><td>4.83319</td><td>5.32766</td><td>5.10318</td><td>5.27292</td><td>5.50593</td></tr><tr><th>29</th><td>28</td><td>5.01965</td><td>4.93191</td><td>5.41011</td><td>5.17981</td><td>5.37847</td><td>5.64366</td></tr><tr><th>30</th><td>29</td><td>5.07492</td><td>5.10132</td><td>5.47681</td><td>5.21094</td><td>5.4848</td><td>5.67178</td></tr><tr><th>&vellip;</th><td>&vellip;</td><td>&vellip;</td><td>&vellip;</td><td>&vellip;</td><td>&vellip;</td><td>&vellip;</td><td>&vellip;</td></tr></tbody></table></div>"
      ],
      "text/latex": [
       "\\begin{tabular}{r|ccccccc}\n",
       "\t& Step & ens\\_1 & ens\\_2 & ens\\_3 & ens\\_4 & ens\\_5 & ens\\_6\\\\\n",
       "\t\\hline\n",
       "\t& Int64 & Float64 & Float64 & Float64 & Float64 & Float64 & Float64\\\\\n",
       "\t\\hline\n",
       "\t1 & 0 & 0.0 & 0.0 & 0.0 & 0.0 & 0.0 & 0.0 \\\\\n",
       "\t2 & 1 & 1.02412 & 1.08433 & 1.09054 & 1.02518 & 1.0564 & 1.10589 \\\\\n",
       "\t3 & 2 & 1.55179 & 1.45368 & 1.43977 & 1.40849 & 1.44641 & 1.36171 \\\\\n",
       "\t4 & 3 & 1.89645 & 1.74875 & 1.81051 & 1.69996 & 1.7041 & 1.6782 \\\\\n",
       "\t5 & 4 & 2.12173 & 2.01814 & 2.11478 & 2.04398 & 2.05286 & 2.00551 \\\\\n",
       "\t6 & 5 & 2.33743 & 2.19859 & 2.33226 & 2.34231 & 2.34356 & 2.31726 \\\\\n",
       "\t7 & 6 & 2.51145 & 2.41612 & 2.60058 & 2.45983 & 2.64558 & 2.52931 \\\\\n",
       "\t8 & 7 & 2.68019 & 2.74038 & 2.77746 & 2.74142 & 2.9235 & 2.6671 \\\\\n",
       "\t9 & 8 & 2.92758 & 2.9116 & 2.89853 & 2.94425 & 3.09318 & 2.8511 \\\\\n",
       "\t10 & 9 & 3.09321 & 3.16276 & 3.06268 & 3.10884 & 3.31958 & 2.96398 \\\\\n",
       "\t11 & 10 & 3.18618 & 3.34151 & 3.34298 & 3.20175 & 3.48988 & 3.15422 \\\\\n",
       "\t12 & 11 & 3.22106 & 3.42339 & 3.4687 & 3.36164 & 3.64776 & 3.34306 \\\\\n",
       "\t13 & 12 & 3.40154 & 3.53451 & 3.59403 & 3.57094 & 3.80268 & 3.53242 \\\\\n",
       "\t14 & 13 & 3.55929 & 3.61157 & 3.67688 & 3.70901 & 3.86593 & 3.67878 \\\\\n",
       "\t15 & 14 & 3.71519 & 3.82411 & 3.74132 & 3.84358 & 4.03289 & 3.80674 \\\\\n",
       "\t16 & 15 & 3.74423 & 3.9082 & 3.83653 & 3.92838 & 4.21439 & 3.98542 \\\\\n",
       "\t17 & 16 & 3.79739 & 3.91504 & 3.95664 & 4.03958 & 4.3842 & 4.15736 \\\\\n",
       "\t18 & 17 & 3.92883 & 4.04516 & 4.15274 & 4.18052 & 4.43831 & 4.28158 \\\\\n",
       "\t19 & 18 & 4.05939 & 4.11273 & 4.2116 & 4.37827 & 4.50069 & 4.37419 \\\\\n",
       "\t20 & 19 & 4.22437 & 4.24416 & 4.43725 & 4.50308 & 4.64033 & 4.59002 \\\\\n",
       "\t21 & 20 & 4.34362 & 4.41372 & 4.57069 & 4.45629 & 4.76087 & 4.70545 \\\\\n",
       "\t22 & 21 & 4.40593 & 4.49369 & 4.6959 & 4.53414 & 4.82501 & 4.76667 \\\\\n",
       "\t23 & 22 & 4.47005 & 4.6014 & 4.86328 & 4.70399 & 4.91703 & 4.81218 \\\\\n",
       "\t24 & 23 & 4.52154 & 4.69997 & 4.99462 & 4.77618 & 5.06036 & 4.89916 \\\\\n",
       "\t25 & 24 & 4.64148 & 4.66501 & 5.00267 & 4.93443 & 5.00055 & 5.06613 \\\\\n",
       "\t26 & 25 & 4.64246 & 4.72154 & 5.15082 & 4.95185 & 5.08983 & 5.30519 \\\\\n",
       "\t27 & 26 & 4.75004 & 4.78595 & 5.22732 & 5.05725 & 5.1893 & 5.42799 \\\\\n",
       "\t28 & 27 & 4.84723 & 4.83319 & 5.32766 & 5.10318 & 5.27292 & 5.50593 \\\\\n",
       "\t29 & 28 & 5.01965 & 4.93191 & 5.41011 & 5.17981 & 5.37847 & 5.64366 \\\\\n",
       "\t30 & 29 & 5.07492 & 5.10132 & 5.47681 & 5.21094 & 5.4848 & 5.67178 \\\\\n",
       "\t$\\dots$ & $\\dots$ & $\\dots$ & $\\dots$ & $\\dots$ & $\\dots$ & $\\dots$ & $\\dots$ \\\\\n",
       "\\end{tabular}\n"
      ],
      "text/plain": [
       "\u001b[1m501×7 DataFrame\u001b[0m\n",
       "\u001b[1m Row \u001b[0m│\u001b[1m Step  \u001b[0m\u001b[1m ens_1    \u001b[0m\u001b[1m ens_2    \u001b[0m\u001b[1m ens_3    \u001b[0m\u001b[1m ens_4    \u001b[0m\u001b[1m ens_5    \u001b[0m\u001b[1m ens_6    \u001b[0m\n",
       "\u001b[1m     \u001b[0m│\u001b[90m Int64 \u001b[0m\u001b[90m Float64  \u001b[0m\u001b[90m Float64  \u001b[0m\u001b[90m Float64  \u001b[0m\u001b[90m Float64  \u001b[0m\u001b[90m Float64  \u001b[0m\u001b[90m Float64  \u001b[0m\n",
       "─────┼───────────────────────────────────────────────────────────────────\n",
       "   1 │     0   0.0       0.0       0.0       0.0       0.0       0.0\n",
       "   2 │     1   1.02412   1.08433   1.09054   1.02518   1.0564    1.10589\n",
       "   3 │     2   1.55179   1.45368   1.43977   1.40849   1.44641   1.36171\n",
       "   4 │     3   1.89645   1.74875   1.81051   1.69996   1.7041    1.6782\n",
       "   5 │     4   2.12173   2.01814   2.11478   2.04398   2.05286   2.00551\n",
       "   6 │     5   2.33743   2.19859   2.33226   2.34231   2.34356   2.31726\n",
       "   7 │     6   2.51145   2.41612   2.60058   2.45983   2.64558   2.52931\n",
       "   8 │     7   2.68019   2.74038   2.77746   2.74142   2.9235    2.6671\n",
       "   9 │     8   2.92758   2.9116    2.89853   2.94425   3.09318   2.8511\n",
       "  10 │     9   3.09321   3.16276   3.06268   3.10884   3.31958   2.96398\n",
       "  11 │    10   3.18618   3.34151   3.34298   3.20175   3.48988   3.15422\n",
       "  ⋮  │   ⋮       ⋮         ⋮         ⋮         ⋮         ⋮         ⋮\n",
       " 492 │   491  21.0762   23.1881   21.2801   19.9898   22.0295   22.1457\n",
       " 493 │   492  20.982    23.0997   21.277    20.0487   22.0546   22.2352\n",
       " 494 │   493  21.0511   23.1929   21.3572   20.0776   22.0189   22.1866\n",
       " 495 │   494  21.0851   23.1137   21.2954   20.185    22.0591   22.091\n",
       " 496 │   495  21.1312   23.1377   21.1611   20.2421   22.0651   22.1006\n",
       " 497 │   496  21.125    23.139    21.1937   20.2501   22.0325   22.211\n",
       " 498 │   497  21.1448   23.0914   21.1975   20.2461   22.0531   22.3052\n",
       " 499 │   498  21.2294   23.1053   21.104    20.2065   22.0609   22.3125\n",
       " 500 │   499  21.1989   23.1159   21.2289   20.2366   22.0556   22.3672\n",
       " 501 │   500  21.2024   23.063    21.3504   20.3139   22.0798   22.4547\n",
       "\u001b[36m                                                         480 rows omitted\u001b[0m"
      ]
     },
     "execution_count": 88,
     "metadata": {},
     "output_type": "execute_result"
    }
   ],
   "source": [
    "## MSD for multiple ensembles\n",
    "\n",
    "MSDS = DataFrame(Step= levels(adf.step))\n",
    "for i in levels(adf.ensemble)\n",
    "    name = Symbol(\"ens_$i\")\n",
    "    MSDS[!,name] = MSD(adf[(adf.ensemble .== i ),:])\n",
    "end\n",
    "\n",
    "CSV.write(\"MSDS_ensemble_100_300_1k_a50runs.csv\", MSDS)"
   ]
  },
  {
   "cell_type": "code",
   "execution_count": 89,
   "id": "42466925",
   "metadata": {
    "collapsed": true
   },
   "outputs": [
    {
     "data": {
      "image/png": "[encoded data removed]",
      "text/plain": [
       "Figure()"
      ]
     },
     "execution_count": 89,
     "metadata": {},
     "output_type": "execute_result"
    }
   ],
   "source": [
    "# MSD plots\n",
    "MSDS = MSDS[setdiff(1:end, 1), :]#delete 0 timestep before plotting since log(0) not defined.\n",
    "f = Figure()\n",
    "Axis(f[1, 1],yscale=log10,xscale=log10)\n",
    "#Axis(f[1,1])\n",
    "lines!(MSDS.ens_1)\n",
    "lines!(MSDS.ens_2)\n",
    "lines!(MSDS.ens_3)\n",
    "lines!(MSDS.ens_4)\n",
    "lines!(MSDS.ens_5)\n",
    "lines!(MSDS.ens_6)\n",
    "\n",
    "f\n"
   ]
  },
  {
   "cell_type": "code",
   "execution_count": 65,
   "id": "ac685072",
   "metadata": {
    "collapsed": true
   },
   "outputs": [
    {
     "data": {
      "text/plain": [
       "(Scene (1600px, 800px):\n",
       "  94 Plots:\n",
       "    ├ Combined{Makie.poly, Tuple{Vector{Vector{Point{2, Float32}}}}}\n",
       "    ├ LineSegments{Tuple{Vector{Point{2, Float32}}}}\n",
       "    ├ LineSegments{Tuple{Vector{Point{2, Float32}}}}\n",
       "    ├ LineSegments{Tuple{Vector{Point{2, Float32}}}}\n",
       "    ├ LineSegments{Tuple{Vector{Point{2, Float32}}}}\n",
       "    ├ LineSegments{Tuple{Vector{Point{2, Float32}}}}\n",
       "    ├ LineSegments{Tuple{Vector{Point{2, Float32}}}}\n",
       "    ├ MakieCore.Text{Tuple{String}}\n",
       "    ├ Lines{Tuple{Vector{Point{2, Float32}}}}\n",
       "    ├ MakieCore.Text{Tuple{Vector{Tuple{AbstractString, Point{2, Float32}}}}}\n",
       "    ├ LineSegments{Tuple{Vector{Point{2, Float32}}}}\n",
       "    ├ LineSegments{Tuple{Vector{Point{2, Float32}}}}\n",
       "    ├ MakieCore.Text{Tuple{String}}\n",
       "    ├ Lines{Tuple{Vector{Point{2, Float32}}}}\n",
       "    ├ MakieCore.Text{Tuple{Vector{Tuple{AbstractString, Point{2, Float32}}}}}\n",
       "    ├ Lines{Tuple{Vector{Point{2, Float32}}}}\n",
       "    ├ Lines{Tuple{Vector{Point{2, Float32}}}}\n",
       "    ├ MakieCore.Text{Tuple{String}}\n",
       "    ├ Scatter{Tuple{Vector{Point{2, Float32}}}}\n",
       "    ├ LineSegments{Tuple{Vector{Point{2, Float32}}}}\n",
       "    ├ Scatter{Tuple{Vector{Point{2, Float32}}}}\n",
       "    ├ MakieCore.Text{Tuple{String}}\n",
       "    ├ MakieCore.Text{Tuple{String}}\n",
       "    ├ Scatter{Tuple{Vector{Point{2, Float32}}}}\n",
       "    ├ LineSegments{Tuple{Vector{Point{2, Float32}}}}\n",
       "    ├ Scatter{Tuple{Vector{Point{2, Float32}}}}\n",
       "    ├ MakieCore.Text{Tuple{String}}\n",
       "    ├ MakieCore.Text{Tuple{String}}\n",
       "    ├ Scatter{Tuple{Vector{Point{2, Float32}}}}\n",
       "    ├ LineSegments{Tuple{Vector{Point{2, Float32}}}}\n",
       "    ├ Scatter{Tuple{Vector{Point{2, Float32}}}}\n",
       "    ├ MakieCore.Text{Tuple{String}}\n",
       "    ├ MakieCore.Text{Tuple{String}}\n",
       "    ├ Scatter{Tuple{Vector{Point{2, Float32}}}}\n",
       "    ├ LineSegments{Tuple{Vector{Point{2, Float32}}}}\n",
       "    ├ Scatter{Tuple{Vector{Point{2, Float32}}}}\n",
       "    ├ MakieCore.Text{Tuple{String}}\n",
       "    ├ MakieCore.Text{Tuple{String}}\n",
       "    ├ Scatter{Tuple{Vector{Point{2, Float32}}}}\n",
       "    ├ LineSegments{Tuple{Vector{Point{2, Float32}}}}\n",
       "    ├ Scatter{Tuple{Vector{Point{2, Float32}}}}\n",
       "    ├ MakieCore.Text{Tuple{String}}\n",
       "    ├ MakieCore.Text{Tuple{String}}\n",
       "    ├ Scatter{Tuple{Vector{Point{2, Float32}}}}\n",
       "    ├ LineSegments{Tuple{Vector{Point{2, Float32}}}}\n",
       "    ├ Scatter{Tuple{Vector{Point{2, Float32}}}}\n",
       "    ├ MakieCore.Text{Tuple{String}}\n",
       "    ├ MakieCore.Text{Tuple{String}}\n",
       "    ├ Scatter{Tuple{Vector{Point{2, Float32}}}}\n",
       "    ├ LineSegments{Tuple{Vector{Point{2, Float32}}}}\n",
       "    ├ Scatter{Tuple{Vector{Point{2, Float32}}}}\n",
       "    ├ MakieCore.Text{Tuple{String}}\n",
       "    ├ MakieCore.Text{Tuple{String}}\n",
       "    ├ Scatter{Tuple{Vector{Point{2, Float32}}}}\n",
       "    ├ LineSegments{Tuple{Vector{Point{2, Float32}}}}\n",
       "    ├ Scatter{Tuple{Vector{Point{2, Float32}}}}\n",
       "    ├ MakieCore.Text{Tuple{String}}\n",
       "    ├ MakieCore.Text{Tuple{String}}\n",
       "    ├ Combined{Makie.poly, Tuple{Vector{Vector{Point{2, Float32}}}}}\n",
       "    ├ LineSegments{Tuple{Vector{Point{2, Float32}}}}\n",
       "    ├ LineSegments{Tuple{Vector{Point{2, Float32}}}}\n",
       "    ├ LineSegments{Tuple{Vector{Point{2, Float32}}}}\n",
       "    ├ LineSegments{Tuple{Vector{Point{2, Float32}}}}\n",
       "    ├ LineSegments{Tuple{Vector{Point{2, Float32}}}}\n",
       "    ├ LineSegments{Tuple{Vector{Point{2, Float32}}}}\n",
       "    ├ MakieCore.Text{Tuple{String}}\n",
       "    ├ Lines{Tuple{Vector{Point{2, Float32}}}}\n",
       "    ├ MakieCore.Text{Tuple{Vector{Tuple{AbstractString, Point{2, Float32}}}}}\n",
       "    ├ LineSegments{Tuple{Vector{Point{2, Float32}}}}\n",
       "    ├ LineSegments{Tuple{Vector{Point{2, Float32}}}}\n",
       "    ├ MakieCore.Text{Tuple{String}}\n",
       "    ├ Lines{Tuple{Vector{Point{2, Float32}}}}\n",
       "    ├ MakieCore.Text{Tuple{Vector{Tuple{AbstractString, Point{2, Float32}}}}}\n",
       "    ├ Lines{Tuple{Vector{Point{2, Float32}}}}\n",
       "    ├ Lines{Tuple{Vector{Point{2, Float32}}}}\n",
       "    ├ MakieCore.Text{Tuple{String}}\n",
       "    ├ Combined{Makie.poly, Tuple{Vector{Vector{Point{2, Float32}}}}}\n",
       "    ├ LineSegments{Tuple{Vector{Point{2, Float32}}}}\n",
       "    ├ LineSegments{Tuple{Vector{Point{2, Float32}}}}\n",
       "    ├ LineSegments{Tuple{Vector{Point{2, Float32}}}}\n",
       "    ├ LineSegments{Tuple{Vector{Point{2, Float32}}}}\n",
       "    ├ LineSegments{Tuple{Vector{Point{2, Float32}}}}\n",
       "    ├ LineSegments{Tuple{Vector{Point{2, Float32}}}}\n",
       "    ├ MakieCore.Text{Tuple{String}}\n",
       "    ├ Lines{Tuple{Vector{Point{2, Float32}}}}\n",
       "    ├ MakieCore.Text{Tuple{Vector{Tuple{AbstractString, Point{2, Float32}}}}}\n",
       "    ├ LineSegments{Tuple{Vector{Point{2, Float32}}}}\n",
       "    ├ LineSegments{Tuple{Vector{Point{2, Float32}}}}\n",
       "    ├ MakieCore.Text{Tuple{String}}\n",
       "    ├ Lines{Tuple{Vector{Point{2, Float32}}}}\n",
       "    ├ MakieCore.Text{Tuple{Vector{Tuple{AbstractString, Point{2, Float32}}}}}\n",
       "    ├ Lines{Tuple{Vector{Point{2, Float32}}}}\n",
       "    ├ Lines{Tuple{Vector{Point{2, Float32}}}}\n",
       "    └ MakieCore.Text{Tuple{String}}\n",
       "  7 Child Scenes:\n",
       "    ├ Scene (593px, 594px)\n",
       "    ├ Scene (52px, 39px)\n",
       "    ├ Scene (45px, 39px)\n",
       "    ├ Scene (59px, 39px)\n",
       "    ├ Scene (74px, 39px)\n",
       "    ├ Scene (732px, 220px)\n",
       "    └ Scene (732px, 220px), \u001b[1m1×3 DataFrame\u001b[0m\n",
       "\u001b[1m Row \u001b[0m│\u001b[1m step  \u001b[0m\u001b[1m sum_polym \u001b[0m\u001b[1m sum_GDP \u001b[0m\n",
       "\u001b[1m     \u001b[0m│\u001b[90m Int64 \u001b[0m\u001b[90m Int64     \u001b[0m\u001b[90m Int64   \u001b[0m\n",
       "─────┼───────────────────────────\n",
       "   1 │     0          4        4, \u001b[1m0×0 DataFrame\u001b[0m)"
      ]
     },
     "execution_count": 65,
     "metadata": {},
     "output_type": "execute_result"
    }
   ],
   "source": [
    "# Interactive exploration:\n",
    "using Statistics\n",
    "using CairoMakie\n",
    "using InteractiveDynamics\n",
    "using GLMakie\n",
    "# parameter Range for sliders\n",
    "model = initialize(; numagents = 600,Nstarts=4)\n",
    "\n",
    "parange = Dict(\n",
    "    :Nstarts => 1:30,\n",
    "    :numagents => 100:1000,\n",
    "    :p_hyd =>0.0:0.01:1.0, \n",
    "    :p_polym => 0.0:0.01:1.0, \n",
    "    :p_depolym_GTP =>0.0:0.01:1.0,\n",
    "    :p_depolym_GDP => 0.0:0.01:1.0,)\n",
    "\n",
    "\n",
    "groupcolor(a) = a.polym == true ? :red : :blue\n",
    "groupmarker(a) = a.GDP == true ? :circle : '○'\n",
    "\n",
    "\n",
    "adata = [(:polym,sum), (:GDP,sum)]\n",
    "alabels = [\"Polimerized\", \"Hydrolized\"]\n",
    "\n",
    "\n",
    "\n",
    "figure, adf, mdf = abm_data_exploration( \n",
    "    model, agent_step!, model_step!, parange;\n",
    "    ac = groupcolor, am = groupmarker, as = 10,\n",
    "    adata, alabels\n",
    ")\n",
    "\n"
   ]
  },
  {
   "cell_type": "code",
   "execution_count": null,
   "id": "3ee7ed86",
   "metadata": {
    "collapsed": true
   },
   "outputs": [],
   "source": []
  }
 ],
 "metadata": {
  "kernelspec": {
   "display_name": "Julia 1.6.2",
   "language": "julia",
   "name": "julia-1.6"
  },
  "language_info": {
   "file_extension": ".jl",
   "mimetype": "application/julia",
   "name": "julia",
   "version": "1.6.2"
  }
 },
 "nbformat": 4,
 "nbformat_minor": 5
}
