{
 "cells": [
  {
   "cell_type": "markdown",
   "metadata": {},
   "source": [
    "## Microtubule Dynamics ABM Julia notebook\n",
    "This notebook is intended as a development and testing file , so i will change regulary."
   ]
  },
  {
   "cell_type": "markdown",
   "metadata": {},
   "source": [
    "nächstes meeting 05.10 10:45\n",
    "\n",
    "### _TODO_ ::\n",
    "\n",
    "    - Drei Abbildungen erstellen für klein 100, mittel300, groß1000 ,a 50 mal begrenzte randbedingungen ✓\n",
    "    - seed funktion?!\n",
    "    - Standartdabweichung (korridor) \n",
    "    - Rohdaten gut aufbewahren, sinnvolle beschriftungen  ✓\n",
    "    - Periodischen Randbedingugen mit in microtubuli modell implementieren ✓\n",
    "\n",
    "  - Wachstumsgeswindigkeit (erstmal ohne Depolymerisation) ~ N.Agenten/Gridsize & P-polymerisiert\n",
    "  \n",
    "  \n"
   ]
  },
  {
   "cell_type": "code",
   "execution_count": 1,
   "metadata": {},
   "outputs": [
    {
     "data": {
      "text/plain": [
       "depolymerize (generic function with 1 method)"
      ]
     },
     "execution_count": 1,
     "metadata": {},
     "output_type": "execute_result"
    }
   ],
   "source": [
    "using Agents        # for ABM\n",
    "using CairoMakie    # Plotting \n",
    "using Distributions # binomial\n",
    "using StatsBase: counts    \n",
    "using DataFrames    # ?\n",
    "using Statistics: mean\n",
    "using InteractiveDynamics # plotting\n",
    "using GLMakie       # \n",
    "using DrWatson: @dict #  model params, plotting\n",
    "include(\"Polymerize.jl\")\n",
    "#include(\"agent_group_cont.jl\")"
   ]
  },
  {
   "cell_type": "code",
   "execution_count": 2,
   "metadata": {},
   "outputs": [],
   "source": [
    "#=  Agent representing 1 tubulin dimer\n",
    " =#\n",
    "\n",
    "@agent tubulin GridAgent{2} begin\n",
    "    polym::Int64\n",
    "    GDP::Bool\n",
    "    # Plus::Int64\n",
    "end"
   ]
  },
  {
   "cell_type": "code",
   "execution_count": 3,
   "metadata": {},
   "outputs": [
    {
     "data": {
      "text/plain": [
       "initialize (generic function with 1 method)"
      ]
     },
     "execution_count": 3,
     "metadata": {},
     "output_type": "execute_result"
    }
   ],
   "source": [
    "#= Main Function to initialize the model=#\n",
    "\n",
    "function initialize(;Nstarts, numagents, periodic, griddims, p_hyd,  p_polym,\n",
    "                        p_depolym_GTP,p_depolym_GDP)\n",
    "   \n",
    "    P_hyd = Binomial(1,p_hyd)                      # Prob to hydrolize from GTP to GDP: \n",
    "    P_polym = Binomial(1,p_polym)                  # Prob to Polymerize/bind to the microtuble \n",
    "    P_depolym_GTP = Binomial(1,1-p_depolym_GTP)    # Prob to depolimerize if not hydrolized (GTP - tubulin) = lower\n",
    "    P_depolym_GDP = Binomial(1,1-p_depolym_GDP)    # Prob to depolimerize if hydrolized (GDP - tubulin) = higher\n",
    "\n",
    "    \n",
    " properties = @dict griddims numagents Nstarts p_depolym_GTP p_depolym_GDP p_polym p_hyd P_hyd P_polym P_depolym_GTP P_depolym_GDP\n",
    " \n",
    "    properties[:tick] = 0\n",
    "   # properties[:MTmL] = Vector{Float64}()\n",
    "   # properties[:MTstdL] = Vector{Float64}()\n",
    "    space = GridSpace(griddims, periodic = periodic ) # initialize Gridspace\n",
    "    \n",
    "    model = ABM(tubulin, space;                     # create model\n",
    "        scheduler = Schedulers.randomly,\n",
    "        properties = properties )\n",
    "    \n",
    "    id = 0                                  # populize Space ->  \n",
    "    for _ in 1:Nstarts # Startingpoints:\n",
    "        id += 1\n",
    "        agent =  tubulin(id,griddims./2,id,true)\n",
    "        if id == 1\n",
    "            add_agent_pos!(agent,model)\n",
    "        else\n",
    "            add_agent_single!(agent,model) # add additional startingpoints to random positions \n",
    "        end\n",
    "    end\n",
    "    for _ in 1:numagents \n",
    "        id += 1\n",
    "        agent =  tubulin(id,(1,1),0,false)\n",
    "        add_agent_single!(agent,model) # add agents to random positions\n",
    "    end\n",
    "    return model\n",
    "end"
   ]
  },
  {
   "cell_type": "code",
   "execution_count": 4,
   "metadata": {},
   "outputs": [
    {
     "data": {
      "text/plain": [
       "agent_step! (generic function with 1 method)"
      ]
     },
     "execution_count": 4,
     "metadata": {},
     "output_type": "execute_result"
    }
   ],
   "source": [
    "# Agent Step function\n",
    "\n",
    "function agent_step!(agent,model)\n",
    "if agent.id > model.Nstarts\n",
    "    if agent.polym == 0   # Logic for unpolymerized agents:    \n",
    "            walk!(agent, rand, model, ifempty =true)\n",
    "            polymerize(agent,model) \n",
    "        end\n",
    "    if agent.polym > 0 # Logic for polymerized agents:    \n",
    "        if agent.GDP == false   # if not hydrolized\n",
    "            agent.GDP = rand(model.P_hyd,1)[1] # hydrolize with P_hyd\n",
    "            end\n",
    "           depolymerize(agent,model)\n",
    "        end\n",
    "     end\n",
    "end"
   ]
  },
  {
   "cell_type": "code",
   "execution_count": 5,
   "metadata": {},
   "outputs": [
    {
     "data": {
      "text/plain": [
       "model_step! (generic function with 1 method)"
      ]
     },
     "execution_count": 5,
     "metadata": {},
     "output_type": "execute_result"
    }
   ],
   "source": [
    "# model-Step func:\n",
    "function model_step!(model)\n",
    "   # model.MTmL = mean(counts([model.agents[i].polym for i in 1:length(model.agents)])[setdiff(1:end, 1), 1])\n",
    "   # model.MTstdL= std(counts([model.agents[i].polym for i in 1:length(model.agents)])[setdiff(1:end, 1), 1])\n",
    "    model.tick += 1\n",
    "    model.P_hyd = Binomial(1,model.p_hyd)                      # Prob to hydrolize from GTP to GDP: \n",
    "    model.P_polym = Binomial(1,model.p_polym)                  # Prob to Polymerize/bind to the microtuble \n",
    "    model.P_depolym_GTP = Binomial(1,1-model.p_depolym_GTP)    # Prob to depolimerize if not hydrolized (GTP - tubulin) = lower\n",
    "    model.P_depolym_GDP = Binomial(1,1-model.p_depolym_GDP)    # Prob to depolimerize if hydrolized (GDP - tubulin) = higher\n",
    "end"
   ]
  },
  {
   "cell_type": "code",
   "execution_count": null,
   "metadata": {},
   "outputs": [],
   "source": [
    "step!(model,agent_step!,model_step! ,1)"
   ]
  },
  {
   "cell_type": "code",
   "execution_count": 13,
   "metadata": {},
   "outputs": [
    {
     "data": {
      "text/plain": [
       "AgentBasedModel with 1004 agents of type tubulin\n",
       " space: GridSpace with size (100, 100), metric=chebyshev, periodic=true\n",
       " scheduler: randomly\n",
       " properties: Dict{Symbol, Any}(:tick => 0, :griddims => (100, 100), :P_hyd => Binomial{Float64}(n=1, p=0.02), :p_depolym_GDP => 0.03, :Nstarts => 4, :P_depolym_GTP => Binomial{Float64}(n=1, p=1.0), :P_depolym_GDP => Binomial{Float64}(n=1, p=0.97), :p_polym => 0.8, :p_hyd => 0.02, :p_depolym_GTP => 0…)"
      ]
     },
     "execution_count": 13,
     "metadata": {},
     "output_type": "execute_result"
    }
   ],
   "source": [
    "# initialization:\n",
    "\n",
    "model = initialize(\n",
    "    griddims =(100,100),\n",
    "    periodic= true,\n",
    "    Nstarts=4,\n",
    "    numagents = 1000,\n",
    "    p_polym=0.80,\n",
    "    p_hyd= 0.02,\n",
    "    p_depolym_GTP=0,\n",
    "    p_depolym_GDP=0.03)\n",
    "\n",
    "#step!(model,agent_step!,model_step! ,1, agents_first =true)"
   ]
  },
  {
   "cell_type": "code",
   "execution_count": 14,
   "metadata": {},
   "outputs": [
    {
     "data": {
      "text/plain": [
       "(Scene (1600px, 800px):\n",
       "  102 Plots:\n",
       "    ├ Combined{Makie.poly, Tuple{Vector{Vector{Point{2, Float32}}}}}\n",
       "    ├ LineSegments{Tuple{Vector{Point{2, Float32}}}}\n",
       "    ├ LineSegments{Tuple{Vector{Point{2, Float32}}}}\n",
       "    ├ LineSegments{Tuple{Vector{Point{2, Float32}}}}\n",
       "    ├ LineSegments{Tuple{Vector{Point{2, Float32}}}}\n",
       "    ├ LineSegments{Tuple{Vector{Point{2, Float32}}}}\n",
       "    ├ LineSegments{Tuple{Vector{Point{2, Float32}}}}\n",
       "    ├ MakieCore.Text{Tuple{String}}\n",
       "    ├ Lines{Tuple{Vector{Point{2, Float32}}}}\n",
       "    ├ MakieCore.Text{Tuple{Vector{Tuple{AbstractString, Point{2, Float32}}}}}\n",
       "    ├ LineSegments{Tuple{Vector{Point{2, Float32}}}}\n",
       "    ├ LineSegments{Tuple{Vector{Point{2, Float32}}}}\n",
       "    ├ MakieCore.Text{Tuple{String}}\n",
       "    ├ Lines{Tuple{Vector{Point{2, Float32}}}}\n",
       "    ├ MakieCore.Text{Tuple{Vector{Tuple{AbstractString, Point{2, Float32}}}}}\n",
       "    ├ Lines{Tuple{Vector{Point{2, Float32}}}}\n",
       "    ├ Lines{Tuple{Vector{Point{2, Float32}}}}\n",
       "    ├ MakieCore.Text{Tuple{String}}\n",
       "    ├ Scatter{Tuple{Vector{Point{2, Float32}}}}\n",
       "    ├ LineSegments{Tuple{Vector{Point{2, Float32}}}}\n",
       "    ├ Scatter{Tuple{Vector{Point{2, Float32}}}}\n",
       "    ├ MakieCore.Text{Tuple{String}}\n",
       "    ├ MakieCore.Text{Tuple{String}}\n",
       "    ├ Scatter{Tuple{Vector{Point{2, Float32}}}}\n",
       "    ├ LineSegments{Tuple{Vector{Point{2, Float32}}}}\n",
       "    ├ Scatter{Tuple{Vector{Point{2, Float32}}}}\n",
       "    ├ MakieCore.Text{Tuple{String}}\n",
       "    ├ MakieCore.Text{Tuple{String}}\n",
       "    ├ Scatter{Tuple{Vector{Point{2, Float32}}}}\n",
       "    ├ LineSegments{Tuple{Vector{Point{2, Float32}}}}\n",
       "    ├ Scatter{Tuple{Vector{Point{2, Float32}}}}\n",
       "    ├ MakieCore.Text{Tuple{String}}\n",
       "    ├ MakieCore.Text{Tuple{String}}\n",
       "    ├ Scatter{Tuple{Vector{Point{2, Float32}}}}\n",
       "    ├ LineSegments{Tuple{Vector{Point{2, Float32}}}}\n",
       "    ├ Scatter{Tuple{Vector{Point{2, Float32}}}}\n",
       "    ├ MakieCore.Text{Tuple{String}}\n",
       "    ├ MakieCore.Text{Tuple{String}}\n",
       "    ├ Scatter{Tuple{Vector{Point{2, Float32}}}}\n",
       "    ├ LineSegments{Tuple{Vector{Point{2, Float32}}}}\n",
       "    ├ Scatter{Tuple{Vector{Point{2, Float32}}}}\n",
       "    ├ MakieCore.Text{Tuple{String}}\n",
       "    ├ MakieCore.Text{Tuple{String}}\n",
       "    ├ Scatter{Tuple{Vector{Point{2, Float32}}}}\n",
       "    ├ LineSegments{Tuple{Vector{Point{2, Float32}}}}\n",
       "    ├ Scatter{Tuple{Vector{Point{2, Float32}}}}\n",
       "    ├ MakieCore.Text{Tuple{String}}\n",
       "    ├ MakieCore.Text{Tuple{String}}\n",
       "    ├ Combined{Makie.poly, Tuple{Vector{Vector{Point{2, Float32}}}}}\n",
       "    ├ LineSegments{Tuple{Vector{Point{2, Float32}}}}\n",
       "    ├ LineSegments{Tuple{Vector{Point{2, Float32}}}}\n",
       "    ├ LineSegments{Tuple{Vector{Point{2, Float32}}}}\n",
       "    ├ LineSegments{Tuple{Vector{Point{2, Float32}}}}\n",
       "    ├ LineSegments{Tuple{Vector{Point{2, Float32}}}}\n",
       "    ├ LineSegments{Tuple{Vector{Point{2, Float32}}}}\n",
       "    ├ MakieCore.Text{Tuple{String}}\n",
       "    ├ Lines{Tuple{Vector{Point{2, Float32}}}}\n",
       "    ├ MakieCore.Text{Tuple{Vector{Tuple{AbstractString, Point{2, Float32}}}}}\n",
       "    ├ LineSegments{Tuple{Vector{Point{2, Float32}}}}\n",
       "    ├ LineSegments{Tuple{Vector{Point{2, Float32}}}}\n",
       "    ├ MakieCore.Text{Tuple{String}}\n",
       "    ├ Lines{Tuple{Vector{Point{2, Float32}}}}\n",
       "    ├ MakieCore.Text{Tuple{Vector{Tuple{AbstractString, Point{2, Float32}}}}}\n",
       "    ├ Lines{Tuple{Vector{Point{2, Float32}}}}\n",
       "    ├ Lines{Tuple{Vector{Point{2, Float32}}}}\n",
       "    ├ MakieCore.Text{Tuple{String}}\n",
       "    ├ Combined{Makie.poly, Tuple{Vector{Vector{Point{2, Float32}}}}}\n",
       "    ├ LineSegments{Tuple{Vector{Point{2, Float32}}}}\n",
       "    ├ LineSegments{Tuple{Vector{Point{2, Float32}}}}\n",
       "    ├ LineSegments{Tuple{Vector{Point{2, Float32}}}}\n",
       "    ├ LineSegments{Tuple{Vector{Point{2, Float32}}}}\n",
       "    ├ LineSegments{Tuple{Vector{Point{2, Float32}}}}\n",
       "    ├ LineSegments{Tuple{Vector{Point{2, Float32}}}}\n",
       "    ├ MakieCore.Text{Tuple{String}}\n",
       "    ├ Lines{Tuple{Vector{Point{2, Float32}}}}\n",
       "    ├ MakieCore.Text{Tuple{Vector{Tuple{AbstractString, Point{2, Float32}}}}}\n",
       "    ├ LineSegments{Tuple{Vector{Point{2, Float32}}}}\n",
       "    ├ LineSegments{Tuple{Vector{Point{2, Float32}}}}\n",
       "    ├ MakieCore.Text{Tuple{String}}\n",
       "    ├ Lines{Tuple{Vector{Point{2, Float32}}}}\n",
       "    ├ MakieCore.Text{Tuple{Vector{Tuple{AbstractString, Point{2, Float32}}}}}\n",
       "    ├ Lines{Tuple{Vector{Point{2, Float32}}}}\n",
       "    ├ Lines{Tuple{Vector{Point{2, Float32}}}}\n",
       "    ├ MakieCore.Text{Tuple{String}}\n",
       "    ├ Combined{Makie.poly, Tuple{Vector{Vector{Point{2, Float32}}}}}\n",
       "    ├ LineSegments{Tuple{Vector{Point{2, Float32}}}}\n",
       "    ├ LineSegments{Tuple{Vector{Point{2, Float32}}}}\n",
       "    ├ LineSegments{Tuple{Vector{Point{2, Float32}}}}\n",
       "    ├ LineSegments{Tuple{Vector{Point{2, Float32}}}}\n",
       "    ├ LineSegments{Tuple{Vector{Point{2, Float32}}}}\n",
       "    ├ LineSegments{Tuple{Vector{Point{2, Float32}}}}\n",
       "    ├ MakieCore.Text{Tuple{String}}\n",
       "    ├ Lines{Tuple{Vector{Point{2, Float32}}}}\n",
       "    ├ MakieCore.Text{Tuple{Vector{Tuple{AbstractString, Point{2, Float32}}}}}\n",
       "    ├ LineSegments{Tuple{Vector{Point{2, Float32}}}}\n",
       "    ├ LineSegments{Tuple{Vector{Point{2, Float32}}}}\n",
       "    ├ MakieCore.Text{Tuple{String}}\n",
       "    ├ Lines{Tuple{Vector{Point{2, Float32}}}}\n",
       "    ├ MakieCore.Text{Tuple{Vector{Tuple{AbstractString, Point{2, Float32}}}}}\n",
       "    ├ Lines{Tuple{Vector{Point{2, Float32}}}}\n",
       "    ├ Lines{Tuple{Vector{Point{2, Float32}}}}\n",
       "    └ MakieCore.Text{Tuple{String}}\n",
       "  8 Child Scenes:\n",
       "    ├ Scene (593px, 594px)\n",
       "    ├ Scene (53px, 39px)\n",
       "    ├ Scene (44px, 39px)\n",
       "    ├ Scene (59px, 39px)\n",
       "    ├ Scene (75px, 39px)\n",
       "    ├ Scene (722px, 167px)\n",
       "    ├ Scene (722px, 167px)\n",
       "    └ Scene (722px, 167px), \u001b[1m1×2 DataFrame\u001b[0m\n",
       "\u001b[1m Row \u001b[0m│\u001b[1m step  \u001b[0m\u001b[1m sum_GDP \u001b[0m\n",
       "\u001b[1m     \u001b[0m│\u001b[90m Int64 \u001b[0m\u001b[90m Int64   \u001b[0m\n",
       "─────┼────────────────\n",
       "   1 │     0        4, \u001b[1m1×3 DataFrame\u001b[0m\n",
       "\u001b[1m Row \u001b[0m│\u001b[1m step  \u001b[0m\u001b[1m mean_MT_size \u001b[0m\u001b[1m sd_MT_size \u001b[0m\n",
       "\u001b[1m     \u001b[0m│\u001b[90m Int64 \u001b[0m\u001b[90m Float64      \u001b[0m\u001b[90m Float64    \u001b[0m\n",
       "─────┼─────────────────────────────────\n",
       "   1 │     0           1.0         0.0)"
      ]
     },
     "execution_count": 14,
     "metadata": {},
     "output_type": "execute_result"
    }
   ],
   "source": [
    "# Interactive Model\n",
    "using InteractiveDynamics\n",
    "using GLMakie\n",
    "\n",
    "params = Dict(\n",
    "    :p_hyd => 0:0.01:1,\n",
    "    :p_polym => 0:0.01:1,\n",
    "    :p_depolym_GTP => 0:0.01:1,\n",
    "    :p_depolym_GDP =>0:0.01:1\n",
    ")\n",
    "GLMakie.activate!()\n",
    "# stats\n",
    "# coloring\n",
    "groupcolor(a) = a.polym >= 1 ? :red : :blue\n",
    "groupmarker(a) = a.GDP == true ? :circle : :octagon\n",
    "mdata=[mean_MT_size,sd_MT_size]\n",
    "mlabels=[\"mean MT length\", \"sd\"]\n",
    "adata = [(:GDP,sum)]\n",
    "alabels = [\"Hydrolized\"]\n",
    "\n",
    "fig, adf, mdf = abm_data_exploration(\n",
    "    model, agent_step!, model_step!, params;\n",
    "    ac=groupcolor, am=groupmarker, adata,alabels,mdata,mlabels\n",
    ")"
   ]
  },
  {
   "cell_type": "code",
   "execution_count": null,
   "metadata": {},
   "outputs": [],
   "source": [
    "step!(model,agent_step!,model_step!,1)"
   ]
  },
  {
   "cell_type": "code",
   "execution_count": 7,
   "metadata": {},
   "outputs": [
    {
     "data": {
      "text/plain": [
       "mean_MT_size (generic function with 1 method)"
      ]
     },
     "execution_count": 7,
     "metadata": {},
     "output_type": "execute_result"
    }
   ],
   "source": [
    "# Function to calculate mean of microtubule length\n",
    "function mean_MT_size(model)\n",
    "    meanMTL=mean(counts([model.agents[i].polym for i in 1:length(model.agents)])[setdiff(1:end, 1), 1])\n",
    "\n",
    "end"
   ]
  },
  {
   "cell_type": "code",
   "execution_count": 8,
   "metadata": {},
   "outputs": [
    {
     "data": {
      "text/plain": [
       "sd_MT_size (generic function with 1 method)"
      ]
     },
     "execution_count": 8,
     "metadata": {},
     "output_type": "execute_result"
    }
   ],
   "source": [
    "# Function to calculate standart devation of microtubule length\n",
    "function sd_MT_size(model)\n",
    "    stdMTL=std(counts([model.agents[i].polym for i in 1:length(model.agents)])[setdiff(1:end, 1), 1])\n",
    "end"
   ]
  },
  {
   "cell_type": "code",
   "execution_count": 11,
   "metadata": {},
   "outputs": [
    {
     "data": {
      "text/plain": [
       "(\u001b[1m101404×5 DataFrame\u001b[0m\n",
       "\u001b[1m    Row \u001b[0m│\u001b[1m step  \u001b[0m\u001b[1m id    \u001b[0m\u001b[1m pos       \u001b[0m\u001b[1m GDP   \u001b[0m\u001b[1m polym \u001b[0m\n",
       "\u001b[1m        \u001b[0m│\u001b[90m Int64 \u001b[0m\u001b[90m Int64 \u001b[0m\u001b[90m Tuple…    \u001b[0m\u001b[90m Bool  \u001b[0m\u001b[90m Int64 \u001b[0m\n",
       "────────┼───────────────────────────────────────\n",
       "      1 │     0      1  (50, 50)    true      1\n",
       "      2 │     0      2  (85, 87)    true      2\n",
       "      3 │     0      3  (34, 42)    true      3\n",
       "      4 │     0      4  (94, 90)    true      4\n",
       "      5 │     0      5  (38, 100)  false      0\n",
       "      6 │     0      6  (44, 18)   false      0\n",
       "      7 │     0      7  (18, 65)   false      0\n",
       "      8 │     0      8  (85, 33)   false      0\n",
       "      9 │     0      9  (27, 24)   false      0\n",
       "     10 │     0     10  (64, 17)   false      0\n",
       "     11 │     0     11  (84, 79)   false      0\n",
       "   ⋮    │   ⋮      ⋮        ⋮        ⋮      ⋮\n",
       " 101395 │   100    995  (48, 41)   false      0\n",
       " 101396 │   100    996  (1, 7)     false      0\n",
       " 101397 │   100    997  (49, 59)   false      0\n",
       " 101398 │   100    998  (76, 84)   false      0\n",
       " 101399 │   100    999  (25, 63)   false      0\n",
       " 101400 │   100   1000  (65, 100)  false      0\n",
       " 101401 │   100   1001  (62, 8)    false      0\n",
       " 101402 │   100   1002  (50, 52)   false      0\n",
       " 101403 │   100   1003  (54, 34)   false      0\n",
       " 101404 │   100   1004  (43, 2)    false      0\n",
       "\u001b[36m                             101383 rows omitted\u001b[0m, \u001b[1m101×4 DataFrame\u001b[0m\n",
       "\u001b[1m Row \u001b[0m│\u001b[1m step  \u001b[0m\u001b[1m tick  \u001b[0m\u001b[1m mean_MT_size \u001b[0m\u001b[1m sd_MT_size \u001b[0m\n",
       "\u001b[1m     \u001b[0m│\u001b[90m Int64 \u001b[0m\u001b[90m Int64 \u001b[0m\u001b[90m Float64      \u001b[0m\u001b[90m Float64    \u001b[0m\n",
       "─────┼────────────────────────────────────────\n",
       "   1 │     0      0          9.75     2.62996\n",
       "   2 │     1      0          9.75     2.62996\n",
       "   3 │     2      0          9.75     2.62996\n",
       "   4 │     3      0         10.0      2.70801\n",
       "   5 │     4      0         10.0      2.70801\n",
       "   6 │     5      0          9.75     2.62996\n",
       "   7 │     6      0          9.75     2.62996\n",
       "   8 │     7      0          9.75     2.62996\n",
       "   9 │     8      0         10.0      2.16025\n",
       "  10 │     9      0         10.0      2.16025\n",
       "  11 │    10      0         10.0      2.16025\n",
       "  ⋮  │   ⋮      ⋮         ⋮            ⋮\n",
       "  92 │    91      0         12.5      1.91485\n",
       "  93 │    92      0         12.5      1.91485\n",
       "  94 │    93      0         12.75     1.89297\n",
       "  95 │    94      0         12.75     1.89297\n",
       "  96 │    95      0         12.75     1.89297\n",
       "  97 │    96      0         13.0      2.16025\n",
       "  98 │    97      0         13.0      2.16025\n",
       "  99 │    98      0         13.0      2.16025\n",
       " 100 │    99      0         13.0      2.16025\n",
       " 101 │   100      0         13.5      1.91485\n",
       "\u001b[36m                               80 rows omitted\u001b[0m)"
      ]
     },
     "execution_count": 11,
     "metadata": {},
     "output_type": "execute_result"
    }
   ],
   "source": [
    "### Data collection\n",
    "#using Statistics: mean\n",
    "adata = [:pos,:GDP,:polym,] # agent data\n",
    "mdata=[:tick, mean_MT_size,sd_MT_size]\n",
    "#data = run!(model,agent_step!,100;adata)\n",
    "\n",
    "data, _ = run!(model,agent_step!,100;adata, mdata)\n",
    "\n"
   ]
  },
  {
   "cell_type": "code",
   "execution_count": null,
   "metadata": {},
   "outputs": [],
   "source": [
    "parameters=Dict(\n",
    "            :griddims => (100,100),\n",
    "            :periodic => true,\n",
    "            :Nstarts => collect(3:6),\n",
    "            :numagents => [800,1000,1200],\n",
    "            :p_hyd => [0.001,0.005,0.01,0.05],\n",
    "            :p_polym=>[0.7,0.8,0.9],\n",
    "            :p_depolym_GTP=> [0.005,0.001],\n",
    "            :p_depolym_GDP=>[0.05,0.01,0.1])\n"
   ]
  },
  {
   "cell_type": "code",
   "execution_count": null,
   "metadata": {},
   "outputs": [],
   "source": [
    "data = paramscan(parameters, initialize; adata, mdata, agent_step!, model_step!, n = 3)"
   ]
  },
  {
   "cell_type": "code",
   "execution_count": null,
   "metadata": {},
   "outputs": [],
   "source": [
    "## Ensemble run RW\n",
    "# Build ensemble of models\n",
    "\n",
    "models = [initialize(; Nstarts=0,\n",
    "        periodic= true,\n",
    "        numagents = 1000,\n",
    "        griddims=(x,x), \n",
    "        p_hyd=0,\n",
    "        p_polym=0,\n",
    "        p_depolym_GTP=0,\n",
    "        p_depolym_GDP=0) for x in repeat([80, 100, 200], 30)];\n",
    "\n",
    "adata = [:pos]\n",
    "\n",
    "adf, = ensemblerun!(models, agent_step!, model_step!, 2000; adata)\n",
    "using CSV\n",
    "CSV.write(\"data/Periodic_ensemble_80_100_200_1kagents_a30_2500_step_runs.csv\", adf)"
   ]
  },
  {
   "cell_type": "code",
   "execution_count": null,
   "metadata": {},
   "outputs": [],
   "source": [
    "## Ensemble run Microtubuli simulation\n",
    "models = [initialize(; Nstarts=15,\n",
    "        periodic= true,\n",
    "        numagents = 1000,\n",
    "        griddims=(x,x), \n",
    "        p_polym=0.80,\n",
    "        p_hyd= 0.02,\n",
    "        p_depolym_GTP=0,\n",
    "        p_depolym_GDP=0.03) for x in repeat([120,150, 200], 30)];\n",
    "\n",
    "adata = [:pos]\n",
    "\n",
    "adf, = ensemblerun!(models, agent_step!, model_step!, 2000; adata)"
   ]
  },
  {
   "cell_type": "code",
   "execution_count": null,
   "metadata": {},
   "outputs": [],
   "source": [
    "?paramscan\n"
   ]
  },
  {
   "cell_type": "code",
   "execution_count": null,
   "metadata": {},
   "outputs": [],
   "source": [
    "## MSD for multiple ensembles\n",
    "\n",
    "MSDS = DataFrame(Step= levels(adf.step))\n",
    "for i in levels(adf.ensemble)\n",
    "    name = Symbol(\"ens_$i\")\n",
    "    MSDS[!,name] = MSD(adf[(adf.ensemble .== i ),:])\n",
    "end\n",
    "\n",
    "CSV.write(\"Periodic_simulation_120_150_200_1kagents_a30_2000_step_runs.csv\", MSDS)"
   ]
  },
  {
   "cell_type": "code",
   "execution_count": null,
   "metadata": {},
   "outputs": [],
   "source": [
    "CSV.write(\"Periodic_simulation_120_150_200_1kagents_a30_2000_step_runs.csv\", adf)"
   ]
  },
  {
   "cell_type": "code",
   "execution_count": null,
   "metadata": {},
   "outputs": [],
   "source": []
  }
 ],
 "metadata": {
  "kernelspec": {
   "display_name": "Julia 1.6.2",
   "language": "julia",
   "name": "julia-1.6"
  },
  "language_info": {
   "file_extension": ".jl",
   "mimetype": "application/julia",
   "name": "julia",
   "version": "1.6.2"
  }
 },
 "nbformat": 4,
 "nbformat_minor": 5
}
